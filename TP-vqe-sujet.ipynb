{
 "cells": [
  {
   "cell_type": "markdown",
   "metadata": {},
   "source": [
    "# VQE and QAOA to solve MAXCUT\n",
    "\n",
    "\n",
    "## 1 Some prerequisites\n",
    "\n",
    "\n",
    "### 1.1 - Making sure we have qiskit installed"
   ]
  },
  {
   "cell_type": "code",
   "execution_count": 10,
   "metadata": {},
   "outputs": [],
   "source": [
    "import numpy as np\n",
    "from math import pi\n",
    "try:\n",
    "    from qiskit import *\n",
    "    from qiskit_aer import AerSimulator\n",
    "except:\n",
    "    ! python -m pip install matplotlib pylatexenc\n",
    "    ! python -m pip install qiskit qiskit-aer\n",
    "    from qiskit import *\n",
    "from scipy import optimize\n",
    "%matplotlib inline"
   ]
  },
  {
   "cell_type": "markdown",
   "metadata": {},
   "source": [
    "### 1.2 - Finding the minimum of a function in Python\n",
    "\n",
    "I suggest to use the the operator `optimize.minimize`. Below an example of usage.\n"
   ]
  },
  {
   "cell_type": "code",
   "execution_count": 11,
   "metadata": {},
   "outputs": [],
   "source": [
    "# The function f takes as input a list of 10 variables\n",
    "def f(xs):\n",
    "    res = 0\n",
    "    for i in range(10):\n",
    "        res = res+(xs[i]-i)*(xs[i]-i)\n",
    "    return res"
   ]
  },
  {
   "cell_type": "markdown",
   "metadata": {},
   "source": [
    "The function $f$ computes $\\vec{x}\\mapsto x_0^2+(x_1-1)^2+(x_2-2)^2+(x_3-3)^2+(x_4-4)^2...$\n",
    "\n",
    "Its minimum is the vector $(0,1,2,3,4,5,6,7,8,9,10)$"
   ]
  },
  {
   "cell_type": "code",
   "execution_count": 12,
   "metadata": {},
   "outputs": [
    {
     "data": {
      "text/plain": [
       " message: Optimization terminated successfully.\n",
       " success: True\n",
       "  status: 0\n",
       "     fun: 5.018264692853602e-28\n",
       "       x: [ 1.443e-15  1.000e+00  2.000e+00  3.000e+00  4.000e+00\n",
       "            5.000e+00  6.000e+00  7.000e+00  8.000e+00  9.000e+00]\n",
       "     nit: 3\n",
       "   direc: [[ 1.000e+00  0.000e+00 ...  0.000e+00  0.000e+00]\n",
       "           [ 0.000e+00  1.000e+00 ...  0.000e+00  0.000e+00]\n",
       "           ...\n",
       "           [ 0.000e+00  0.000e+00 ...  1.000e+00  0.000e+00]\n",
       "           [ 0.000e+00  0.000e+00 ...  0.000e+00  1.000e+00]]\n",
       "    nfev: 254"
      ]
     },
     "execution_count": 12,
     "metadata": {},
     "output_type": "execute_result"
    }
   ],
   "source": [
    "# Let us infer this minimum. \n",
    "# The operator minimize takes as input the function f, a starting value as a guess, and a method.\n",
    "# Powell is supposed to be well-suited for the case where we have plenty of variables...\n",
    "# The manual : https://docs.scipy.org/doc/scipy/reference/optimize.minimize-powell.html\n",
    "o = optimize.minimize(f, [1 for i in range(10)], method=\"Powell\") \n",
    "o"
   ]
  },
  {
   "cell_type": "code",
   "execution_count": 13,
   "metadata": {},
   "outputs": [
    {
     "data": {
      "text/plain": [
       "[np.float64(1.4432899320127035e-15),\n",
       " np.float64(1.0),\n",
       " np.float64(2.0),\n",
       " np.float64(2.9999999999999987),\n",
       " np.float64(3.9999999999999916),\n",
       " np.float64(5.000000000000003),\n",
       " np.float64(5.999999999999991),\n",
       " np.float64(6.9999999999999964),\n",
       " np.float64(7.9999999999999964),\n",
       " np.float64(9.000000000000018)]"
      ]
     },
     "execution_count": 13,
     "metadata": {},
     "output_type": "execute_result"
    }
   ],
   "source": [
    "# The inferred minimum vector is stored at the key `x`:\n",
    "list(o.x)"
   ]
  },
  {
   "cell_type": "markdown",
   "metadata": {},
   "source": [
    "### 1.3 - BEWARE\n",
    "\n",
    "We shall heavily rely on the backend `qasm_simulator`, which returns a dictionary of the form \n",
    "\n",
    "`{result1: nber_of_draw, result2: nber_of_draw, ...}`\n",
    "\n",
    "The results are strings of `0` and `1`. For instance, if one measure a Bell state one can expect the result `{\"00\" : 500, \"11\": 500}` if we asked for 1000 runs.\n",
    "\n",
    "However, one has to remember that the string is in the \"wrong\" order: the last bit corresponds to the first qubit.\n",
    "For instance, here is what I mean:"
   ]
  },
  {
   "cell_type": "code",
   "execution_count": 14,
   "metadata": {},
   "outputs": [
    {
     "data": {
      "text/plain": [
       "{'01': 1024}"
      ]
     },
     "execution_count": 14,
     "metadata": {},
     "output_type": "execute_result"
    }
   ],
   "source": [
    "q = QuantumRegister(2)\n",
    "c = ClassicalRegister(2)\n",
    "qc = QuantumCircuit(q,c)\n",
    "\n",
    "# Applying X on qubit 0\n",
    "qc.x(q[0])\n",
    "\n",
    "# So at the end the state is |10>\n",
    "qc.measure(q,c)\n",
    "\n",
    "qc.draw()\n",
    "\n",
    "# But then, the register c[0] holds 1 and c[1] holds 0, as shown here:\n",
    "simulator = AerSimulator()\n",
    "job = simulator.run(qc.decompose(reps=6), shots=1024)\n",
    "res = dict(job.result().get_counts(qc))\n",
    "res"
   ]
  },
  {
   "cell_type": "markdown",
   "metadata": {},
   "source": [
    "We have $b_1b_0$ instead of $b_0b_1$ ... Do not forget this side-effect !"
   ]
  },
  {
   "cell_type": "markdown",
   "metadata": {},
   "source": [
    "## 2 - Coding graphs"
   ]
  },
  {
   "cell_type": "markdown",
   "metadata": {},
   "source": [
    "In this lab session, we code graphs as follows:\n",
    " - nodes are numbers `0,1,2,3...`\n",
    " - edges are stored with dictionary: to a node one associates a set of its neighbourgs.\n",
    "\n",
    "The graphs are non-directed: we take as convention that if `g` is a graph and if $j \\in g[i]$, then $i<j$.\n",
    "\n",
    "Some examples are as follows."
   ]
  },
  {
   "cell_type": "code",
   "execution_count": 15,
   "metadata": {},
   "outputs": [],
   "source": [
    "g1 = {0: set([1,2]), 1:set([2,3]), 2:set([3])}\n",
    "g2 = {0: set([1,2,3])}\n",
    "g3 = {0: set([1]), 1: set([2]), 2: set([3])}"
   ]
  },
  {
   "cell_type": "markdown",
   "metadata": {},
   "source": [
    "### 2.1 - Cuts in a graph\n",
    "\n",
    "for a graph with nodes $0,1,2,3,...n$, a **cut** is written as a string $b_n...b_2b_1b_0$ with $b_i$ characters `0` or `1`. The node $i$ belongs to the set $V_{b_i}$. For instance, `1010` corresponds to the two sets $V_0=\\{0,2\\}$ and $V_1=\\{1,3\\}$.\n",
    "\n",
    "Note how we read the nodes backward in the string: this is due to the way the measure is handled in Qiskit.\n",
    "\n",
    "Given a cut `s` for a graph `g`, the **cost** of the cut is the number of edges crossing it."
   ]
  },
  {
   "cell_type": "markdown",
   "metadata": {},
   "source": [
    "#### TODO Implement the function computing the cost of a cut"
   ]
  },
  {
   "cell_type": "code",
   "execution_count": 7,
   "metadata": {},
   "outputs": [],
   "source": [
    "def costOfCut(g,s): # g is a graph, s is a cut\n",
    "    r = 0\n",
    "    \n",
    "    # TODO : UPDATE r\n",
    "    \n",
    "    return r"
   ]
  },
  {
   "cell_type": "code",
   "execution_count": 8,
   "metadata": {},
   "outputs": [
    {
     "name": "stdout",
     "output_type": "stream",
     "text": [
      "0\n",
      "0\n",
      "0\n"
     ]
    }
   ],
   "source": [
    "# Tests\n",
    "\n",
    "print(costOfCut(g1,\"0110\")) # Should be 4\n",
    "print(costOfCut(g2,\"0111\")) # Should be 1\n",
    "print(costOfCut(g2,\"1110\")) # Should be 3"
   ]
  },
  {
   "cell_type": "markdown",
   "metadata": {},
   "source": [
    "### 2.2 - Scalar product\n",
    "\n",
    "In both VQE and QAOA, we are interested in finding the eigenvector of minimum eigenvalue for the Hamiltonian\n",
    "$$\n",
    "H_C = -\\sum_x C(x)|x\\rangle\\langle x|\n",
    "$$\n",
    "where $C$ is the cost function `costOfCut` for the graph.\n",
    "\n",
    "For this, we discussed how it is sufficient to look for the vector $|\\phi\\rangle$ minimizing\n",
    "$$\n",
    "|\\phi\\rangle \\mapsto \\langle \\phi|H_C|\\phi\\rangle\n",
    "$$\n",
    "\n",
    "We also discussed how to estimate $\\langle \\phi|H_C|\\phi\\rangle$ from a probabilistic distribution of measurements of $|\\phi\\rangle$.\n",
    "\n",
    "\n",
    "#### TODO Implement the scalar product\n",
    "\n",
    "The input `d` is assumed to be the probabilistic distribution corresponding to the result of a measurement, for instance `d` could be\n",
    "\n",
    "   `{ \"00\" : 0.5, \"11\" : 0.5\" }`\n",
    "   \n",
    "if it were the result of measuring a Bell state. \n",
    "\n",
    "Recall that we are in the case where the Hamiltonian is diagonal, so the computation is very simple. Remember also that we are looking to MAXIMIZE a value but that VQE will perform a minimization..."
   ]
  },
  {
   "cell_type": "code",
   "execution_count": 9,
   "metadata": {},
   "outputs": [],
   "source": [
    "def scalprod(g,d):\n",
    "    r = 0\n",
    "    \n",
    "    # TODO : COMPUTE r\n",
    "    \n",
    "    return -r  # I added the minus sign for you..."
   ]
  },
  {
   "cell_type": "markdown",
   "metadata": {},
   "source": [
    "## 2 - MAXCUT with VQE"
   ]
  },
  {
   "cell_type": "markdown",
   "metadata": {},
   "source": [
    "We need to be able to build parameterized gates. As discussed in the course, a general gate on one qubit can always be written using 3 angles. In QisKit, this is the gate  `u`. Here is a small self-contained example of building  circuit with this gate, and running the circuit"
   ]
  },
  {
   "cell_type": "code",
   "execution_count": 10,
   "metadata": {},
   "outputs": [
    {
     "data": {
      "text/html": [
       "<pre style=\"word-wrap: normal;white-space: pre;background: #fff0;line-height: 1.1;font-family: &quot;Courier New&quot;,Courier,monospace\">   ┌───────────────────┐\n",
       "q: ┤ U(1.23,2.34,4.56) ├\n",
       "   └───────────────────┘</pre>"
      ],
      "text/plain": [
       "   ┌───────────────────┐\n",
       "q: ┤ U(1.23,2.34,4.56) ├\n",
       "   └───────────────────┘"
      ]
     },
     "execution_count": 10,
     "metadata": {},
     "output_type": "execute_result"
    }
   ],
   "source": [
    "# A very simple circuit\n",
    "q = QuantumRegister(1, name=\"q\")\n",
    "qc = QuantumCircuit(q)\n",
    "\n",
    "# To apply a generic gate on qubit 0:\n",
    "angle1 = 1.23\n",
    "angle2 = 2.34\n",
    "angle3 = 4.56\n",
    "qc.u(angle1,angle2,angle3,q[0])\n",
    "\n",
    "# see in particular\n",
    "# https://qiskit.org/documentation/tutorials/circuits/3_summary_of_quantum_operations.html#u-gates\n",
    "\n",
    "qc.draw()"
   ]
  },
  {
   "attachments": {
    "image.png": {
     "image/png": "[encoded data removed]"
    }
   },
   "cell_type": "markdown",
   "metadata": {},
   "source": [
    "### 2.1 - The problem\n",
    "\n",
    "We shall be coding VQE for the Hamiltonian steaming from MAXCUT, exactly the way we saw it on the board. As discussed, the objective is to find the maximal cut of the graph `g1`, drawn as below:\n",
    "\n",
    "![image.png](attachment:image.png)\n",
    "\n",
    "\n"
   ]
  },
  {
   "attachments": {
    "image-2.png": {
     "image/png": "[encoded data removed]"
    }
   },
   "cell_type": "markdown",
   "metadata": {},
   "source": [
    "The problem can be splitted in two parts : \n",
    "* Generate a probability distribution\n",
    "* Infer the scalar product out of this distribution\n",
    "\n",
    "### 2.2 - Implementation\n",
    "\n",
    "We already have the function for computing the scalar product: remains generating the probabilistic distribution, as with the circuit we saw in class.\n",
    "\n",
    "#### TODO fill in the following function\n",
    "\n",
    "It inputs a list of angles to be used to make columns of CNOTS and u gates. The u-gates rotates the state while the CNOTs are there to create some entanglement. The way the CNOTs are placed is not very important, as long as all wires are connected. For instance, we can use the following circuit:\n",
    "\n",
    "![image-2.png](attachment:image-2.png)\n",
    "\n",
    "with a measurement at the end. Each $U_3$ is the generic u-gate defined with 3 angles, so each tower of U's requires 12 angles. A series of 3 layers, as displayed above, therefore needs an array of 36 angles. One can use more, or less layers: the goal is to be able to attain as much states as possible.\n",
    "\n",
    "**Note** This is an *example of ansatz*, a \"circuit with holes\". It is not necessarily the only one, nor the best one. And in fact, the QAOA proposes another ansatz, more suitable.\n",
    "\n",
    "\n",
    "We then want to return an estimate of the probabilistic distribution steaming from the measurement of the memory."
   ]
  },
  {
   "cell_type": "code",
   "execution_count": 11,
   "metadata": {},
   "outputs": [],
   "source": [
    "def probDistVQE(a): # The variable a contains a list of angles (real numbers).\n",
    "    q = QuantumRegister(4)\n",
    "    c = ClassicalRegister(4)\n",
    "    qc = QuantumCircuit(q,c)\n",
    "    \n",
    "    \n",
    "    \n",
    "    # TODO : circuit for VQE\n",
    "    \n",
    "    \n",
    "\n",
    "    # At this stage, the circuit should have \"computed\" the candidate vector |phi> needed \n",
    "    # for the computation <phi|Hamiltonien|phi>. We cannot do this here, but we can measure and \n",
    "    # do it offline, with the probability distribution.\n",
    "    \n",
    "    # We then add a measure at the end\n",
    "    qc.measure(q, c)\n",
    "    \n",
    "    # We set up a backend\n",
    "    backend = BasicAer.get_backend('qasm_simulator')\n",
    "    \n",
    "    # 1000 runs on the backend\n",
    "    job = execute(qc, backend, shots=1000)\n",
    "\n",
    "    # Collect the results\n",
    "    res = dict(job.result().get_counts(qc))\n",
    "    \n",
    "    # Renormalize so that the gradients are not awfull\n",
    "    for i in res:\n",
    "        res[i] = res[i] / 1000\n",
    "    \n",
    "    # Return the final distribution\n",
    "    return res"
   ]
  },
  {
   "cell_type": "markdown",
   "metadata": {},
   "source": [
    "The function `probDistVQE` is the one we want to minimize. It is enough to call `optimize.minimize`. As input table, we can take whatever we want (`[0.0, 0,0,.... 0.0]` for instance).\n",
    "\n",
    "Then, if `o` contains the answer to the call to `optimize.minimize`:\n",
    "* `list(o.x)` is a table of angles which answers the problem\n",
    "* It is enough to give it as argument to `probDistVQE` to get the distribution maximizing the probability of the \"*good cuts*\".\n",
    "\n",
    "**BEWARE** the variable `initAngles` should only contains floats, not integers..."
   ]
  },
  {
   "cell_type": "code",
   "execution_count": 12,
   "metadata": {},
   "outputs": [
    {
     "data": {
      "text/plain": [
       "{'0000': 1.0}"
      ]
     },
     "execution_count": 12,
     "metadata": {},
     "output_type": "execute_result"
    }
   ],
   "source": [
    "# The graph\n",
    "g = g1\n",
    "\n",
    "# The function to minimize\n",
    "def toMinimizeVQE(a):\n",
    "    return scalprod(g,probDistVQE(a))\n",
    "\n",
    "# Initial guess for the angle\n",
    "initAngles=[0.0 for i in range(12*3)]\n",
    "\n",
    "# Let us minimize it\n",
    "o = optimize.minimize(toMinimizeVQE, initAngles, method=\"Powell\") \n",
    "\n",
    "# Let us retrieve the probability distribution\n",
    "probDistVQE(list(o.x))\n",
    "\n",
    "# Slowww but normal"
   ]
  },
  {
   "cell_type": "markdown",
   "metadata": {},
   "source": [
    "### 2.3 - Questions and discussion\n",
    "\n",
    "* What are the various proposed cuts $(V_{0},V_{1})$ ?\n",
    "\n",
    "* Change the graph and check that it does not work \"just by chance\" (for instance, use `g2`, `g3`, or your own).\n",
    "\n",
    "*  Are all possible cuts there ?\n",
    "\n",
    "* The problem is symmetric, in the sense that if '0110' is an answer, so is '1001'. Is this reflected in the resulting probabilities ?\n",
    "\n",
    "* If we had access to a real quantum co-processor, how would the code change ?"
   ]
  }
 ],
 "metadata": {
  "kernelspec": {
   "display_name": "Python 3 (ipykernel)",
   "language": "python",
   "name": "python3"
  },
  "language_info": {
   "codemirror_mode": {
    "name": "ipython",
    "version": 3
   },
   "file_extension": ".py",
   "mimetype": "text/x-python",
   "name": "python",
   "nbconvert_exporter": "python",
   "pygments_lexer": "ipython3",
   "version": "3.12.7"
  }
 },
 "nbformat": 4,
 "nbformat_minor": 4
}
