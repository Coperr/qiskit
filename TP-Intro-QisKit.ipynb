{
 "cells": [
  {
   "cell_type": "markdown",
   "metadata": {},
   "source": [
    "# Introduction to QisKit\n",
    "\n",
    "# There is nothing to hand out here"
   ]
  },
  {
   "cell_type": "markdown",
   "metadata": {},
   "source": [
    "First, some libraries to load up front"
   ]
  },
  {
   "cell_type": "code",
   "execution_count": 1,
   "metadata": {},
   "outputs": [
    {
     "name": "stdout",
     "output_type": "stream",
     "text": [
      "Collecting matplotlib\n",
      "  Downloading matplotlib-3.9.2-cp312-cp312-manylinux_2_17_x86_64.manylinux2014_x86_64.whl.metadata (11 kB)\n",
      "Collecting pylatexenc\n",
      "  Downloading pylatexenc-2.10.tar.gz (162 kB)\n",
      "  Installing build dependencies ... \u001b[?25ldone\n",
      "\u001b[?25h  Getting requirements to build wheel ... \u001b[?25ldone\n",
      "\u001b[?25h  Preparing metadata (pyproject.toml) ... \u001b[?25ldone\n",
      "\u001b[?25hCollecting contourpy>=1.0.1 (from matplotlib)\n",
      "  Downloading contourpy-1.3.0-cp312-cp312-manylinux_2_17_x86_64.manylinux2014_x86_64.whl.metadata (5.4 kB)\n",
      "Collecting cycler>=0.10 (from matplotlib)\n",
      "  Downloading cycler-0.12.1-py3-none-any.whl.metadata (3.8 kB)\n",
      "Collecting fonttools>=4.22.0 (from matplotlib)\n",
      "  Downloading fonttools-4.54.1-cp312-cp312-manylinux_2_5_x86_64.manylinux1_x86_64.manylinux_2_17_x86_64.manylinux2014_x86_64.whl.metadata (163 kB)\n",
      "Collecting kiwisolver>=1.3.1 (from matplotlib)\n",
      "  Downloading kiwisolver-1.4.7-cp312-cp312-manylinux_2_17_x86_64.manylinux2014_x86_64.whl.metadata (6.3 kB)\n",
      "Requirement already satisfied: numpy>=1.23 in ./qiskit/lib/python3.12/site-packages (from matplotlib) (2.1.2)\n",
      "Requirement already satisfied: packaging>=20.0 in ./qiskit/lib/python3.12/site-packages (from matplotlib) (24.1)\n",
      "Collecting pillow>=8 (from matplotlib)\n",
      "  Downloading pillow-10.4.0-cp312-cp312-manylinux_2_28_x86_64.whl.metadata (9.2 kB)\n",
      "Collecting pyparsing>=2.3.1 (from matplotlib)\n",
      "  Downloading pyparsing-3.1.4-py3-none-any.whl.metadata (5.1 kB)\n",
      "Requirement already satisfied: python-dateutil>=2.7 in ./qiskit/lib/python3.12/site-packages (from matplotlib) (2.9.0.post0)\n",
      "Requirement already satisfied: six>=1.5 in ./qiskit/lib/python3.12/site-packages (from python-dateutil>=2.7->matplotlib) (1.16.0)\n",
      "Downloading matplotlib-3.9.2-cp312-cp312-manylinux_2_17_x86_64.manylinux2014_x86_64.whl (8.3 MB)\n",
      "\u001b[2K   \u001b[38;2;114;156;31m━━━━━━━━━━━━━━━━━━━━━━━━━━━━━━━━━━━━━━━━\u001b[0m \u001b[32m8.3/8.3 MB\u001b[0m \u001b[31m8.4 MB/s\u001b[0m eta \u001b[36m0:00:00\u001b[0m[31m8.4 MB/s\u001b[0m eta \u001b[36m0:00:01\u001b[0m\n",
      "\u001b[?25hDownloading contourpy-1.3.0-cp312-cp312-manylinux_2_17_x86_64.manylinux2014_x86_64.whl (320 kB)\n",
      "Downloading cycler-0.12.1-py3-none-any.whl (8.3 kB)\n",
      "Downloading fonttools-4.54.1-cp312-cp312-manylinux_2_5_x86_64.manylinux1_x86_64.manylinux_2_17_x86_64.manylinux2014_x86_64.whl (4.9 MB)\n",
      "\u001b[2K   \u001b[38;2;114;156;31m━━━━━━━━━━━━━━━━━━━━━━━━━━━━━━━━━━━━━━━━\u001b[0m \u001b[32m4.9/4.9 MB\u001b[0m \u001b[31m8.5 MB/s\u001b[0m eta \u001b[36m0:00:00\u001b[0m[31m8.9 MB/s\u001b[0m eta \u001b[36m0:00:01\u001b[0m\n",
      "\u001b[?25hDownloading kiwisolver-1.4.7-cp312-cp312-manylinux_2_17_x86_64.manylinux2014_x86_64.whl (1.5 MB)\n",
      "\u001b[2K   \u001b[38;2;114;156;31m━━━━━━━━━━━━━━━━━━━━━━━━━━━━━━━━━━━━━━━━\u001b[0m \u001b[32m1.5/1.5 MB\u001b[0m \u001b[31m8.1 MB/s\u001b[0m eta \u001b[36m0:00:00\u001b[0m\n",
      "\u001b[?25hDownloading pillow-10.4.0-cp312-cp312-manylinux_2_28_x86_64.whl (4.5 MB)\n",
      "\u001b[2K   \u001b[38;2;114;156;31m━━━━━━━━━━━━━━━━━━━━━━━━━━━━━━━━━━━━━━━━\u001b[0m \u001b[32m4.5/4.5 MB\u001b[0m \u001b[31m8.5 MB/s\u001b[0m eta \u001b[36m0:00:00\u001b[0m MB/s\u001b[0m eta \u001b[36m0:00:01\u001b[0m:01\u001b[0m\n",
      "\u001b[?25hDownloading pyparsing-3.1.4-py3-none-any.whl (104 kB)\n",
      "Building wheels for collected packages: pylatexenc\n",
      "  Building wheel for pylatexenc (pyproject.toml) ... \u001b[?25ldone\n",
      "\u001b[?25h  Created wheel for pylatexenc: filename=pylatexenc-2.10-py3-none-any.whl size=136816 sha256=275f28beef967baf4d4cdfeb7ccacd93a706cb66b68d5e52ed7cb40ff27817d1\n",
      "  Stored in directory: /home/benoit/.cache/pip/wheels/06/3e/78/fa1588c1ae991bbfd814af2bcac6cef7a178beee1939180d46\n",
      "Successfully built pylatexenc\n",
      "Installing collected packages: pylatexenc, pyparsing, pillow, kiwisolver, fonttools, cycler, contourpy, matplotlib\n",
      "Successfully installed contourpy-1.3.0 cycler-0.12.1 fonttools-4.54.1 kiwisolver-1.4.7 matplotlib-3.9.2 pillow-10.4.0 pylatexenc-2.10 pyparsing-3.1.4\n",
      "Requirement already satisfied: qiskit in ./qiskit/lib/python3.12/site-packages (1.2.4)\n",
      "Collecting qiskit-aer\n",
      "  Downloading qiskit_aer-0.15.1-cp312-cp312-manylinux_2_17_x86_64.manylinux2014_x86_64.whl.metadata (8.0 kB)\n",
      "Requirement already satisfied: rustworkx>=0.15.0 in ./qiskit/lib/python3.12/site-packages (from qiskit) (0.15.1)\n",
      "Requirement already satisfied: numpy<3,>=1.17 in ./qiskit/lib/python3.12/site-packages (from qiskit) (2.1.2)\n",
      "Requirement already satisfied: scipy>=1.5 in ./qiskit/lib/python3.12/site-packages (from qiskit) (1.14.1)\n",
      "Requirement already satisfied: sympy>=1.3 in ./qiskit/lib/python3.12/site-packages (from qiskit) (1.13.3)\n",
      "Requirement already satisfied: dill>=0.3 in ./qiskit/lib/python3.12/site-packages (from qiskit) (0.3.9)\n",
      "Requirement already satisfied: python-dateutil>=2.8.0 in ./qiskit/lib/python3.12/site-packages (from qiskit) (2.9.0.post0)\n",
      "Requirement already satisfied: stevedore>=3.0.0 in ./qiskit/lib/python3.12/site-packages (from qiskit) (5.3.0)\n",
      "Requirement already satisfied: typing-extensions in ./qiskit/lib/python3.12/site-packages (from qiskit) (4.12.2)\n",
      "Requirement already satisfied: symengine<0.14,>=0.11 in ./qiskit/lib/python3.12/site-packages (from qiskit) (0.13.0)\n",
      "Requirement already satisfied: psutil>=5 in ./qiskit/lib/python3.12/site-packages (from qiskit-aer) (6.0.0)\n",
      "Requirement already satisfied: six>=1.5 in ./qiskit/lib/python3.12/site-packages (from python-dateutil>=2.8.0->qiskit) (1.16.0)\n",
      "Requirement already satisfied: pbr>=2.0.0 in ./qiskit/lib/python3.12/site-packages (from stevedore>=3.0.0->qiskit) (6.1.0)\n",
      "Requirement already satisfied: mpmath<1.4,>=1.1.0 in ./qiskit/lib/python3.12/site-packages (from sympy>=1.3->qiskit) (1.3.0)\n",
      "Downloading qiskit_aer-0.15.1-cp312-cp312-manylinux_2_17_x86_64.manylinux2014_x86_64.whl (12.3 MB)\n",
      "\u001b[2K   \u001b[38;2;114;156;31m━━━━━━━━━━━━━━━━━━━━━━━━━━━━━━━━━━━━━━━━\u001b[0m \u001b[32m12.3/12.3 MB\u001b[0m \u001b[31m8.2 MB/s\u001b[0m eta \u001b[36m0:00:00\u001b[0m MB/s\u001b[0m eta \u001b[36m0:00:01\u001b[0m01\u001b[0m\n",
      "\u001b[?25hInstalling collected packages: qiskit-aer\n",
      "Successfully installed qiskit-aer-0.15.1\n"
     ]
    }
   ],
   "source": [
    "import numpy as np\n",
    "from math import pi\n",
    "try:\n",
    "    from qiskit import *\n",
    "    from qiskit_aer import AerSimulator, StatevectorSimulator\n",
    "    from matplotlib.pyplot import plot,show\n",
    "except:\n",
    "    ! python -m pip install matplotlib pylatexenc\n",
    "    ! python -m pip install qiskit qiskit-aer\n",
    "from qiskit import *\n",
    "from qiskit_aer import AerSimulator, StatevectorSimulator\n",
    "from qiskit.circuit import *\n",
    "from qiskit.circuit.library import *\n",
    "from qiskit.quantum_info.operators import Operator\n",
    "from scipy import optimize\n",
    "from matplotlib.pyplot import plot,show\n",
    "%matplotlib inline\n",
    "%config InlineBackend.figure_format = 'svg' # Makes the images look nice"
   ]
  },
  {
   "cell_type": "markdown",
   "metadata": {},
   "source": [
    "# 1 - Circuits\n",
    "\n",
    "A circuit in QisKit acts on quantum *and* classical registers.\n",
    "\n",
    "A classical register aims at storing the result of the measurement of a quantum register."
   ]
  },
  {
   "cell_type": "code",
   "execution_count": 2,
   "metadata": {},
   "outputs": [
    {
     "data": {
      "text/plain": [
       "<qiskit.circuit.instructionset.InstructionSet at 0x766506c699c0>"
      ]
     },
     "execution_count": 2,
     "metadata": {},
     "output_type": "execute_result"
    }
   ],
   "source": [
    "# Allocating 2 qubits\n",
    "q = QuantumRegister(2, name=\"x\")\n",
    "\n",
    "# Allocating 2 bits\n",
    "c = ClassicalRegister(2, name=\"y\")\n",
    "\n",
    "# We build a quantum circuit with both registers.\n",
    "# By default, everything is initialized to 0 and to |0>\n",
    "qc = QuantumCircuit(q,c)\n",
    "\n",
    "# Applying Hadamard on qubit 0:\n",
    "qc.h(q[0])\n",
    "\n",
    "# Applying X on qubit 0:\n",
    "qc.x(q[0])\n",
    "\n",
    "# Applying z on qubit 0:\n",
    "qc.z(q[0])\n",
    "\n",
    "# Applying CNOT on qubits 0 and 1:\n",
    "qc.cx(q[0],q[1])\n",
    "\n",
    "# Mesure of all of register q, storing results in c.\n",
    "# This is still part of the circuit\n",
    "qc.measure(q, c)\n",
    "\n",
    "# A summary of native operations can be found here:\n",
    "# https://qiskit.org/documentation/tutorials/circuits/3_summary_of_quantum_operations.html\n"
   ]
  },
  {
   "cell_type": "markdown",
   "metadata": {},
   "source": [
    "The circuit can be drawn in text-style or with mathplotlib. Note how the name given to the registers appear on the drawing. The simple wires are qubit-wires, while the doubled-wires are for bits."
   ]
  },
  {
   "cell_type": "code",
   "execution_count": 3,
   "metadata": {},
   "outputs": [
    {
     "data": {
      "text/html": [
       "<pre style=\"word-wrap: normal;white-space: pre;background: #fff0;line-height: 1.1;font-family: &quot;Courier New&quot;,Courier,monospace\">     ┌───┐┌───┐┌───┐     ┌─┐   \n",
       "x_0: ┤ H ├┤ X ├┤ Z ├──■──┤M├───\n",
       "     └───┘└───┘└───┘┌─┴─┐└╥┘┌─┐\n",
       "x_1: ───────────────┤ X ├─╫─┤M├\n",
       "                    └───┘ ║ └╥┘\n",
       "y: 2/═════════════════════╩══╩═\n",
       "                          0  1 </pre>"
      ],
      "text/plain": [
       "     ┌───┐┌───┐┌───┐     ┌─┐   \n",
       "x_0: ┤ H ├┤ X ├┤ Z ├──■──┤M├───\n",
       "     └───┘└───┘└───┘┌─┴─┐└╥┘┌─┐\n",
       "x_1: ───────────────┤ X ├─╫─┤M├\n",
       "                    └───┘ ║ └╥┘\n",
       "y: 2/═════════════════════╩══╩═\n",
       "                          0  1 "
      ]
     },
     "execution_count": 3,
     "metadata": {},
     "output_type": "execute_result"
    }
   ],
   "source": [
    "qc.draw()"
   ]
  },
  {
   "cell_type": "markdown",
   "metadata": {},
   "source": [
    "# 2 - Runing a circuit \n",
    "\n",
    "One can run a circuit with **backends**.\n",
    "\n",
    "Here is a backend emulating the behavior of a quantum co-processor. It makes it possible to *lauch* a series of runs, keeping track of how many of each results were obtained in the classical registers (remember, each run is probabilistic)."
   ]
  },
  {
   "cell_type": "code",
   "execution_count": 4,
   "metadata": {},
   "outputs": [
    {
     "data": {
      "text/plain": [
       "{'00': 528, '11': 496}"
      ]
     },
     "execution_count": 4,
     "metadata": {},
     "output_type": "execute_result"
    }
   ],
   "source": [
    "q = QuantumRegister(2, name=\"x\")\n",
    "c = ClassicalRegister(2, name=\"y\") \n",
    "\n",
    "qc = QuantumCircuit(q,c)\n",
    "qc.h(q[0])          # build a \n",
    "qc.cx(q[0],q[1])  # Bell state\n",
    "\n",
    "qc.measure(q, c) # measure of all of q\n",
    "\n",
    "# To run the circuit, we initialize a simulator\n",
    "simulator = AerSimulator()\n",
    "\n",
    "# Then performs several runs of the circuit using this backend. Here we ask for 1024 runs.\n",
    "job = simulator.run(qc, shots=1024)\n",
    "\n",
    "# To retrieve the results -- note how we only get values for the single bit-register \n",
    "res = dict(job.result().get_counts(qc))\n",
    "\n",
    "res"
   ]
  },
  {
   "cell_type": "markdown",
   "metadata": {},
   "source": [
    "In what we just saw, we measured **all** of the system. The dictionary stores the number of times each key has been found with the final measure.\n",
    "\n",
    "We can however measure only part of the system: the rest is \"forgotten\". For instance, in the following we only measure the 1st qubit"
   ]
  },
  {
   "cell_type": "code",
   "execution_count": 5,
   "metadata": {},
   "outputs": [
    {
     "data": {
      "text/plain": [
       "{'1': 500, '0': 524}"
      ]
     },
     "execution_count": 5,
     "metadata": {},
     "output_type": "execute_result"
    }
   ],
   "source": [
    "q = QuantumRegister(2, name=\"x\")\n",
    "c = ClassicalRegister(1, name=\"y\")\n",
    "\n",
    "qc = QuantumCircuit(q,c)\n",
    "qc.h(q[0])          # on fabrique un \n",
    "qc.cx(q[0],q[1])  # état de Bell\n",
    "\n",
    "\n",
    "qc.measure(q[0], c[0]) # mesure du premier qubit\n",
    "\n",
    "simulator = AerSimulator()\n",
    "job = simulator.run(qc, shots=1024)\n",
    "res = dict(job.result().get_counts(qc))\n",
    "res"
   ]
  },
  {
   "cell_type": "markdown",
   "metadata": {},
   "source": [
    "Note how the keys only contain one bit : the content of the classical register "
   ]
  },
  {
   "cell_type": "markdown",
   "metadata": {},
   "source": [
    "\n",
    "# 3 - Order of the bits in the keys\n",
    "\n",
    "Unlike what we saw in class, the bit-vector has to be read \"by turning the head on the left\" with respect to the circuit: in a register $x$, the qubit $x_0$ (top wire) is the first one. This is also the case for the classical registers.\n",
    "\n",
    "Below a concrete example:"
   ]
  },
  {
   "cell_type": "code",
   "execution_count": 6,
   "metadata": {},
   "outputs": [
    {
     "data": {
      "text/plain": [
       "{'01': 1024}"
      ]
     },
     "execution_count": 6,
     "metadata": {},
     "output_type": "execute_result"
    }
   ],
   "source": [
    "q = QuantumRegister(2)\n",
    "c = ClassicalRegister(2)\n",
    "qc = QuantumCircuit(q,c)\n",
    "\n",
    "# Applying X on qubit 0\n",
    "qc.x(q[0])\n",
    "\n",
    "# So at the end, |x_0 x_1> is in state |10>\n",
    "qc.measure(q,c)\n",
    "\n",
    "qc.draw()\n",
    "\n",
    "# And now, in register c[0] we have 1 and in c[1] we have 0. \n",
    "simulator = AerSimulator()\n",
    "job = simulator.run(qc, shots=1024)\n",
    "dict(job.result().get_counts(qc))"
   ]
  },
  {
   "cell_type": "markdown",
   "metadata": {},
   "source": [
    "A key should then be read $b_1b_0$ : the register $c$ is written \"$c_1c_0$\"."
   ]
  },
  {
   "cell_type": "markdown",
   "metadata": {},
   "source": [
    "# 4 - Boxing : unitaries and sub-circuits\n",
    "\n",
    "It is possible to look at a sub-circuit as a unitary gate. This circuit can then be used as many time as needed in another circuit.\n",
    "\n",
    "Beware: only circuits **without** classical registers can be boxed into a unitary gate..."
   ]
  },
  {
   "cell_type": "code",
   "execution_count": 7,
   "metadata": {},
   "outputs": [
    {
     "data": {
      "text/html": [
       "<pre style=\"word-wrap: normal;white-space: pre;background: #fff0;line-height: 1.1;font-family: &quot;Courier New&quot;,Courier,monospace\">     ┌───┐     \n",
       "x_0: ┤ H ├──■──\n",
       "     └───┘┌─┴─┐\n",
       "x_1: ─────┤ X ├\n",
       "          └───┘</pre>"
      ],
      "text/plain": [
       "     ┌───┐     \n",
       "x_0: ┤ H ├──■──\n",
       "     └───┘┌─┴─┐\n",
       "x_1: ─────┤ X ├\n",
       "          └───┘"
      ]
     },
     "execution_count": 7,
     "metadata": {},
     "output_type": "execute_result"
    }
   ],
   "source": [
    "# Let us build a circuit\n",
    "\n",
    "q = QuantumRegister(2, name=\"x\")\n",
    "aux = QuantumCircuit(q) # No classical registers !\n",
    "aux.h(q[0])\n",
    "aux.cx(q[0],q[1])\n",
    "\n",
    "aux.draw()"
   ]
  },
  {
   "cell_type": "code",
   "execution_count": 8,
   "metadata": {},
   "outputs": [],
   "source": [
    "# We can now make a home-made gate using this circuit\n",
    "\n",
    "o = aux.to_gate(label=\"moncirc\") # name to be used in drawings"
   ]
  },
  {
   "cell_type": "code",
   "execution_count": 9,
   "metadata": {},
   "outputs": [
    {
     "data": {
      "text/html": [
       "<pre style=\"word-wrap: normal;white-space: pre;background: #fff0;line-height: 1.1;font-family: &quot;Courier New&quot;,Courier,monospace\">      ░ ┌──────────┐ ░              ░             \n",
       "x_0: ─░─┤0         ├─░──────────────░──────■──────\n",
       "      ░ │  moncirc │ ░ ┌──────────┐ ░      │      \n",
       "x_1: ─░─┤1         ├─░─┤1         ├─░──────┼──────\n",
       "      ░ └──────────┘ ░ │  moncirc │ ░ ┌────┴─────┐\n",
       "x_2: ─░──────────────░─┤0         ├─░─┤0         ├\n",
       "      ░              ░ └──────────┘ ░ │  moncirc │\n",
       "x_3: ─░──────────────░──────────────░─┤1         ├\n",
       "      ░              ░              ░ └──────────┘</pre>"
      ],
      "text/plain": [
       "      ░ ┌──────────┐ ░              ░             \n",
       "x_0: ─░─┤0         ├─░──────────────░──────■──────\n",
       "      ░ │  moncirc │ ░ ┌──────────┐ ░      │      \n",
       "x_1: ─░─┤1         ├─░─┤1         ├─░──────┼──────\n",
       "      ░ └──────────┘ ░ │  moncirc │ ░ ┌────┴─────┐\n",
       "x_2: ─░──────────────░─┤0         ├─░─┤0         ├\n",
       "      ░              ░ └──────────┘ ░ │  moncirc │\n",
       "x_3: ─░──────────────░──────────────░─┤1         ├\n",
       "      ░              ░              ░ └──────────┘"
      ]
     },
     "execution_count": 9,
     "metadata": {},
     "output_type": "execute_result"
    }
   ],
   "source": [
    "# We now have a new gate \"o\" acting on 2 qubits. We can use it as we want.\n",
    "\n",
    "q = QuantumRegister(4, name=\"x\")\n",
    "qc = QuantumCircuit(q)\n",
    "\n",
    "qc.barrier()  # To horizontally \"separate\" pieces of circuits, in drawings for instance.\n",
    "qc.append(o,[q[0],q[1]]) # adding an object \"UnitaryGate\" can be done with .append\n",
    "qc.barrier()\n",
    "qc.append(o,[q[2],q[1]]) # Check the numbering in the drawing !\n",
    "qc.barrier()\n",
    "qc.append(o.control(),[q[0],q[2],q[3]]) # We can control a door -- the first wire is the control qubit.\n",
    "\n",
    "qc.draw()\n"
   ]
  },
  {
   "cell_type": "code",
   "execution_count": 10,
   "metadata": {},
   "outputs": [
    {
     "data": {
      "text/html": [
       "<pre style=\"word-wrap: normal;white-space: pre;background: #fff0;line-height: 1.1;font-family: &quot;Courier New&quot;,Courier,monospace\">      ░ ┌───┐      ░            ░                      \n",
       "x_0: ─░─┤ H ├──■───░────────────░────────■──────────■──\n",
       "      ░ └───┘┌─┴─┐ ░      ┌───┐ ░        │          │  \n",
       "x_1: ─░──────┤ X ├─░──────┤ X ├─░────────┼──────────┼──\n",
       "      ░      └───┘ ░ ┌───┐└─┬─┘ ░ ┌──────┴───────┐  │  \n",
       "x_2: ─░────────────░─┤ H ├──■───░─┤ U(π/2,0,π,0) ├──■──\n",
       "      ░            ░ └───┘      ░ └──────────────┘┌─┴─┐\n",
       "x_3: ─░────────────░────────────░─────────────────┤ X ├\n",
       "      ░            ░            ░                 └───┘</pre>"
      ],
      "text/plain": [
       "      ░ ┌───┐      ░            ░                      \n",
       "x_0: ─░─┤ H ├──■───░────────────░────────■──────────■──\n",
       "      ░ └───┘┌─┴─┐ ░      ┌───┐ ░        │          │  \n",
       "x_1: ─░──────┤ X ├─░──────┤ X ├─░────────┼──────────┼──\n",
       "      ░      └───┘ ░ ┌───┐└─┬─┘ ░ ┌──────┴───────┐  │  \n",
       "x_2: ─░────────────░─┤ H ├──■───░─┤ U(π/2,0,π,0) ├──■──\n",
       "      ░            ░ └───┘      ░ └──────────────┘┌─┴─┐\n",
       "x_3: ─░────────────░────────────░─────────────────┤ X ├\n",
       "      ░            ░            ░                 └───┘"
      ]
     },
     "execution_count": 10,
     "metadata": {},
     "output_type": "execute_result"
    }
   ],
   "source": [
    "# One can open the boxes\n",
    "\n",
    "qc.decompose().draw()\n",
    "\n",
    "# Note how the controlled gate is splitted into native, elementary gates on 1 and 2 qubits."
   ]
  },
  {
   "cell_type": "markdown",
   "metadata": {},
   "source": [
    "# 5 - High-level operations on UnitaryGate\n",
    "\n",
    "Once we have a UnitaryGate object (for instance the 'o' object), one can perform various operations in it, such as\n",
    "* power\n",
    "* control\n",
    "* inverse\n",
    "\n",
    "However, the names get all mangled...\n",
    "\n",
    "Below some examples"
   ]
  },
  {
   "cell_type": "code",
   "execution_count": 11,
   "metadata": {},
   "outputs": [
    {
     "data": {
      "text/html": [
       "<pre style=\"word-wrap: normal;white-space: pre;background: #fff0;line-height: 1.1;font-family: &quot;Courier New&quot;,Courier,monospace\">     ┌────────────────┐┌────────────────┐┌─────────────────┐┌──────────┐\n",
       "x_0: ┤0               ├┤0               ├┤0                ├┤0         ├\n",
       "     │  circuit-170^2 ││  circuit-170^5 ││  circuit-170_dg ││  moncirc │\n",
       "x_1: ┤1               ├┤1               ├┤1                ├┤1         ├\n",
       "     └────────────────┘└───────┬────────┘└─────────────────┘└────┬─────┘\n",
       "x_2: ──────────────────────────■─────────────────────────────────o──────\n",
       "                               │                                 │      \n",
       "x_3: ──────────────────────────■─────────────────────────────────■──────\n",
       "                                                                        </pre>"
      ],
      "text/plain": [
       "     ┌────────────────┐┌────────────────┐┌─────────────────┐┌──────────┐\n",
       "x_0: ┤0               ├┤0               ├┤0                ├┤0         ├\n",
       "     │  circuit-170^2 ││  circuit-170^5 ││  circuit-170_dg ││  moncirc │\n",
       "x_1: ┤1               ├┤1               ├┤1                ├┤1         ├\n",
       "     └────────────────┘└───────┬────────┘└─────────────────┘└────┬─────┘\n",
       "x_2: ──────────────────────────■─────────────────────────────────o──────\n",
       "                               │                                 │      \n",
       "x_3: ──────────────────────────■─────────────────────────────────■──────\n",
       "                                                                        "
      ]
     },
     "execution_count": 11,
     "metadata": {},
     "output_type": "execute_result"
    }
   ],
   "source": [
    "q = QuantumRegister(4, name=\"x\")\n",
    "qc = QuantumCircuit(q)\n",
    "\n",
    "qc.append(o.power(2),[q[0],q[1]]) # will perform 'o' twice\n",
    "\n",
    "qc.append(o.power(5).control().control(),[q[2],q[3],q[0],q[1]]) # power and control can be combined \n",
    "\n",
    "qc.append(o.inverse(),[q[0],q[1]]) # for the inverse (the _dg in the name stands for \"dagger\")\n",
    "\n",
    "qc.append(o.control(num_ctrl_qubits=2, ctrl_state='10'),[q[2],q[3],q[0],q[1]]) \n",
    "    # one can perform a bunch of positive and negative controls in one go.\n",
    "          \n",
    "qc.draw()\n",
    "\n",
    "# Ugly names ! But the name somehow keep the power so we know where it comes from."
   ]
  },
  {
   "cell_type": "markdown",
   "metadata": {},
   "source": [
    "# 6 - Operators\n",
    "\n",
    "One can ask QisKit to build a circuit from an operator given as a matrix."
   ]
  },
  {
   "cell_type": "code",
   "execution_count": 12,
   "metadata": {},
   "outputs": [],
   "source": [
    "# What is doing this gate ?\n",
    "\n",
    "U = UnitaryGate(\n",
    "    Operator([[1,0,0,0],\n",
    "              [0,1,0,0],\n",
    "              [0,0,1,0],\n",
    "              [0,0,0,np.exp(pi*1j*1/4)]]), label=\"MyDoor\")"
   ]
  },
  {
   "cell_type": "markdown",
   "metadata": {},
   "source": [
    "The operator have to be a matrix of size power of $2$ --- the unitary gate then acts on the corresponding number of wires."
   ]
  },
  {
   "cell_type": "code",
   "execution_count": 13,
   "metadata": {},
   "outputs": [
    {
     "data": {
      "text/html": [
       "<pre style=\"word-wrap: normal;white-space: pre;background: #fff0;line-height: 1.1;font-family: &quot;Courier New&quot;,Courier,monospace\">      ┌───┐┌─────────┐\n",
       "q6_0: ┤ X ├┤0        ├\n",
       "      ├───┤│  MyDoor │\n",
       "q6_1: ┤ X ├┤1        ├\n",
       "      └───┘└─────────┘</pre>"
      ],
      "text/plain": [
       "      ┌───┐┌─────────┐\n",
       "q6_0: ┤ X ├┤0        ├\n",
       "      ├───┤│  MyDoor │\n",
       "q6_1: ┤ X ├┤1        ├\n",
       "      └───┘└─────────┘"
      ]
     },
     "execution_count": 13,
     "metadata": {},
     "output_type": "execute_result"
    }
   ],
   "source": [
    "q = QuantumRegister(2)\n",
    "qc = QuantumCircuit(q)\n",
    "\n",
    "qc.x(q) # State initialized to |11>\n",
    "\n",
    "qc.append(U,q) # In principle, a phase shift should occur.\n",
    "\n",
    "qc.draw()"
   ]
  },
  {
   "cell_type": "markdown",
   "metadata": {},
   "source": [
    "Let us check the phase shift by using another backend: 'statevector_simulator', keeping track of the state vector."
   ]
  },
  {
   "cell_type": "code",
   "execution_count": 14,
   "metadata": {},
   "outputs": [
    {
     "name": "stdout",
     "output_type": "stream",
     "text": [
      "Statevector([0.        +0.j        , 0.        +0.j        ,\n",
      "             0.        +0.j        , 0.70710678+0.70710678j],\n",
      "            dims=(2, 2))\n"
     ]
    }
   ],
   "source": [
    "simulator = StatevectorSimulator()\n",
    "job = simulator.run(qc, memory=True)\n",
    "job_result = job.result()\n",
    "job_result.results[0].to_dict()['data']['statevector']\n",
    "\n",
    "# There has indeed been a phase shift !"
   ]
  },
  {
   "cell_type": "code",
   "execution_count": null,
   "metadata": {},
   "outputs": [],
   "source": []
  },
  {
   "cell_type": "code",
   "execution_count": null,
   "metadata": {},
   "outputs": [],
   "source": []
  },
  {
   "cell_type": "code",
   "execution_count": null,
   "metadata": {},
   "outputs": [],
   "source": []
  },
  {
   "cell_type": "code",
   "execution_count": null,
   "metadata": {},
   "outputs": [],
   "source": []
  },
  {
   "cell_type": "code",
   "execution_count": null,
   "metadata": {},
   "outputs": [],
   "source": []
  }
 ],
 "metadata": {
  "kernelspec": {
   "display_name": "Python 3 (ipykernel)",
   "language": "python",
   "name": "python3"
  },
  "language_info": {
   "codemirror_mode": {
    "name": "ipython",
    "version": 3
   },
   "file_extension": ".py",
   "mimetype": "text/x-python",
   "name": "python",
   "nbconvert_exporter": "python",
   "pygments_lexer": "ipython3",
   "version": "3.12.6"
  }
 },
 "nbformat": 4,
 "nbformat_minor": 4
}
