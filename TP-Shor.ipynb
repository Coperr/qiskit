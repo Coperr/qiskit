{
  "cells": [
    {
      "cell_type": "markdown",
      "metadata": {
        "id": "QOViRXUDCnC1"
      },
      "source": [
        "# Implementing Shor's algorithm\n",
        "\n",
        "Here, we are only interested in the part of the algorithm solving the period-finding function.\n",
        "\n",
        "\n",
        "## To hand out\n",
        "\n",
        "1. A **report** with your answers in a **PDF FILE** (made out of LaTeX, libreoffice, ...)\n",
        "  * Math and text answers\n",
        "  * The code for the circuits\n",
        "  * Screenshot of figures/circuits\n",
        "  * python answers and results of runs\n",
        "  * *etc*\n",
        "  \n",
        "2. **This notebook**\n",
        "  * as a runnable script\n",
        "\n",
        "\n",
        "\n",
        "But first, some libraries to load (nothing to modify here)"
      ]
    },
    {
      "cell_type": "code",
      "execution_count": 1,
      "metadata": {
        "id": "reZugx4_CnC6",
        "outputId": "e0a8fb00-29ca-4c58-c4e3-2330bca3494f",
        "colab": {
          "base_uri": "https://localhost:8080/"
        }
      },
      "outputs": [
        {
          "output_type": "stream",
          "name": "stdout",
          "text": [
            "Requirement already satisfied: matplotlib in /usr/local/lib/python3.10/dist-packages (3.7.1)\n",
            "Collecting pylatexenc\n",
            "  Downloading pylatexenc-2.10.tar.gz (162 kB)\n",
            "\u001b[?25l     \u001b[90m━━━━━━━━━━━━━━━━━━━━━━━━━━━━━━━━━━━━━━━━\u001b[0m \u001b[32m0.0/162.6 kB\u001b[0m \u001b[31m?\u001b[0m eta \u001b[36m-:--:--\u001b[0m\r\u001b[2K     \u001b[90m━━━━━━━━━━━━━━━━━━━━━━━━━━━━━━━━━━━━━━━━\u001b[0m \u001b[32m162.6/162.6 kB\u001b[0m \u001b[31m5.9 MB/s\u001b[0m eta \u001b[36m0:00:00\u001b[0m\n",
            "\u001b[?25h  Preparing metadata (setup.py) ... \u001b[?25l\u001b[?25hdone\n",
            "Requirement already satisfied: contourpy>=1.0.1 in /usr/local/lib/python3.10/dist-packages (from matplotlib) (1.3.0)\n",
            "Requirement already satisfied: cycler>=0.10 in /usr/local/lib/python3.10/dist-packages (from matplotlib) (0.12.1)\n",
            "Requirement already satisfied: fonttools>=4.22.0 in /usr/local/lib/python3.10/dist-packages (from matplotlib) (4.54.1)\n",
            "Requirement already satisfied: kiwisolver>=1.0.1 in /usr/local/lib/python3.10/dist-packages (from matplotlib) (1.4.7)\n",
            "Requirement already satisfied: numpy>=1.20 in /usr/local/lib/python3.10/dist-packages (from matplotlib) (1.26.4)\n",
            "Requirement already satisfied: packaging>=20.0 in /usr/local/lib/python3.10/dist-packages (from matplotlib) (24.1)\n",
            "Requirement already satisfied: pillow>=6.2.0 in /usr/local/lib/python3.10/dist-packages (from matplotlib) (10.4.0)\n",
            "Requirement already satisfied: pyparsing>=2.3.1 in /usr/local/lib/python3.10/dist-packages (from matplotlib) (3.2.0)\n",
            "Requirement already satisfied: python-dateutil>=2.7 in /usr/local/lib/python3.10/dist-packages (from matplotlib) (2.8.2)\n",
            "Requirement already satisfied: six>=1.5 in /usr/local/lib/python3.10/dist-packages (from python-dateutil>=2.7->matplotlib) (1.16.0)\n",
            "Building wheels for collected packages: pylatexenc\n",
            "  Building wheel for pylatexenc (setup.py) ... \u001b[?25l\u001b[?25hdone\n",
            "  Created wheel for pylatexenc: filename=pylatexenc-2.10-py3-none-any.whl size=136816 sha256=01b582c8f8dcb3006c33b0613bc34333e5334f1c39b75ff81cc431182db4b9a7\n",
            "  Stored in directory: /root/.cache/pip/wheels/d3/31/8b/e09b0386afd80cfc556c00408c9aeea5c35c4d484a9c762fd5\n",
            "Successfully built pylatexenc\n",
            "Installing collected packages: pylatexenc\n",
            "Successfully installed pylatexenc-2.10\n",
            "Collecting qiskit\n",
            "  Downloading qiskit-1.2.4-cp38-abi3-manylinux_2_17_x86_64.manylinux2014_x86_64.whl.metadata (12 kB)\n",
            "Collecting qiskit-aer\n",
            "  Downloading qiskit_aer-0.15.1-cp310-cp310-manylinux_2_17_x86_64.manylinux2014_x86_64.whl.metadata (8.0 kB)\n",
            "Collecting rustworkx>=0.15.0 (from qiskit)\n",
            "  Downloading rustworkx-0.15.1-cp38-abi3-manylinux_2_17_x86_64.manylinux2014_x86_64.whl.metadata (9.9 kB)\n",
            "Requirement already satisfied: numpy<3,>=1.17 in /usr/local/lib/python3.10/dist-packages (from qiskit) (1.26.4)\n",
            "Requirement already satisfied: scipy>=1.5 in /usr/local/lib/python3.10/dist-packages (from qiskit) (1.13.1)\n",
            "Requirement already satisfied: sympy>=1.3 in /usr/local/lib/python3.10/dist-packages (from qiskit) (1.13.3)\n",
            "Collecting dill>=0.3 (from qiskit)\n",
            "  Downloading dill-0.3.9-py3-none-any.whl.metadata (10 kB)\n",
            "Requirement already satisfied: python-dateutil>=2.8.0 in /usr/local/lib/python3.10/dist-packages (from qiskit) (2.8.2)\n",
            "Collecting stevedore>=3.0.0 (from qiskit)\n",
            "  Downloading stevedore-5.3.0-py3-none-any.whl.metadata (2.3 kB)\n",
            "Requirement already satisfied: typing-extensions in /usr/local/lib/python3.10/dist-packages (from qiskit) (4.12.2)\n",
            "Collecting symengine<0.14,>=0.11 (from qiskit)\n",
            "  Downloading symengine-0.13.0-cp310-cp310-manylinux_2_17_x86_64.manylinux2014_x86_64.whl.metadata (1.2 kB)\n",
            "Requirement already satisfied: psutil>=5 in /usr/local/lib/python3.10/dist-packages (from qiskit-aer) (5.9.5)\n",
            "Requirement already satisfied: six>=1.5 in /usr/local/lib/python3.10/dist-packages (from python-dateutil>=2.8.0->qiskit) (1.16.0)\n",
            "Collecting pbr>=2.0.0 (from stevedore>=3.0.0->qiskit)\n",
            "  Downloading pbr-6.1.0-py2.py3-none-any.whl.metadata (3.4 kB)\n",
            "Requirement already satisfied: mpmath<1.4,>=1.1.0 in /usr/local/lib/python3.10/dist-packages (from sympy>=1.3->qiskit) (1.3.0)\n",
            "Downloading qiskit-1.2.4-cp38-abi3-manylinux_2_17_x86_64.manylinux2014_x86_64.whl (4.8 MB)\n",
            "\u001b[2K   \u001b[90m━━━━━━━━━━━━━━━━━━━━━━━━━━━━━━━━━━━━━━━━\u001b[0m \u001b[32m4.8/4.8 MB\u001b[0m \u001b[31m20.3 MB/s\u001b[0m eta \u001b[36m0:00:00\u001b[0m\n",
            "\u001b[?25hDownloading qiskit_aer-0.15.1-cp310-cp310-manylinux_2_17_x86_64.manylinux2014_x86_64.whl (12.3 MB)\n",
            "\u001b[2K   \u001b[90m━━━━━━━━━━━━━━━━━━━━━━━━━━━━━━━━━━━━━━━━\u001b[0m \u001b[32m12.3/12.3 MB\u001b[0m \u001b[31m21.2 MB/s\u001b[0m eta \u001b[36m0:00:00\u001b[0m\n",
            "\u001b[?25hDownloading dill-0.3.9-py3-none-any.whl (119 kB)\n",
            "\u001b[2K   \u001b[90m━━━━━━━━━━━━━━━━━━━━━━━━━━━━━━━━━━━━━━━━\u001b[0m \u001b[32m119.4/119.4 kB\u001b[0m \u001b[31m4.7 MB/s\u001b[0m eta \u001b[36m0:00:00\u001b[0m\n",
            "\u001b[?25hDownloading rustworkx-0.15.1-cp38-abi3-manylinux_2_17_x86_64.manylinux2014_x86_64.whl (2.0 MB)\n",
            "\u001b[2K   \u001b[90m━━━━━━━━━━━━━━━━━━━━━━━━━━━━━━━━━━━━━━━━\u001b[0m \u001b[32m2.0/2.0 MB\u001b[0m \u001b[31m29.6 MB/s\u001b[0m eta \u001b[36m0:00:00\u001b[0m\n",
            "\u001b[?25hDownloading stevedore-5.3.0-py3-none-any.whl (49 kB)\n",
            "\u001b[2K   \u001b[90m━━━━━━━━━━━━━━━━━━━━━━━━━━━━━━━━━━━━━━━━\u001b[0m \u001b[32m49.7/49.7 kB\u001b[0m \u001b[31m1.9 MB/s\u001b[0m eta \u001b[36m0:00:00\u001b[0m\n",
            "\u001b[?25hDownloading symengine-0.13.0-cp310-cp310-manylinux_2_17_x86_64.manylinux2014_x86_64.whl (49.7 MB)\n",
            "\u001b[2K   \u001b[90m━━━━━━━━━━━━━━━━━━━━━━━━━━━━━━━━━━━━━━━━\u001b[0m \u001b[32m49.7/49.7 MB\u001b[0m \u001b[31m9.2 MB/s\u001b[0m eta \u001b[36m0:00:00\u001b[0m\n",
            "\u001b[?25hDownloading pbr-6.1.0-py2.py3-none-any.whl (108 kB)\n",
            "\u001b[2K   \u001b[90m━━━━━━━━━━━━━━━━━━━━━━━━━━━━━━━━━━━━━━━━\u001b[0m \u001b[32m108.5/108.5 kB\u001b[0m \u001b[31m4.2 MB/s\u001b[0m eta \u001b[36m0:00:00\u001b[0m\n",
            "\u001b[?25hInstalling collected packages: symengine, rustworkx, pbr, dill, stevedore, qiskit, qiskit-aer\n",
            "Successfully installed dill-0.3.9 pbr-6.1.0 qiskit-1.2.4 qiskit-aer-0.15.1 rustworkx-0.15.1 stevedore-5.3.0 symengine-0.13.0\n"
          ]
        }
      ],
      "source": [
        "import numpy as np\n",
        "from math import pi, gcd\n",
        "try:\n",
        "    from qiskit import *\n",
        "    from qiskit_aer import AerSimulator\n",
        "    from matplotlib.pyplot import plot,show\n",
        "except:\n",
        "    ! python -m pip install matplotlib pylatexenc\n",
        "    ! python -m pip install qiskit qiskit-aer\n",
        "from qiskit import *\n",
        "from qiskit.circuit import *\n",
        "from qiskit_aer import AerSimulator\n",
        "from qiskit.circuit.library import *\n",
        "from qiskit.quantum_info.operators import Operator\n",
        "from qiskit.compiler import transpile\n",
        "from qiskit.transpiler import PassManager\n",
        "from scipy import optimize\n",
        "from matplotlib.pyplot import plot,show\n",
        "%matplotlib inline\n",
        "%config InlineBackend.figure_format = 'svg' # Makes the images look nice"
      ]
    },
    {
      "cell_type": "markdown",
      "metadata": {
        "id": "XAsFk32DCnC8"
      },
      "source": [
        "## A few useful functions\n",
        "\n",
        "- `nat2bl` : from a natural number to a list of `0` and `1` (low-end bit on the right)\n",
        "- `nat2bs` : from a natural number to a string such as `\"010010011\"`\n",
        "- `bl2bs` : from a list to a string\n",
        "- ... and all of the functions in the other direction."
      ]
    },
    {
      "cell_type": "code",
      "execution_count": 2,
      "metadata": {
        "id": "ra8BfP2ECnC8",
        "outputId": "dede48be-2992-4593-aeee-e354818165ad",
        "colab": {
          "base_uri": "https://localhost:8080/"
        }
      },
      "outputs": [
        {
          "output_type": "stream",
          "name": "stdout",
          "text": [
            "[0, 0, 0, 0, 0]\n",
            "[0, 0, 0, 0, 1]\n",
            "[0, 0, 0, 1, 0]\n",
            "[0, 0, 0, 1, 1]\n",
            "[0, 0, 1, 0, 0]\n",
            "[0, 0, 1, 0, 1]\n",
            "[0, 0, 1, 1, 0]\n",
            "[0, 0, 1, 1, 1]\n",
            "[0, 1, 0, 0, 0]\n",
            "[0, 1, 0, 0, 1]\n",
            "[0, 1, 0, 1, 0]\n",
            "[0, 1, 0, 1, 1]\n",
            "[0, 1, 1, 0, 0]\n",
            "[0, 1, 1, 0, 1]\n",
            "[0, 1, 1, 1, 0]\n",
            "[0, 1, 1, 1, 1]\n"
          ]
        }
      ],
      "source": [
        "def nat2bl(pad,n):\n",
        "    if n == 0 :\n",
        "        return [0 for i in range(pad)]\n",
        "    elif n % 2 == 1:\n",
        "        r = nat2bl(pad-1,(n-1)//2)\n",
        "        r.append(1)\n",
        "        return r\n",
        "    else:\n",
        "        r = nat2bl(pad-1,n//2)\n",
        "        r.append(0)\n",
        "        return r\n",
        "\n",
        "for i in range(16):\n",
        "    print(nat2bl(5,i))"
      ]
    },
    {
      "cell_type": "code",
      "execution_count": 3,
      "metadata": {
        "id": "rM9V0mt6CnC9",
        "outputId": "45c53576-8a72-45d7-9b67-9532fd34bb2b",
        "colab": {
          "base_uri": "https://localhost:8080/"
        }
      },
      "outputs": [
        {
          "output_type": "stream",
          "name": "stdout",
          "text": [
            "0000010001\n",
            "26\n"
          ]
        }
      ],
      "source": [
        "def bl2nat(s):\n",
        "    if len(s) == 0:\n",
        "        return 0\n",
        "    else:\n",
        "        a = s.pop()\n",
        "        return (a + 2*bl2nat(s))\n",
        "\n",
        "def bl2bs(l):\n",
        "    if len(l) == 0:\n",
        "        return \"\"\n",
        "    else:\n",
        "        a = l.pop()\n",
        "        return (bl2bs(l) + str(a))\n",
        "\n",
        "def nat2bs(pad,i):\n",
        "    return bl2bs(nat2bl(pad,i))\n",
        "\n",
        "def bs2bl(s):\n",
        "    l = []\n",
        "    for i in range(len(s)):\n",
        "        l.append(int(s[i]))\n",
        "    return l\n",
        "\n",
        "def bs2nat(s):\n",
        "    return bl2nat(bs2bl(s))\n",
        "\n",
        "\n",
        "print(nat2bs(10,17))\n",
        "print(bs2nat(\"0011010\"))"
      ]
    },
    {
      "cell_type": "markdown",
      "metadata": {
        "id": "qMAYY8Q2CnC_"
      },
      "source": [
        "# 0 - Before anything else...\n",
        "\n",
        "### Make sure you have done Part 1 on QPE\n"
      ]
    },
    {
      "cell_type": "markdown",
      "metadata": {
        "id": "J2OzaJVUCnDA"
      },
      "source": [
        "# 1 - Introduction\n",
        "\n",
        "In this lab session we are going to code the heart of Shor's algorithm: the circuit making it possible to find the period of the function\n",
        "\n",
        "$$\n",
        "x \\mapsto a^x mod N.\n",
        "$$\n",
        "\n",
        "We first need to code the oracle computing the multiplication modulo, then to combined it with QPE.\n",
        "\n",
        "**Objective** : Only to convince yourself that the number we are looking for can be recovered from the final distribution.\n",
        "\n",
        "**Prerequisite** : To have finished the Jupyter Notebook called `TP-QPE`\n",
        "\n",
        "Let's go."
      ]
    },
    {
      "cell_type": "markdown",
      "metadata": {
        "id": "pkVPjIn1CnDB"
      },
      "source": [
        "# 2 - Oracle synthesis\n",
        "\n",
        "The function $f : x\\mapsto (a^p\\cdot x)~mod~N$ is a bijection of $\\{0...N-1\\}$ to $\\{0...N-1\\}$ if $a$ and $N$ are co-primes.\n",
        "\n",
        "In this case, we can consider $f$ as a unitary operator acting on a Hilbert space of dimension $N$.\n",
        "One can then consider $f$ as a unitary acting on a register of qubits, provided that $N$ is a power of $2$.\n",
        "\n",
        "This is a bit limited : we want to be able to consider arbitrary numbers $N$. We then instead consider the function:\n",
        "$$\n",
        "Mult_{a^p~mod~N} : x\\mapsto\n",
        "\\left\\{\n",
        "\\begin{array}{ll}\n",
        "(a^p\\cdot x)~mod~N & \\text{si }x < N\n",
        "\\\\\n",
        "x & \\text{si} N \\leq x < 2^n\n",
        "\\end{array}\\right.\n",
        "$$\n",
        "provided that $N<2^n$.\n",
        "\n",
        "This new function $Mult_{a^p~mod~N}$ is indeed a bijection of $\\{0..2^n\\}$: we are going to implement this one instead. Here, we are making something simple, using the automated circuit synthesis of QisKit. It is not the most efficient, but it is the easiest for our purpose."
      ]
    },
    {
      "cell_type": "markdown",
      "metadata": {
        "id": "ZCE40EEfCnDC"
      },
      "source": [
        "To clarify what is expected, let us consider the code for $Mult_{2^3~mod~13}$, that is, $Mult_{8~mod~13}$. To store all of the numbers from $0$ to $12$ we need $4$ bits. The table for the operation $Mult_{8~mod~13}$ is as follows. We first write it using decimal numbers, then with the binary decomposition. Note how starting from $x=13$ we are just padding to complete to $15 = 2^4-1$.\n",
        "\n",
        "```\n",
        "| x  |  result  || x (binary) | result (binary) |\n",
        "| -- | -------- || ---------- | --------------- |\n",
        "| 0  |  0       || 0000       | 0000            |\n",
        "| 1  |  8       || 0001       | 1000            |\n",
        "| 2  |  3       || 0010       | 0011            |\n",
        "| 3  |  11      || 0011       | 1011            |\n",
        "| 4  |  6       || 0100       | 0110            |\n",
        "| 5  |  1       || 0101       | 0001            |\n",
        "| 6  |  9       || 0110       | 1001            |\n",
        "| 7  |  4       || 0111       | 0100            |\n",
        "| 8  |  12      || 1000       | 1100            |\n",
        "| 9  |  7       || 1001       | 0111            |\n",
        "| 10 |  2       || 1010       | 0010            |\n",
        "| 11 |  10      || 1011       | 1010            |\n",
        "| 12 |  5       || 1100       | 0101            |\n",
        "| -- | --       || ----       | ----            |\n",
        "| 13 | 13       || 1101       | 1101            |\n",
        "| 14 | 14       || 1110       | 1110            |\n",
        "| 15 | 15       || 1111       | 1111            |\n",
        "```\n",
        "\n",
        "The corresponding matrix is then\n",
        "\n",
        "$$\n",
        "\\begin{array}{ccccccccccccc|ccc}\n",
        "1&0&0&0&0&0&0&0&0&0&0&0&0&0&0&0\\\\\n",
        "0&0&0&0&0&1&0&0&0&0&0&0&0&0&0&0\\\\\n",
        "0&0&0&0&0&0&0&0&0&0&1&0&0&0&0&0\\\\\n",
        "0&0&1&0&0&0&0&0&0&0&0&0&0&0&0&0\\\\\n",
        "0&0&0&0&0&0&0&1&0&0&0&0&0&0&0&0\\\\\n",
        "0&0&0&0&0&0&0&0&0&0&0&0&1&0&0&0\\\\\n",
        "0&0&0&0&1&0&0&0&0&0&0&0&0&0&0&0\\\\\n",
        "0&0&0&0&0&0&0&0&0&1&0&0&0&0&0&0\\\\\n",
        "0&1&0&0&0&0&0&0&0&0&0&0&0&0&0&0\\\\\n",
        "0&0&0&0&0&0&1&0&0&0&0&0&0&0&0&0\\\\\n",
        "0&0&0&0&0&0&0&0&0&0&0&1&0&0&0&0\\\\\n",
        "0&0&0&1&0&0&0&0&0&0&0&0&0&0&0&0\\\\\n",
        "0&0&0&0&0&0&0&0&1&0&0&0&0&0&0&0\\\\\\hline\n",
        "0&0&0&0&0&0&0&0&0&0&0&0&0&1&0&0\\\\\n",
        "0&0&0&0&0&0&0&0&0&0&0&0&0&0&1&0\\\\\n",
        "0&0&0&0&0&0&0&0&0&0&0&0&0&0&0&1\\\\\n",
        "\\end{array}\n",
        "$$\n",
        "\n",
        "The top-left block corresponds to the permutation matrix : $|0010\\rangle$ is for instance sent to $|0011\\rangle$ (i.e. $2$ is sent to $3$). The bottom-right block corresponds to the padding with identity, to build an unitary matrix defined on the whole space.\n"
      ]
    },
    {
      "cell_type": "markdown",
      "metadata": {
        "id": "vwVUpb9rCnDC"
      },
      "source": [
        "## Questions\n",
        "\n",
        "### Q 2.1 Operator for the multiplication modulo.\n",
        "\n",
        "- Complete the following code so that `M` is a matrix implementing the bijection $Mult_{a^p~mod~N}$.\n",
        "- Test it with the code below it, with $a = 1, 3, 6, 11, 15$."
      ]
    },
    {
      "cell_type": "code",
      "execution_count": 38,
      "metadata": {
        "id": "i9hjTmwHCnDD"
      },
      "outputs": [],
      "source": [
        "# a, p, N et n are as above\n",
        "# we compute x |--> a^p * x mod N, seen as an operator on C^{2^n}\n",
        "\n",
        "def gateMult(a,p,N,n):\n",
        "    nn = 2 ** n\n",
        "    M = [[0 for x in range(nn)] for i in range(nn)]\n",
        "\n",
        "    # FILL IN M WITH SOMETHING\n",
        "\n",
        "    for x in range(nn):\n",
        "        if x < N:\n",
        "            result = (x * pow(a, p, N)) % N\n",
        "            M[result][x] = 1\n",
        "        else:\n",
        "            M[x][x] = 1\n",
        "\n",
        "    U = Operator(M)\n",
        "    return(UnitaryGate(U))"
      ]
    },
    {
      "cell_type": "code",
      "execution_count": 42,
      "metadata": {
        "id": "kxMuDwnsCnDD",
        "outputId": "a66b029d-1483-4b4c-8aae-20bea902f0e7",
        "colab": {
          "base_uri": "https://localhost:8080/"
        }
      },
      "outputs": [
        {
          "output_type": "stream",
          "name": "stdout",
          "text": [
            "Input : [0, 0, 1, 1] (= 3 en décimal)\n",
            "Correct answer should be 3 * 2^4 mod 11 = 4\n",
            "The circuit answer: 0100 (= 4 in decimal)\n"
          ]
        }
      ],
      "source": [
        "# Code to test the circuit computing (x * a ^ p) mod N, on n qubits\n",
        "\n",
        "# VALUES TO POSSIBLY CHANGE\n",
        "# BEWARE to keep x and N < 2^n\n",
        "x = 3\n",
        "a = 2\n",
        "p = 4\n",
        "N = 11\n",
        "n = 4\n",
        "\n",
        "# TEST TO NOT CHANGE\n",
        "\n",
        "phi = QuantumRegister(n)\n",
        "cphi = ClassicalRegister(n)\n",
        "\n",
        "qc = QuantumCircuit(phi,cphi)\n",
        "vl = nat2bl(n,x)\n",
        "print(f\"Input : {str(vl)} (= {x} en décimal)\")\n",
        "vl.reverse() # Changement de la place du bit de poid faible\n",
        "for i in range(len(vl)):\n",
        "    if vl[i] == 1:\n",
        "        qc.x(phi[i])\n",
        "\n",
        "qc.append(gateMult(a,p,N,n),list(phi))\n",
        "qc.measure(phi,cphi)\n",
        "\n",
        "simulator = AerSimulator()\n",
        "job = simulator.run(qc, shots=1024)\n",
        "d = dict(job.result().get_counts(qc))\n",
        "\n",
        "assert(len(d) == 1)\n",
        "s =  list(d.keys())[0]\n",
        "\n",
        "if x < 11:\n",
        "    print(f\"Correct answer should be {x} * {a}^{p} mod {N} = {(x*(a ** p)) % N}\")\n",
        "else:\n",
        "    print(f\"We are above {N} so this should be the identity\")\n",
        "print(f\"The circuit answer: {s} (= {bs2nat(s)} in decimal)\")\n",
        "\n",
        "# If you run it, it should print a log of what is expected and what is indeed computed."
      ]
    },
    {
      "cell_type": "markdown",
      "metadata": {
        "id": "YXbuJiFbCnDE"
      },
      "source": [
        "### Q 2.2 Size of generated circuit\n",
        "\n",
        "Qiskit packages the circuit it makes out of the matrix inside a nice and clean box. What is the concrete size of the generated circuit ? Let us test it to see.\n",
        "\n",
        "- TODO : modify the code below to compute the size of the circuits generated by QisKit for the following matrices:\n",
        "  * `gateMult(3,3,2 ** 2,2)`\n",
        "  * `gateMult(3,3,2 ** 3,3)`\n",
        "  * `gateMult(3,3,2 ** 4,4)`\n",
        "\n",
        "And if the runtime is not too daunting (stop if above 1 minute)\n",
        "\n",
        "  * `gateMult(3,3,2 ** 5,5)`\n",
        "  * `gateMult(3,3,2 ** 6,6)`\n",
        "  * `gateMult(3,3,2 ** 7,7)`\n",
        "  \n",
        "#### Report your code and answers in the separate report !"
      ]
    },
    {
      "cell_type": "code",
      "execution_count": 59,
      "metadata": {
        "id": "soU2Uy1iCnDF",
        "outputId": "26e45aad-c098-4c21-d2b4-cc35d254378d",
        "colab": {
          "base_uri": "https://localhost:8080/"
        }
      },
      "outputs": [
        {
          "output_type": "execute_result",
          "data": {
            "text/plain": [
              "{'rx': 282, 'ry': 153, 'cx': 100}"
            ]
          },
          "metadata": {},
          "execution_count": 59
        }
      ],
      "source": [
        "n = 4\n",
        "q = QuantumRegister(n)\n",
        "\n",
        "qc = QuantumCircuit(q)\n",
        "#qc.h(q[0])\n",
        "#qc.x(q[1])\n",
        "#qc.ccx(q[0],q[1],q[2]) # a Toffoli gate, for the sake of it.\n",
        "\n",
        "qc.append(gateMult(3, 3, 2**4, 4), list(q))\n",
        "\n",
        "# Our circuit is not necessarily in elementary unitary gates.\n",
        "# Let us unfold them before counting.\n",
        "\n",
        "new_circ = transpile(qc, basis_gates=['id', 'ry', 'rx', 'cx'])\n",
        "count = dict(new_circ.count_ops())\n",
        "count"
      ]
    },
    {
      "cell_type": "code",
      "execution_count": 60,
      "metadata": {
        "id": "Hz8eaDgxCnDF",
        "outputId": "722f2cc2-fbd8-445d-c11d-96c9068d3a08",
        "colab": {
          "base_uri": "https://localhost:8080/"
        }
      },
      "outputs": [
        {
          "output_type": "stream",
          "name": "stdout",
          "text": [
            "For 4 qubits there are 535 gates in total.\n"
          ]
        }
      ],
      "source": [
        "r = 0\n",
        "for k in count:\n",
        "    r += count[k]\n",
        "print(f\"For {n} qubits there are {r} gates in total.\")"
      ]
    },
    {
      "cell_type": "markdown",
      "metadata": {
        "id": "DP-vEvEsCnDF"
      },
      "source": [
        "### Q 2.3 Analysis\n",
        "\n",
        "- What are the sizes of the generated circuits ?\n",
        "- What is the complexity of the circuit size in term of number of qubits ?\n",
        "- Can you explain why ?\n",
        "- If it is doable for small `n`, is it realisitic for large sizes ?\n",
        "- What alternate method could you suggest, with what potential drawbacks ?\n"
      ]
    },
    {
      "cell_type": "markdown",
      "metadata": {
        "jp-MarkdownHeadingCollapsed": true,
        "id": "2Rx_fnnECnDF"
      },
      "source": [
        "#### Report your code and answers in the separate report !\n"
      ]
    },
    {
      "cell_type": "markdown",
      "metadata": {
        "id": "jmy9a_7iCnDF"
      },
      "source": [
        "# 3 - Plugging everything together : Shor\n",
        "\n",
        "We are now ready to realize Shor's algorithm\n",
        "\n",
        "## Questions\n",
        "\n",
        "### Q 3.1 The circuit\n",
        "\n",
        "Realize the circuit:\n",
        "- Copy-paste the code of QPE, with 4 qbits of precision for `eig`\n",
        "- Introduce our home-made unitary : choose 5 qbits pour `phi`\n",
        "- Place `phi` in the state corresponding to the integer $1$ in decimal (beware of the position of the low-end bit)\n"
      ]
    },
    {
      "cell_type": "code",
      "execution_count": null,
      "metadata": {
        "id": "yYjA8RooCnDG"
      },
      "outputs": [],
      "source": [
        "a = 7\n",
        "N = 30\n",
        "size_eig = 4\n",
        "size_phi = 5\n",
        "\n",
        "# ...\n",
        "\n",
        "qc = # ....\n",
        "\n",
        "\n",
        "\n",
        "# ...\n",
        "\n",
        "# At the end, we draw the circuit to check that everyting is in order.\n",
        "qc.draw()"
      ]
    },
    {
      "cell_type": "code",
      "execution_count": null,
      "metadata": {
        "scrolled": true,
        "id": "Xp7fxqp-CnDG"
      },
      "outputs": [],
      "source": [
        "# Then we can run things.\n",
        "\n",
        "simulator = AerSimulator()\n",
        "job = simulator.run(qc, shots=1024)\n",
        "d = dict(job.result().get_counts(qc))\n",
        "d"
      ]
    },
    {
      "cell_type": "markdown",
      "metadata": {
        "id": "Ms90TdEsCnDG"
      },
      "source": [
        "### Q 3.2 Results\n",
        "\n",
        "We get a distribution of résults in the form of a dictionary.\n",
        " - each key is morally a fraction $s/r$, for $r$ the order of $a$ mod $N$\n",
        " - it is only written with some precision (depending on the chosen number of bits), and it is written in binary.\n",
        " - The value associated to a key is the number of times we found the corresponding key.\n",
        "\n",
        "Below is a code drawing a graph out of `d` with horizontal axis the key, in decimal, and in vertical axis the number of times we found it."
      ]
    },
    {
      "cell_type": "code",
      "execution_count": null,
      "metadata": {
        "scrolled": true,
        "id": "MaWb27BsCnDG"
      },
      "outputs": [],
      "source": [
        "pts = []\n",
        "for i in range(2**size_eig):\n",
        "        k = nat2bs(size_eig,i)\n",
        "        if k in d:\n",
        "            pts.append((i,d[k]))\n",
        "        else:\n",
        "            pts.append((i,0))\n",
        "\n",
        "def snd(a):\n",
        "    (a1,a2) = a\n",
        "    return a1\n",
        "\n",
        "pts.sort(key = snd)\n",
        "\n",
        "xs = []\n",
        "ys = []\n",
        "for i in range(len(pts)):\n",
        "    (x,y) = pts[i]\n",
        "    xs.append(x)\n",
        "    ys.append(y)\n",
        "plot(xs,ys)"
      ]
    },
    {
      "cell_type": "markdown",
      "metadata": {
        "id": "QU1dzzb-CnDG"
      },
      "source": [
        "### Q 3.3 Analysis\n",
        "\n",
        "- What is the order $r$ of $a$ mod $N$ (here $7$ mod $30$) ?\n",
        "- On the drawing, where are we supposed to see the values $\\frac{s}{r}$ ? The horizontal axis is graded with integers... To what real numbers between 0 and 1 these correspond to ?\n",
        "- Can you infer from the graph the value of $r$ ? Where do you see it on the graph ?\n",
        "- Change a and N respectively to 20 and 29. Can you read the value $r$ ? Is it correct ?\n",
        "- The drawing is not very precise... How to make it better ? Try it !\n",
        "- Is it still working if you change the value of `a` and/or `N` to other values ? Beware not to use too large values for`N`... To get some inspiration, below is the list of possibilities up to 31.\n",
        "\n",
        "**BEWARE** Make sure to only consider coprimes `a` and `N`."
      ]
    },
    {
      "cell_type": "markdown",
      "metadata": {
        "id": "k29GA2TtCnDH"
      },
      "source": [
        "#### Report in the separate report:\n",
        "* your code\n",
        "* screenshots of circuits\n",
        "* the results of your runs\n",
        "* screenshots of plots\n",
        "* answers to questions and discussion\n"
      ]
    },
    {
      "cell_type": "code",
      "execution_count": null,
      "metadata": {
        "id": "AcPr4FWsCnDH",
        "outputId": "354d1afa-4b81-452f-aecd-88d6d4e1e6d0"
      },
      "outputs": [
        {
          "name": "stdout",
          "output_type": "stream",
          "text": [
            "Order of 2 mod 3: 2\n",
            "Order of 3 mod 4: 2\n",
            "Order of 2 mod 5: 4\n",
            "Order of 3 mod 5: 4\n",
            "Order of 4 mod 5: 2\n",
            "Order of 5 mod 6: 2\n",
            "Order of 2 mod 7: 3\n",
            "Order of 3 mod 7: 6\n",
            "Order of 4 mod 7: 3\n",
            "Order of 5 mod 7: 6\n",
            "Order of 6 mod 7: 2\n",
            "Order of 3 mod 8: 2\n",
            "Order of 5 mod 8: 2\n",
            "Order of 7 mod 8: 2\n",
            "Order of 2 mod 9: 6\n",
            "Order of 4 mod 9: 3\n",
            "Order of 5 mod 9: 6\n",
            "Order of 7 mod 9: 3\n",
            "Order of 8 mod 9: 2\n",
            "Order of 3 mod 10: 4\n",
            "Order of 7 mod 10: 4\n",
            "Order of 9 mod 10: 2\n",
            "Order of 2 mod 11: 10\n",
            "Order of 3 mod 11: 5\n",
            "Order of 4 mod 11: 5\n",
            "Order of 5 mod 11: 5\n",
            "Order of 6 mod 11: 10\n",
            "Order of 7 mod 11: 10\n",
            "Order of 8 mod 11: 10\n",
            "Order of 9 mod 11: 5\n",
            "Order of 10 mod 11: 2\n",
            "Order of 5 mod 12: 2\n",
            "Order of 7 mod 12: 2\n",
            "Order of 11 mod 12: 2\n",
            "Order of 2 mod 13: 12\n",
            "Order of 3 mod 13: 3\n",
            "Order of 4 mod 13: 6\n",
            "Order of 5 mod 13: 4\n",
            "Order of 6 mod 13: 12\n",
            "Order of 7 mod 13: 12\n",
            "Order of 8 mod 13: 4\n",
            "Order of 9 mod 13: 3\n",
            "Order of 10 mod 13: 6\n",
            "Order of 11 mod 13: 12\n",
            "Order of 12 mod 13: 2\n",
            "Order of 3 mod 14: 6\n",
            "Order of 5 mod 14: 6\n",
            "Order of 9 mod 14: 3\n",
            "Order of 11 mod 14: 3\n",
            "Order of 13 mod 14: 2\n",
            "Order of 2 mod 15: 4\n",
            "Order of 4 mod 15: 2\n",
            "Order of 7 mod 15: 4\n",
            "Order of 8 mod 15: 4\n",
            "Order of 11 mod 15: 2\n",
            "Order of 13 mod 15: 4\n",
            "Order of 14 mod 15: 2\n",
            "Order of 3 mod 16: 4\n",
            "Order of 5 mod 16: 4\n",
            "Order of 7 mod 16: 2\n",
            "Order of 9 mod 16: 2\n",
            "Order of 11 mod 16: 4\n",
            "Order of 13 mod 16: 4\n",
            "Order of 15 mod 16: 2\n",
            "Order of 2 mod 17: 8\n",
            "Order of 3 mod 17: 16\n",
            "Order of 4 mod 17: 4\n",
            "Order of 5 mod 17: 16\n",
            "Order of 6 mod 17: 16\n",
            "Order of 7 mod 17: 16\n",
            "Order of 8 mod 17: 8\n",
            "Order of 9 mod 17: 8\n",
            "Order of 10 mod 17: 16\n",
            "Order of 11 mod 17: 16\n",
            "Order of 12 mod 17: 16\n",
            "Order of 13 mod 17: 4\n",
            "Order of 14 mod 17: 16\n",
            "Order of 15 mod 17: 8\n",
            "Order of 16 mod 17: 2\n",
            "Order of 5 mod 18: 6\n",
            "Order of 7 mod 18: 3\n",
            "Order of 11 mod 18: 6\n",
            "Order of 13 mod 18: 3\n",
            "Order of 17 mod 18: 2\n",
            "Order of 2 mod 19: 18\n",
            "Order of 3 mod 19: 18\n",
            "Order of 4 mod 19: 9\n",
            "Order of 5 mod 19: 9\n",
            "Order of 6 mod 19: 9\n",
            "Order of 7 mod 19: 3\n",
            "Order of 8 mod 19: 6\n",
            "Order of 9 mod 19: 9\n",
            "Order of 10 mod 19: 18\n",
            "Order of 11 mod 19: 3\n",
            "Order of 12 mod 19: 6\n",
            "Order of 13 mod 19: 18\n",
            "Order of 14 mod 19: 18\n",
            "Order of 15 mod 19: 18\n",
            "Order of 16 mod 19: 9\n",
            "Order of 17 mod 19: 9\n",
            "Order of 18 mod 19: 2\n",
            "Order of 3 mod 20: 4\n",
            "Order of 7 mod 20: 4\n",
            "Order of 9 mod 20: 2\n",
            "Order of 11 mod 20: 2\n",
            "Order of 13 mod 20: 4\n",
            "Order of 17 mod 20: 4\n",
            "Order of 19 mod 20: 2\n",
            "Order of 2 mod 21: 6\n",
            "Order of 4 mod 21: 3\n",
            "Order of 5 mod 21: 6\n",
            "Order of 8 mod 21: 2\n",
            "Order of 10 mod 21: 6\n",
            "Order of 11 mod 21: 6\n",
            "Order of 13 mod 21: 2\n",
            "Order of 16 mod 21: 3\n",
            "Order of 17 mod 21: 6\n",
            "Order of 19 mod 21: 6\n",
            "Order of 20 mod 21: 2\n",
            "Order of 3 mod 22: 5\n",
            "Order of 5 mod 22: 5\n",
            "Order of 7 mod 22: 10\n",
            "Order of 9 mod 22: 5\n",
            "Order of 13 mod 22: 10\n",
            "Order of 15 mod 22: 5\n",
            "Order of 17 mod 22: 10\n",
            "Order of 19 mod 22: 10\n",
            "Order of 21 mod 22: 2\n",
            "Order of 2 mod 23: 11\n",
            "Order of 3 mod 23: 11\n",
            "Order of 4 mod 23: 11\n",
            "Order of 5 mod 23: 22\n",
            "Order of 6 mod 23: 11\n",
            "Order of 7 mod 23: 22\n",
            "Order of 8 mod 23: 11\n",
            "Order of 9 mod 23: 11\n",
            "Order of 10 mod 23: 22\n",
            "Order of 11 mod 23: 22\n",
            "Order of 12 mod 23: 11\n",
            "Order of 13 mod 23: 11\n",
            "Order of 14 mod 23: 22\n",
            "Order of 15 mod 23: 22\n",
            "Order of 16 mod 23: 11\n",
            "Order of 17 mod 23: 22\n",
            "Order of 18 mod 23: 11\n",
            "Order of 19 mod 23: 22\n",
            "Order of 20 mod 23: 22\n",
            "Order of 21 mod 23: 22\n",
            "Order of 22 mod 23: 2\n",
            "Order of 5 mod 24: 2\n",
            "Order of 7 mod 24: 2\n",
            "Order of 11 mod 24: 2\n",
            "Order of 13 mod 24: 2\n",
            "Order of 17 mod 24: 2\n",
            "Order of 19 mod 24: 2\n",
            "Order of 23 mod 24: 2\n",
            "Order of 2 mod 25: 20\n",
            "Order of 3 mod 25: 20\n",
            "Order of 4 mod 25: 10\n",
            "Order of 6 mod 25: 5\n",
            "Order of 7 mod 25: 4\n",
            "Order of 8 mod 25: 20\n",
            "Order of 9 mod 25: 10\n",
            "Order of 11 mod 25: 5\n",
            "Order of 12 mod 25: 20\n",
            "Order of 13 mod 25: 20\n",
            "Order of 14 mod 25: 10\n",
            "Order of 16 mod 25: 5\n",
            "Order of 17 mod 25: 20\n",
            "Order of 18 mod 25: 4\n",
            "Order of 19 mod 25: 10\n",
            "Order of 21 mod 25: 5\n",
            "Order of 22 mod 25: 20\n",
            "Order of 23 mod 25: 20\n",
            "Order of 24 mod 25: 2\n",
            "Order of 3 mod 26: 3\n",
            "Order of 5 mod 26: 4\n",
            "Order of 7 mod 26: 12\n",
            "Order of 9 mod 26: 3\n",
            "Order of 11 mod 26: 12\n",
            "Order of 15 mod 26: 12\n",
            "Order of 17 mod 26: 6\n",
            "Order of 19 mod 26: 12\n",
            "Order of 21 mod 26: 4\n",
            "Order of 23 mod 26: 6\n",
            "Order of 25 mod 26: 2\n",
            "Order of 2 mod 27: 18\n",
            "Order of 4 mod 27: 9\n",
            "Order of 5 mod 27: 18\n",
            "Order of 7 mod 27: 9\n",
            "Order of 8 mod 27: 6\n",
            "Order of 10 mod 27: 3\n",
            "Order of 11 mod 27: 18\n",
            "Order of 13 mod 27: 9\n",
            "Order of 14 mod 27: 18\n",
            "Order of 16 mod 27: 9\n",
            "Order of 17 mod 27: 6\n",
            "Order of 19 mod 27: 3\n",
            "Order of 20 mod 27: 18\n",
            "Order of 22 mod 27: 9\n",
            "Order of 23 mod 27: 18\n",
            "Order of 25 mod 27: 9\n",
            "Order of 26 mod 27: 2\n",
            "Order of 3 mod 28: 6\n",
            "Order of 5 mod 28: 6\n",
            "Order of 9 mod 28: 3\n",
            "Order of 11 mod 28: 6\n",
            "Order of 13 mod 28: 2\n",
            "Order of 15 mod 28: 2\n",
            "Order of 17 mod 28: 6\n",
            "Order of 19 mod 28: 6\n",
            "Order of 23 mod 28: 6\n",
            "Order of 25 mod 28: 3\n",
            "Order of 27 mod 28: 2\n",
            "Order of 2 mod 29: 28\n",
            "Order of 3 mod 29: 28\n",
            "Order of 4 mod 29: 14\n",
            "Order of 5 mod 29: 14\n",
            "Order of 6 mod 29: 14\n",
            "Order of 7 mod 29: 7\n",
            "Order of 8 mod 29: 28\n",
            "Order of 9 mod 29: 14\n",
            "Order of 10 mod 29: 28\n",
            "Order of 11 mod 29: 28\n",
            "Order of 12 mod 29: 4\n",
            "Order of 13 mod 29: 14\n",
            "Order of 14 mod 29: 28\n",
            "Order of 15 mod 29: 28\n",
            "Order of 16 mod 29: 7\n",
            "Order of 17 mod 29: 4\n",
            "Order of 18 mod 29: 28\n",
            "Order of 19 mod 29: 28\n",
            "Order of 20 mod 29: 7\n",
            "Order of 21 mod 29: 28\n",
            "Order of 22 mod 29: 14\n",
            "Order of 23 mod 29: 7\n",
            "Order of 24 mod 29: 7\n",
            "Order of 25 mod 29: 7\n",
            "Order of 26 mod 29: 28\n",
            "Order of 27 mod 29: 28\n",
            "Order of 28 mod 29: 2\n",
            "Order of 7 mod 30: 4\n",
            "Order of 11 mod 30: 2\n",
            "Order of 13 mod 30: 4\n",
            "Order of 17 mod 30: 4\n",
            "Order of 19 mod 30: 2\n",
            "Order of 23 mod 30: 4\n",
            "Order of 29 mod 30: 2\n",
            "Order of 2 mod 31: 5\n",
            "Order of 3 mod 31: 30\n",
            "Order of 4 mod 31: 5\n",
            "Order of 5 mod 31: 3\n",
            "Order of 6 mod 31: 6\n",
            "Order of 7 mod 31: 15\n",
            "Order of 8 mod 31: 5\n",
            "Order of 9 mod 31: 15\n",
            "Order of 10 mod 31: 15\n",
            "Order of 11 mod 31: 30\n",
            "Order of 12 mod 31: 30\n",
            "Order of 13 mod 31: 30\n",
            "Order of 14 mod 31: 15\n",
            "Order of 15 mod 31: 10\n",
            "Order of 16 mod 31: 5\n",
            "Order of 17 mod 31: 30\n",
            "Order of 18 mod 31: 15\n",
            "Order of 19 mod 31: 15\n",
            "Order of 20 mod 31: 15\n",
            "Order of 21 mod 31: 30\n",
            "Order of 22 mod 31: 30\n",
            "Order of 23 mod 31: 10\n",
            "Order of 24 mod 31: 30\n",
            "Order of 25 mod 31: 3\n",
            "Order of 26 mod 31: 6\n",
            "Order of 27 mod 31: 10\n",
            "Order of 28 mod 31: 15\n",
            "Order of 29 mod 31: 10\n",
            "Order of 30 mod 31: 2\n"
          ]
        }
      ],
      "source": [
        "for N in range(3,32):\n",
        "    for a in range(2,N):\n",
        "        if gcd(a,N) == 1:\n",
        "            for p in range(1,N):\n",
        "                if (a ** p) % N == 1:\n",
        "                    break\n",
        "            print(f\"Order of {a} mod {N}: {p}\")"
      ]
    },
    {
      "cell_type": "code",
      "execution_count": null,
      "metadata": {
        "id": "FPsz5w7bCnDH"
      },
      "outputs": [],
      "source": []
    }
  ],
  "metadata": {
    "kernelspec": {
      "display_name": "Python 3 (ipykernel)",
      "language": "python",
      "name": "python3"
    },
    "language_info": {
      "codemirror_mode": {
        "name": "ipython",
        "version": 3
      },
      "file_extension": ".py",
      "mimetype": "text/x-python",
      "name": "python",
      "nbconvert_exporter": "python",
      "pygments_lexer": "ipython3",
      "version": "3.12.6"
    },
    "colab": {
      "provenance": []
    }
  },
  "nbformat": 4,
  "nbformat_minor": 0
}