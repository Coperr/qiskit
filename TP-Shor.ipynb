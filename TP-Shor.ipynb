{
  "cells": [
    {
      "cell_type": "markdown",
      "metadata": {
        "id": "QOViRXUDCnC1"
      },
      "source": [
        "# Implementing Shor's algorithm\n",
        "\n",
        "Here, we are only interested in the part of the algorithm solving the period-finding function.\n",
        "\n",
        "\n",
        "## To hand out\n",
        "\n",
        "1. A **report** with your answers in a **PDF FILE** (made out of LaTeX, libreoffice, ...)\n",
        "  * Math and text answers\n",
        "  * The code for the circuits\n",
        "  * Screenshot of figures/circuits\n",
        "  * python answers and results of runs\n",
        "  * *etc*\n",
        "  \n",
        "2. **This notebook**\n",
        "  * as a runnable script\n",
        "\n",
        "\n",
        "\n",
        "But first, some libraries to load (nothing to modify here)"
      ]
    },
    {
      "cell_type": "code",
      "execution_count": 1,
      "metadata": {
        "id": "reZugx4_CnC6",
        "outputId": "90c4e3a7-a4fa-456c-d9c3-99946ecd382a",
        "colab": {
          "base_uri": "https://localhost:8080/"
        }
      },
      "outputs": [
        {
          "output_type": "stream",
          "name": "stdout",
          "text": [
            "Requirement already satisfied: matplotlib in /usr/local/lib/python3.10/dist-packages (3.7.1)\n",
            "Collecting pylatexenc\n",
            "  Downloading pylatexenc-2.10.tar.gz (162 kB)\n",
            "\u001b[2K     \u001b[90m━━━━━━━━━━━━━━━━━━━━━━━━━━━━━━━━━━━━━━━━\u001b[0m \u001b[32m162.6/162.6 kB\u001b[0m \u001b[31m3.4 MB/s\u001b[0m eta \u001b[36m0:00:00\u001b[0m\n",
            "\u001b[?25h  Preparing metadata (setup.py) ... \u001b[?25l\u001b[?25hdone\n",
            "Requirement already satisfied: contourpy>=1.0.1 in /usr/local/lib/python3.10/dist-packages (from matplotlib) (1.3.0)\n",
            "Requirement already satisfied: cycler>=0.10 in /usr/local/lib/python3.10/dist-packages (from matplotlib) (0.12.1)\n",
            "Requirement already satisfied: fonttools>=4.22.0 in /usr/local/lib/python3.10/dist-packages (from matplotlib) (4.54.1)\n",
            "Requirement already satisfied: kiwisolver>=1.0.1 in /usr/local/lib/python3.10/dist-packages (from matplotlib) (1.4.7)\n",
            "Requirement already satisfied: numpy>=1.20 in /usr/local/lib/python3.10/dist-packages (from matplotlib) (1.26.4)\n",
            "Requirement already satisfied: packaging>=20.0 in /usr/local/lib/python3.10/dist-packages (from matplotlib) (24.1)\n",
            "Requirement already satisfied: pillow>=6.2.0 in /usr/local/lib/python3.10/dist-packages (from matplotlib) (10.4.0)\n",
            "Requirement already satisfied: pyparsing>=2.3.1 in /usr/local/lib/python3.10/dist-packages (from matplotlib) (3.2.0)\n",
            "Requirement already satisfied: python-dateutil>=2.7 in /usr/local/lib/python3.10/dist-packages (from matplotlib) (2.8.2)\n",
            "Requirement already satisfied: six>=1.5 in /usr/local/lib/python3.10/dist-packages (from python-dateutil>=2.7->matplotlib) (1.16.0)\n",
            "Building wheels for collected packages: pylatexenc\n",
            "  Building wheel for pylatexenc (setup.py) ... \u001b[?25l\u001b[?25hdone\n",
            "  Created wheel for pylatexenc: filename=pylatexenc-2.10-py3-none-any.whl size=136816 sha256=0d7ac97726907bbc19170c2a9ce4a7abacff3ac4cf94123c5f4caeb2dc696c06\n",
            "  Stored in directory: /root/.cache/pip/wheels/d3/31/8b/e09b0386afd80cfc556c00408c9aeea5c35c4d484a9c762fd5\n",
            "Successfully built pylatexenc\n",
            "Installing collected packages: pylatexenc\n",
            "Successfully installed pylatexenc-2.10\n",
            "Collecting qiskit\n",
            "  Downloading qiskit-1.2.4-cp38-abi3-manylinux_2_17_x86_64.manylinux2014_x86_64.whl.metadata (12 kB)\n",
            "Collecting qiskit-aer\n",
            "  Downloading qiskit_aer-0.15.1-cp310-cp310-manylinux_2_17_x86_64.manylinux2014_x86_64.whl.metadata (8.0 kB)\n",
            "Collecting rustworkx>=0.15.0 (from qiskit)\n",
            "  Downloading rustworkx-0.15.1-cp38-abi3-manylinux_2_17_x86_64.manylinux2014_x86_64.whl.metadata (9.9 kB)\n",
            "Requirement already satisfied: numpy<3,>=1.17 in /usr/local/lib/python3.10/dist-packages (from qiskit) (1.26.4)\n",
            "Requirement already satisfied: scipy>=1.5 in /usr/local/lib/python3.10/dist-packages (from qiskit) (1.13.1)\n",
            "Requirement already satisfied: sympy>=1.3 in /usr/local/lib/python3.10/dist-packages (from qiskit) (1.13.1)\n",
            "Collecting dill>=0.3 (from qiskit)\n",
            "  Downloading dill-0.3.9-py3-none-any.whl.metadata (10 kB)\n",
            "Requirement already satisfied: python-dateutil>=2.8.0 in /usr/local/lib/python3.10/dist-packages (from qiskit) (2.8.2)\n",
            "Collecting stevedore>=3.0.0 (from qiskit)\n",
            "  Downloading stevedore-5.3.0-py3-none-any.whl.metadata (2.3 kB)\n",
            "Requirement already satisfied: typing-extensions in /usr/local/lib/python3.10/dist-packages (from qiskit) (4.12.2)\n",
            "Collecting symengine<0.14,>=0.11 (from qiskit)\n",
            "  Downloading symengine-0.13.0-cp310-cp310-manylinux_2_17_x86_64.manylinux2014_x86_64.whl.metadata (1.2 kB)\n",
            "Requirement already satisfied: psutil>=5 in /usr/local/lib/python3.10/dist-packages (from qiskit-aer) (5.9.5)\n",
            "Requirement already satisfied: six>=1.5 in /usr/local/lib/python3.10/dist-packages (from python-dateutil>=2.8.0->qiskit) (1.16.0)\n",
            "Collecting pbr>=2.0.0 (from stevedore>=3.0.0->qiskit)\n",
            "  Downloading pbr-6.1.0-py2.py3-none-any.whl.metadata (3.4 kB)\n",
            "Requirement already satisfied: mpmath<1.4,>=1.1.0 in /usr/local/lib/python3.10/dist-packages (from sympy>=1.3->qiskit) (1.3.0)\n",
            "Downloading qiskit-1.2.4-cp38-abi3-manylinux_2_17_x86_64.manylinux2014_x86_64.whl (4.8 MB)\n",
            "\u001b[2K   \u001b[90m━━━━━━━━━━━━━━━━━━━━━━━━━━━━━━━━━━━━━━━━\u001b[0m \u001b[32m4.8/4.8 MB\u001b[0m \u001b[31m33.7 MB/s\u001b[0m eta \u001b[36m0:00:00\u001b[0m\n",
            "\u001b[?25hDownloading qiskit_aer-0.15.1-cp310-cp310-manylinux_2_17_x86_64.manylinux2014_x86_64.whl (12.3 MB)\n",
            "\u001b[2K   \u001b[90m━━━━━━━━━━━━━━━━━━━━━━━━━━━━━━━━━━━━━━━━\u001b[0m \u001b[32m12.3/12.3 MB\u001b[0m \u001b[31m35.9 MB/s\u001b[0m eta \u001b[36m0:00:00\u001b[0m\n",
            "\u001b[?25hDownloading dill-0.3.9-py3-none-any.whl (119 kB)\n",
            "\u001b[2K   \u001b[90m━━━━━━━━━━━━━━━━━━━━━━━━━━━━━━━━━━━━━━━━\u001b[0m \u001b[32m119.4/119.4 kB\u001b[0m \u001b[31m5.5 MB/s\u001b[0m eta \u001b[36m0:00:00\u001b[0m\n",
            "\u001b[?25hDownloading rustworkx-0.15.1-cp38-abi3-manylinux_2_17_x86_64.manylinux2014_x86_64.whl (2.0 MB)\n",
            "\u001b[2K   \u001b[90m━━━━━━━━━━━━━━━━━━━━━━━━━━━━━━━━━━━━━━━━\u001b[0m \u001b[32m2.0/2.0 MB\u001b[0m \u001b[31m34.1 MB/s\u001b[0m eta \u001b[36m0:00:00\u001b[0m\n",
            "\u001b[?25hDownloading stevedore-5.3.0-py3-none-any.whl (49 kB)\n",
            "\u001b[2K   \u001b[90m━━━━━━━━━━━━━━━━━━━━━━━━━━━━━━━━━━━━━━━━\u001b[0m \u001b[32m49.7/49.7 kB\u001b[0m \u001b[31m2.3 MB/s\u001b[0m eta \u001b[36m0:00:00\u001b[0m\n",
            "\u001b[?25hDownloading symengine-0.13.0-cp310-cp310-manylinux_2_17_x86_64.manylinux2014_x86_64.whl (49.7 MB)\n",
            "\u001b[2K   \u001b[90m━━━━━━━━━━━━━━━━━━━━━━━━━━━━━━━━━━━━━━━━\u001b[0m \u001b[32m49.7/49.7 MB\u001b[0m \u001b[31m11.1 MB/s\u001b[0m eta \u001b[36m0:00:00\u001b[0m\n",
            "\u001b[?25hDownloading pbr-6.1.0-py2.py3-none-any.whl (108 kB)\n",
            "\u001b[2K   \u001b[90m━━━━━━━━━━━━━━━━━━━━━━━━━━━━━━━━━━━━━━━━\u001b[0m \u001b[32m108.5/108.5 kB\u001b[0m \u001b[31m4.8 MB/s\u001b[0m eta \u001b[36m0:00:00\u001b[0m\n",
            "\u001b[?25hInstalling collected packages: symengine, rustworkx, pbr, dill, stevedore, qiskit, qiskit-aer\n",
            "Successfully installed dill-0.3.9 pbr-6.1.0 qiskit-1.2.4 qiskit-aer-0.15.1 rustworkx-0.15.1 stevedore-5.3.0 symengine-0.13.0\n"
          ]
        }
      ],
      "source": [
        "import numpy as np\n",
        "from math import pi, gcd\n",
        "try:\n",
        "    from qiskit import *\n",
        "    from qiskit_aer import AerSimulator\n",
        "    from matplotlib.pyplot import plot,show\n",
        "except:\n",
        "    ! python -m pip install matplotlib pylatexenc\n",
        "    ! python -m pip install qiskit qiskit-aer\n",
        "from qiskit import *\n",
        "from qiskit.circuit import *\n",
        "from qiskit_aer import AerSimulator\n",
        "from qiskit.circuit.library import *\n",
        "from qiskit.quantum_info.operators import Operator\n",
        "from qiskit.compiler import transpile\n",
        "from qiskit.transpiler import PassManager\n",
        "from scipy import optimize\n",
        "from matplotlib.pyplot import plot,show\n",
        "%matplotlib inline\n",
        "%config InlineBackend.figure_format = 'svg' # Makes the images look nice"
      ]
    },
    {
      "cell_type": "markdown",
      "metadata": {
        "id": "XAsFk32DCnC8"
      },
      "source": [
        "## A few useful functions\n",
        "\n",
        "- `nat2bl` : from a natural number to a list of `0` and `1` (low-end bit on the right)\n",
        "- `nat2bs` : from a natural number to a string such as `\"010010011\"`\n",
        "- `bl2bs` : from a list to a string\n",
        "- ... and all of the functions in the other direction."
      ]
    },
    {
      "cell_type": "code",
      "execution_count": 2,
      "metadata": {
        "id": "ra8BfP2ECnC8",
        "outputId": "a3bdf5a5-8a0b-401b-b08a-d5e113eeebc1",
        "colab": {
          "base_uri": "https://localhost:8080/"
        }
      },
      "outputs": [
        {
          "output_type": "stream",
          "name": "stdout",
          "text": [
            "[0, 0, 0, 0, 0]\n",
            "[0, 0, 0, 0, 1]\n",
            "[0, 0, 0, 1, 0]\n",
            "[0, 0, 0, 1, 1]\n",
            "[0, 0, 1, 0, 0]\n",
            "[0, 0, 1, 0, 1]\n",
            "[0, 0, 1, 1, 0]\n",
            "[0, 0, 1, 1, 1]\n",
            "[0, 1, 0, 0, 0]\n",
            "[0, 1, 0, 0, 1]\n",
            "[0, 1, 0, 1, 0]\n",
            "[0, 1, 0, 1, 1]\n",
            "[0, 1, 1, 0, 0]\n",
            "[0, 1, 1, 0, 1]\n",
            "[0, 1, 1, 1, 0]\n",
            "[0, 1, 1, 1, 1]\n"
          ]
        }
      ],
      "source": [
        "def nat2bl(pad,n):\n",
        "    if n == 0 :\n",
        "        return [0 for i in range(pad)]\n",
        "    elif n % 2 == 1:\n",
        "        r = nat2bl(pad-1,(n-1)//2)\n",
        "        r.append(1)\n",
        "        return r\n",
        "    else:\n",
        "        r = nat2bl(pad-1,n//2)\n",
        "        r.append(0)\n",
        "        return r\n",
        "\n",
        "for i in range(16):\n",
        "    print(nat2bl(5,i))"
      ]
    },
    {
      "cell_type": "code",
      "execution_count": 3,
      "metadata": {
        "id": "rM9V0mt6CnC9",
        "outputId": "c253f03a-5c75-4092-be40-2a14e5f812cc",
        "colab": {
          "base_uri": "https://localhost:8080/"
        }
      },
      "outputs": [
        {
          "output_type": "stream",
          "name": "stdout",
          "text": [
            "0000010001\n",
            "26\n"
          ]
        }
      ],
      "source": [
        "def bl2nat(s):\n",
        "    if len(s) == 0:\n",
        "        return 0\n",
        "    else:\n",
        "        a = s.pop()\n",
        "        return (a + 2*bl2nat(s))\n",
        "\n",
        "def bl2bs(l):\n",
        "    if len(l) == 0:\n",
        "        return \"\"\n",
        "    else:\n",
        "        a = l.pop()\n",
        "        return (bl2bs(l) + str(a))\n",
        "\n",
        "def nat2bs(pad,i):\n",
        "    return bl2bs(nat2bl(pad,i))\n",
        "\n",
        "def bs2bl(s):\n",
        "    l = []\n",
        "    for i in range(len(s)):\n",
        "        l.append(int(s[i]))\n",
        "    return l\n",
        "\n",
        "def bs2nat(s):\n",
        "    return bl2nat(bs2bl(s))\n",
        "\n",
        "\n",
        "print(nat2bs(10,17))\n",
        "print(bs2nat(\"0011010\"))"
      ]
    },
    {
      "cell_type": "markdown",
      "metadata": {
        "id": "qMAYY8Q2CnC_"
      },
      "source": [
        "# 0 - Before anything else...\n",
        "\n",
        "### Make sure you have done Part 1 on QPE\n"
      ]
    },
    {
      "cell_type": "markdown",
      "metadata": {
        "id": "J2OzaJVUCnDA"
      },
      "source": [
        "# 1 - Introduction\n",
        "\n",
        "In this lab session we are going to code the heart of Shor's algorithm: the circuit making it possible to find the period of the function\n",
        "\n",
        "$$\n",
        "x \\mapsto a^x mod N.\n",
        "$$\n",
        "\n",
        "We first need to code the oracle computing the multiplication modulo, then to combined it with QPE.\n",
        "\n",
        "**Objective** : Only to convince yourself that the number we are looking for can be recovered from the final distribution.\n",
        "\n",
        "**Prerequisite** : To have finished the Jupyter Notebook called `TP-QPE`\n",
        "\n",
        "Let's go."
      ]
    },
    {
      "cell_type": "markdown",
      "metadata": {
        "id": "pkVPjIn1CnDB"
      },
      "source": [
        "# 2 - Oracle synthesis\n",
        "\n",
        "The function $f : x\\mapsto (a^p\\cdot x)~mod~N$ is a bijection of $\\{0...N-1\\}$ to $\\{0...N-1\\}$ if $a$ and $N$ are co-primes.\n",
        "\n",
        "In this case, we can consider $f$ as a unitary operator acting on a Hilbert space of dimension $N$.\n",
        "One can then consider $f$ as a unitary acting on a register of qubits, provided that $N$ is a power of $2$.\n",
        "\n",
        "This is a bit limited : we want to be able to consider arbitrary numbers $N$. We then instead consider the function:\n",
        "$$\n",
        "Mult_{a^p~mod~N} : x\\mapsto\n",
        "\\left\\{\n",
        "\\begin{array}{ll}\n",
        "(a^p\\cdot x)~mod~N & \\text{si }x < N\n",
        "\\\\\n",
        "x & \\text{si} N \\leq x < 2^n\n",
        "\\end{array}\\right.\n",
        "$$\n",
        "provided that $N<2^n$.\n",
        "\n",
        "This new function $Mult_{a^p~mod~N}$ is indeed a bijection of $\\{0..2^n\\}$: we are going to implement this one instead. Here, we are making something simple, using the automated circuit synthesis of QisKit. It is not the most efficient, but it is the easiest for our purpose."
      ]
    },
    {
      "cell_type": "markdown",
      "metadata": {
        "id": "ZCE40EEfCnDC"
      },
      "source": [
        "To clarify what is expected, let us consider the code for $Mult_{2^3~mod~13}$, that is, $Mult_{8~mod~13}$. To store all of the numbers from $0$ to $12$ we need $4$ bits. The table for the operation $Mult_{8~mod~13}$ is as follows. We first write it using decimal numbers, then with the binary decomposition. Note how starting from $x=13$ we are just padding to complete to $15 = 2^4-1$.\n",
        "\n",
        "```\n",
        "| x  |  result  || x (binary) | result (binary) |\n",
        "| -- | -------- || ---------- | --------------- |\n",
        "| 0  |  0       || 0000       | 0000            |\n",
        "| 1  |  8       || 0001       | 1000            |\n",
        "| 2  |  3       || 0010       | 0011            |\n",
        "| 3  |  11      || 0011       | 1011            |\n",
        "| 4  |  6       || 0100       | 0110            |\n",
        "| 5  |  1       || 0101       | 0001            |\n",
        "| 6  |  9       || 0110       | 1001            |\n",
        "| 7  |  4       || 0111       | 0100            |\n",
        "| 8  |  12      || 1000       | 1100            |\n",
        "| 9  |  7       || 1001       | 0111            |\n",
        "| 10 |  2       || 1010       | 0010            |\n",
        "| 11 |  10      || 1011       | 1010            |\n",
        "| 12 |  5       || 1100       | 0101            |\n",
        "| -- | --       || ----       | ----            |\n",
        "| 13 | 13       || 1101       | 1101            |\n",
        "| 14 | 14       || 1110       | 1110            |\n",
        "| 15 | 15       || 1111       | 1111            |\n",
        "```\n",
        "\n",
        "The corresponding matrix is then\n",
        "\n",
        "$$\n",
        "\\begin{array}{ccccccccccccc|ccc}\n",
        "1&0&0&0&0&0&0&0&0&0&0&0&0&0&0&0\\\\\n",
        "0&0&0&0&0&1&0&0&0&0&0&0&0&0&0&0\\\\\n",
        "0&0&0&0&0&0&0&0&0&0&1&0&0&0&0&0\\\\\n",
        "0&0&1&0&0&0&0&0&0&0&0&0&0&0&0&0\\\\\n",
        "0&0&0&0&0&0&0&1&0&0&0&0&0&0&0&0\\\\\n",
        "0&0&0&0&0&0&0&0&0&0&0&0&1&0&0&0\\\\\n",
        "0&0&0&0&1&0&0&0&0&0&0&0&0&0&0&0\\\\\n",
        "0&0&0&0&0&0&0&0&0&1&0&0&0&0&0&0\\\\\n",
        "0&1&0&0&0&0&0&0&0&0&0&0&0&0&0&0\\\\\n",
        "0&0&0&0&0&0&1&0&0&0&0&0&0&0&0&0\\\\\n",
        "0&0&0&0&0&0&0&0&0&0&0&1&0&0&0&0\\\\\n",
        "0&0&0&1&0&0&0&0&0&0&0&0&0&0&0&0\\\\\n",
        "0&0&0&0&0&0&0&0&1&0&0&0&0&0&0&0\\\\\\hline\n",
        "0&0&0&0&0&0&0&0&0&0&0&0&0&1&0&0\\\\\n",
        "0&0&0&0&0&0&0&0&0&0&0&0&0&0&1&0\\\\\n",
        "0&0&0&0&0&0&0&0&0&0&0&0&0&0&0&1\\\\\n",
        "\\end{array}\n",
        "$$\n",
        "\n",
        "The top-left block corresponds to the permutation matrix : $|0010\\rangle$ is for instance sent to $|0011\\rangle$ (i.e. $2$ is sent to $3$). The bottom-right block corresponds to the padding with identity, to build an unitary matrix defined on the whole space.\n"
      ]
    },
    {
      "cell_type": "markdown",
      "metadata": {
        "id": "vwVUpb9rCnDC"
      },
      "source": [
        "## Questions\n",
        "\n",
        "### Q 2.1 Operator for the multiplication modulo.\n",
        "\n",
        "- Complete the following code so that `M` is a matrix implementing the bijection $Mult_{a^p~mod~N}$.\n",
        "- Test it with the code below it, with $a = 1, 3, 6, 11, 15$."
      ]
    },
    {
      "cell_type": "code",
      "execution_count": 4,
      "metadata": {
        "id": "i9hjTmwHCnDD"
      },
      "outputs": [],
      "source": [
        "# a, p, N et n are as above\n",
        "# we compute x |--> a^p * x mod N, seen as an operator on C^{2^n}\n",
        "\n",
        "def gateMult(a,p,N,n):\n",
        "    nn = 2 ** n\n",
        "    M = [[0 for x in range(nn)] for i in range(nn)]\n",
        "\n",
        "    # FILL IN M WITH SOMETHING\n",
        "\n",
        "    for x in range(nn):\n",
        "        if x < N:\n",
        "            result = (x * pow(a, p, N)) % N\n",
        "            M[result][x] = 1\n",
        "        else:\n",
        "            M[x][x] = 1\n",
        "\n",
        "    U = Operator(M)\n",
        "    return(UnitaryGate(U))"
      ]
    },
    {
      "cell_type": "code",
      "execution_count": 5,
      "metadata": {
        "id": "kxMuDwnsCnDD",
        "outputId": "d760ac2a-5ed3-405b-ab1a-d894d3abb634",
        "colab": {
          "base_uri": "https://localhost:8080/"
        }
      },
      "outputs": [
        {
          "output_type": "stream",
          "name": "stdout",
          "text": [
            "Input : [0, 0, 1, 1] (= 3 en décimal)\n",
            "Correct answer should be 3 * 2^4 mod 11 = 4\n",
            "The circuit answer: 0100 (= 4 in decimal)\n"
          ]
        }
      ],
      "source": [
        "# Code to test the circuit computing (x * a ^ p) mod N, on n qubits\n",
        "\n",
        "# VALUES TO POSSIBLY CHANGE\n",
        "# BEWARE to keep x and N < 2^n\n",
        "x = 3\n",
        "a = 2\n",
        "p = 4\n",
        "N = 11\n",
        "n = 4\n",
        "\n",
        "# TEST TO NOT CHANGE\n",
        "\n",
        "phi = QuantumRegister(n)\n",
        "cphi = ClassicalRegister(n)\n",
        "\n",
        "qc = QuantumCircuit(phi,cphi)\n",
        "vl = nat2bl(n,x)\n",
        "print(f\"Input : {str(vl)} (= {x} en décimal)\")\n",
        "vl.reverse() # Changement de la place du bit de poid faible\n",
        "for i in range(len(vl)):\n",
        "    if vl[i] == 1:\n",
        "        qc.x(phi[i])\n",
        "\n",
        "qc.append(gateMult(a,p,N,n),list(phi))\n",
        "qc.measure(phi,cphi)\n",
        "\n",
        "simulator = AerSimulator()\n",
        "job = simulator.run(qc, shots=1024)\n",
        "d = dict(job.result().get_counts(qc))\n",
        "\n",
        "assert(len(d) == 1)\n",
        "s =  list(d.keys())[0]\n",
        "\n",
        "if x < 11:\n",
        "    print(f\"Correct answer should be {x} * {a}^{p} mod {N} = {(x*(a ** p)) % N}\")\n",
        "else:\n",
        "    print(f\"We are above {N} so this should be the identity\")\n",
        "print(f\"The circuit answer: {s} (= {bs2nat(s)} in decimal)\")\n",
        "\n",
        "# If you run it, it should print a log of what is expected and what is indeed computed."
      ]
    },
    {
      "cell_type": "markdown",
      "metadata": {
        "id": "YXbuJiFbCnDE"
      },
      "source": [
        "### Q 2.2 Size of generated circuit\n",
        "\n",
        "Qiskit packages the circuit it makes out of the matrix inside a nice and clean box. What is the concrete size of the generated circuit ? Let us test it to see.\n",
        "\n",
        "- TODO : modify the code below to compute the size of the circuits generated by QisKit for the following matrices:\n",
        "  * `gateMult(3,3,2 ** 2,2)`\n",
        "  * `gateMult(3,3,2 ** 3,3)`\n",
        "  * `gateMult(3,3,2 ** 4,4)`\n",
        "\n",
        "And if the runtime is not too daunting (stop if above 1 minute)\n",
        "\n",
        "  * `gateMult(3,3,2 ** 5,5)`\n",
        "  * `gateMult(3,3,2 ** 6,6)`\n",
        "  * `gateMult(3,3,2 ** 7,7)`\n",
        "  \n",
        "#### Report your code and answers in the separate report !"
      ]
    },
    {
      "cell_type": "code",
      "execution_count": 6,
      "metadata": {
        "id": "soU2Uy1iCnDF",
        "outputId": "0e4e5622-99bb-4270-f95c-51eaf6e2da7c",
        "colab": {
          "base_uri": "https://localhost:8080/"
        }
      },
      "outputs": [
        {
          "output_type": "execute_result",
          "data": {
            "text/plain": [
              "{'rx': 282, 'ry': 153, 'cx': 100}"
            ]
          },
          "metadata": {},
          "execution_count": 6
        }
      ],
      "source": [
        "n = 4\n",
        "q = QuantumRegister(n)\n",
        "\n",
        "qc = QuantumCircuit(q)\n",
        "#qc.h(q[0])\n",
        "#qc.x(q[1])\n",
        "#qc.ccx(q[0],q[1],q[2]) # a Toffoli gate, for the sake of it.\n",
        "\n",
        "#qc.append(gateMult(3, 3, 2**2, 2), list(q))\n",
        "#qc.append(gateMult(3, 3, 2**3, 3), list(q))\n",
        "qc.append(gateMult(3, 3, 2**4, 4), list(q))\n",
        "#qc.append(gateMult(3, 3, 2**5, 5), list(q))\n",
        "#qc.append(gateMult(3, 3, 2**6, 6), list(q))\n",
        "#qc.append(gateMult(3, 3, 2**7, 7), list(q))\n",
        "\n",
        "# Our circuit is not necessarily in elementary unitary gates.\n",
        "# Let us unfold them before counting.\n",
        "\n",
        "new_circ = transpile(qc, basis_gates=['id', 'ry', 'rx', 'cx'])\n",
        "count = dict(new_circ.count_ops())\n",
        "count"
      ]
    },
    {
      "cell_type": "code",
      "execution_count": 7,
      "metadata": {
        "id": "Hz8eaDgxCnDF",
        "outputId": "db8ae1d5-1417-4674-cc59-e43afd654151",
        "colab": {
          "base_uri": "https://localhost:8080/"
        }
      },
      "outputs": [
        {
          "output_type": "stream",
          "name": "stdout",
          "text": [
            "For 4 qubits there are 535 gates in total.\n"
          ]
        }
      ],
      "source": [
        "r = 0\n",
        "for k in count:\n",
        "    r += count[k]\n",
        "print(f\"For {n} qubits there are {r} gates in total.\")"
      ]
    },
    {
      "cell_type": "markdown",
      "metadata": {
        "id": "DP-vEvEsCnDF"
      },
      "source": [
        "### Q 2.3 Analysis\n",
        "\n",
        "- What are the sizes of the generated circuits ?\n",
        "- What is the complexity of the circuit size in term of number of qubits ?\n",
        "- Can you explain why ?\n",
        "- If it is doable for small `n`, is it realisitic for large sizes ?\n",
        "- What alternate method could you suggest, with what potential drawbacks ?\n"
      ]
    },
    {
      "cell_type": "markdown",
      "metadata": {
        "jp-MarkdownHeadingCollapsed": true,
        "id": "2Rx_fnnECnDF"
      },
      "source": [
        "#### Report your code and answers in the separate report !\n"
      ]
    },
    {
      "cell_type": "markdown",
      "metadata": {
        "id": "jmy9a_7iCnDF"
      },
      "source": [
        "# 3 - Plugging everything together : Shor\n",
        "\n",
        "We are now ready to realize Shor's algorithm\n",
        "\n",
        "## Questions\n",
        "\n",
        "### Q 3.1 The circuit\n",
        "\n",
        "Realize the circuit:\n",
        "- Copy-paste the code of QPE, with 4 qbits of precision for `eig`\n",
        "- Introduce our home-made unitary : choose 5 qbits pour `phi`\n",
        "- Place `phi` in the state corresponding to the integer $1$ in decimal (beware of the position of the low-end bit)\n"
      ]
    },
    {
      "cell_type": "code",
      "execution_count": 37,
      "metadata": {
        "id": "yYjA8RooCnDG",
        "collapsed": true,
        "outputId": "7fd92994-ee7a-436b-bee0-5b707b7dd467",
        "colab": {
          "base_uri": "https://localhost:8080/",
          "height": 663
        }
      },
      "outputs": [
        {
          "output_type": "execute_result",
          "data": {
            "text/plain": [
              "        ┌───┐                                                        ┌───────┐»\n",
              " eig_0: ┤ H ├──────■─────────────────────────────────────────────────┤0      ├»\n",
              "        ├───┤      │                                                 │       │»\n",
              " eig_1: ┤ H ├──────┼─────────────■───────────────────────────────────┤1      ├»\n",
              "        ├───┤      │             │                                   │  IQFT │»\n",
              " eig_2: ┤ H ├──────┼─────────────┼─────────────■─────────────────────┤2      ├»\n",
              "        ├───┤      │             │             │                     │       │»\n",
              " eig_3: ┤ H ├──────┼─────────────┼─────────────┼─────────────■───────┤3      ├»\n",
              "        └───┘┌─────┴──────┐┌─────┴──────┐┌─────┴──────┐┌─────┴──────┐└───────┘»\n",
              " phi_0: ─────┤0           ├┤0           ├┤0           ├┤0           ├─────────»\n",
              "             │            ││            ││            ││            │         »\n",
              " phi_1: ─────┤1           ├┤1           ├┤1           ├┤1           ├─────────»\n",
              "             │            ││            ││            ││            │         »\n",
              " phi_2: ─────┤2 unitary^1 ├┤2 unitary^2 ├┤2 unitary^4 ├┤2 unitary^8 ├─────────»\n",
              "             │            ││            ││            ││            │         »\n",
              " phi_3: ─────┤3           ├┤3           ├┤3           ├┤3           ├─────────»\n",
              "        ┌───┐│            ││            ││            ││            │         »\n",
              " phi_4: ┤ X ├┤4           ├┤4           ├┤4           ├┤4           ├─────────»\n",
              "        └───┘└────────────┘└────────────┘└────────────┘└────────────┘         »\n",
              "ceig: 4/══════════════════════════════════════════════════════════════════════»\n",
              "                                                                              »\n",
              "«        ┌─┐         \n",
              "« eig_0: ┤M├─────────\n",
              "«        └╥┘┌─┐      \n",
              "« eig_1: ─╫─┤M├──────\n",
              "«         ║ └╥┘┌─┐   \n",
              "« eig_2: ─╫──╫─┤M├───\n",
              "«         ║  ║ └╥┘┌─┐\n",
              "« eig_3: ─╫──╫──╫─┤M├\n",
              "«         ║  ║  ║ └╥┘\n",
              "« phi_0: ─╫──╫──╫──╫─\n",
              "«         ║  ║  ║  ║ \n",
              "« phi_1: ─╫──╫──╫──╫─\n",
              "«         ║  ║  ║  ║ \n",
              "« phi_2: ─╫──╫──╫──╫─\n",
              "«         ║  ║  ║  ║ \n",
              "« phi_3: ─╫──╫──╫──╫─\n",
              "«         ║  ║  ║  ║ \n",
              "« phi_4: ─╫──╫──╫──╫─\n",
              "«         ║  ║  ║  ║ \n",
              "«ceig: 4/═╩══╩══╩══╩═\n",
              "«         0  1  2  3 "
            ],
            "text/html": [
              "<pre style=\"word-wrap: normal;white-space: pre;background: #fff0;line-height: 1.1;font-family: &quot;Courier New&quot;,Courier,monospace\">        ┌───┐                                                        ┌───────┐»\n",
              " eig_0: ┤ H ├──────■─────────────────────────────────────────────────┤0      ├»\n",
              "        ├───┤      │                                                 │       │»\n",
              " eig_1: ┤ H ├──────┼─────────────■───────────────────────────────────┤1      ├»\n",
              "        ├───┤      │             │                                   │  IQFT │»\n",
              " eig_2: ┤ H ├──────┼─────────────┼─────────────■─────────────────────┤2      ├»\n",
              "        ├───┤      │             │             │                     │       │»\n",
              " eig_3: ┤ H ├──────┼─────────────┼─────────────┼─────────────■───────┤3      ├»\n",
              "        └───┘┌─────┴──────┐┌─────┴──────┐┌─────┴──────┐┌─────┴──────┐└───────┘»\n",
              " phi_0: ─────┤0           ├┤0           ├┤0           ├┤0           ├─────────»\n",
              "             │            ││            ││            ││            │         »\n",
              " phi_1: ─────┤1           ├┤1           ├┤1           ├┤1           ├─────────»\n",
              "             │            ││            ││            ││            │         »\n",
              " phi_2: ─────┤2 unitary^1 ├┤2 unitary^2 ├┤2 unitary^4 ├┤2 unitary^8 ├─────────»\n",
              "             │            ││            ││            ││            │         »\n",
              " phi_3: ─────┤3           ├┤3           ├┤3           ├┤3           ├─────────»\n",
              "        ┌───┐│            ││            ││            ││            │         »\n",
              " phi_4: ┤ X ├┤4           ├┤4           ├┤4           ├┤4           ├─────────»\n",
              "        └───┘└────────────┘└────────────┘└────────────┘└────────────┘         »\n",
              "ceig: 4/══════════════════════════════════════════════════════════════════════»\n",
              "                                                                              »\n",
              "«        ┌─┐         \n",
              "« eig_0: ┤M├─────────\n",
              "«        └╥┘┌─┐      \n",
              "« eig_1: ─╫─┤M├──────\n",
              "«         ║ └╥┘┌─┐   \n",
              "« eig_2: ─╫──╫─┤M├───\n",
              "«         ║  ║ └╥┘┌─┐\n",
              "« eig_3: ─╫──╫──╫─┤M├\n",
              "«         ║  ║  ║ └╥┘\n",
              "« phi_0: ─╫──╫──╫──╫─\n",
              "«         ║  ║  ║  ║ \n",
              "« phi_1: ─╫──╫──╫──╫─\n",
              "«         ║  ║  ║  ║ \n",
              "« phi_2: ─╫──╫──╫──╫─\n",
              "«         ║  ║  ║  ║ \n",
              "« phi_3: ─╫──╫──╫──╫─\n",
              "«         ║  ║  ║  ║ \n",
              "« phi_4: ─╫──╫──╫──╫─\n",
              "«         ║  ║  ║  ║ \n",
              "«ceig: 4/═╩══╩══╩══╩═\n",
              "«         0  1  2  3 </pre>"
            ]
          },
          "metadata": {},
          "execution_count": 37
        }
      ],
      "source": [
        "a = 7\n",
        "N = 30\n",
        "\n",
        "size_eig = 4\n",
        "size_phi = 5\n",
        "p=1\n",
        "# ...\n",
        "eig = QuantumRegister(size_eig, name=\"eig\")\n",
        "phi = QuantumRegister(size_phi, name=\"phi\")\n",
        "ceig = ClassicalRegister(size_eig, name=\"ceig\")\n",
        "qc = QuantumCircuit(eig,phi,ceig)\n",
        "\n",
        "U = gateMult(a, p, N, size_phi)\n",
        "\n",
        "qc.x(phi[-1])\n",
        "qc.h(eig)\n",
        "\n",
        "qc.append(U.power(1).control(), [eig[0]] + list(phi))\n",
        "qc.append(U.power(2).control(), [eig[1]] + list(phi))\n",
        "qc.append(U.power(4).control(), [eig[2]] + list(phi))\n",
        "qc.append(U.power(8).control(), [eig[3]] + list(phi))\n",
        "\n",
        "qc.append(QFT(size_eig).inverse(), eig)\n",
        "\n",
        "qc.measure(eig, ceig)\n",
        "\n",
        "\n",
        "\n",
        "# ...\n",
        "\n",
        "# At the end, we draw the circuit to check that everyting is in order.\n",
        "qc.draw()"
      ]
    },
    {
      "cell_type": "code",
      "execution_count": 38,
      "metadata": {
        "scrolled": true,
        "id": "Xp7fxqp-CnDG",
        "outputId": "a3fd0463-32cc-40a7-a27f-da3b203af024",
        "colab": {
          "base_uri": "https://localhost:8080/"
        }
      },
      "outputs": [
        {
          "output_type": "execute_result",
          "data": {
            "text/plain": [
              "{'0000': 265, '1100': 264, '1000': 250, '0100': 245}"
            ]
          },
          "metadata": {},
          "execution_count": 38
        }
      ],
      "source": [
        "# Then we can run things.\n",
        "basis_gates = ['id', 'rx', 'ry', 'rz', 'cx']\n",
        "transpiled_qc = transpile(qc, basis_gates=basis_gates)\n",
        "\n",
        "simulator = AerSimulator()\n",
        "job = simulator.run(transpiled_qc, shots=1024)\n",
        "d = dict(job.result().get_counts())\n",
        "d"
      ]
    },
    {
      "cell_type": "markdown",
      "metadata": {
        "id": "Ms90TdEsCnDG"
      },
      "source": [
        "### Q 3.2 Results\n",
        "\n",
        "We get a distribution of résults in the form of a dictionary.\n",
        " - each key is morally a fraction $s/r$, for $r$ the order of $a$ mod $N$\n",
        " - it is only written with some precision (depending on the chosen number of bits), and it is written in binary.\n",
        " - The value associated to a key is the number of times we found the corresponding key.\n",
        "\n",
        "Below is a code drawing a graph out of `d` with horizontal axis the key, in decimal, and in vertical axis the number of times we found it."
      ]
    },
    {
      "cell_type": "code",
      "execution_count": 39,
      "metadata": {
        "scrolled": true,
        "id": "MaWb27BsCnDG",
        "outputId": "21886f3f-501a-48b0-b7eb-d2b233f0c2ab",
        "colab": {
          "base_uri": "https://localhost:8080/",
          "height": 435
        }
      },
      "outputs": [
        {
          "output_type": "execute_result",
          "data": {
            "text/plain": [
              "[<matplotlib.lines.Line2D at 0x7d34d5df0bb0>]"
            ]
          },
          "metadata": {},
          "execution_count": 39
        },
        {
          "output_type": "display_data",
          "data": {
            "text/plain": [
              "<Figure size 640x480 with 1 Axes>"
            ],
            "image/svg+xml": "<?xml version=\"1.0\" encoding=\"utf-8\" standalone=\"no\"?>\n<!DOCTYPE svg PUBLIC \"-//W3C//DTD SVG 1.1//EN\"\n  \"http://www.w3.org/Graphics/SVG/1.1/DTD/svg11.dtd\">\n<svg xmlns:xlink=\"http://www.w3.org/1999/xlink\" width=\"397.6075pt\" height=\"297.190125pt\" viewBox=\"0 0 397.6075 297.190125\" xmlns=\"http://www.w3.org/2000/svg\" version=\"1.1\">\n <metadata>\n  <rdf:RDF xmlns:dc=\"http://purl.org/dc/elements/1.1/\" xmlns:cc=\"http://creativecommons.org/ns#\" xmlns:rdf=\"http://www.w3.org/1999/02/22-rdf-syntax-ns#\">\n   <cc:Work>\n    <dc:type rdf:resource=\"http://purl.org/dc/dcmitype/StillImage\"/>\n    <dc:date>2024-10-24T17:40:36.799182</dc:date>\n    <dc:format>image/svg+xml</dc:format>\n    <dc:creator>\n     <cc:Agent>\n      <dc:title>Matplotlib v3.7.1, https://matplotlib.org/</dc:title>\n     </cc:Agent>\n    </dc:creator>\n   </cc:Work>\n  </rdf:RDF>\n </metadata>\n <defs>\n  <style type=\"text/css\">*{stroke-linejoin: round; stroke-linecap: butt}</style>\n </defs>\n <g id=\"figure_1\">\n  <g id=\"patch_1\">\n   <path d=\"M 0 297.190125 \nL 397.6075 297.190125 \nL 397.6075 0 \nL 0 0 \nz\n\" style=\"fill: #ffffff\"/>\n  </g>\n  <g id=\"axes_1\">\n   <g id=\"patch_2\">\n    <path d=\"M 33.2875 273.312 \nL 390.4075 273.312 \nL 390.4075 7.2 \nL 33.2875 7.2 \nz\n\" style=\"fill: #ffffff\"/>\n   </g>\n   <g id=\"matplotlib.axis_1\">\n    <g id=\"xtick_1\">\n     <g id=\"line2d_1\">\n      <defs>\n       <path id=\"mb928932c95\" d=\"M 0 0 \nL 0 3.5 \n\" style=\"stroke: #000000; stroke-width: 0.8\"/>\n      </defs>\n      <g>\n       <use xlink:href=\"#mb928932c95\" x=\"49.520227\" y=\"273.312\" style=\"stroke: #000000; stroke-width: 0.8\"/>\n      </g>\n     </g>\n     <g id=\"text_1\">\n      <!-- 0 -->\n      <g transform=\"translate(46.338977 287.910437) scale(0.1 -0.1)\">\n       <defs>\n        <path id=\"DejaVuSans-30\" d=\"M 2034 4250 \nQ 1547 4250 1301 3770 \nQ 1056 3291 1056 2328 \nQ 1056 1369 1301 889 \nQ 1547 409 2034 409 \nQ 2525 409 2770 889 \nQ 3016 1369 3016 2328 \nQ 3016 3291 2770 3770 \nQ 2525 4250 2034 4250 \nz\nM 2034 4750 \nQ 2819 4750 3233 4129 \nQ 3647 3509 3647 2328 \nQ 3647 1150 3233 529 \nQ 2819 -91 2034 -91 \nQ 1250 -91 836 529 \nQ 422 1150 422 2328 \nQ 422 3509 836 4129 \nQ 1250 4750 2034 4750 \nz\n\" transform=\"scale(0.015625)\"/>\n       </defs>\n       <use xlink:href=\"#DejaVuSans-30\"/>\n      </g>\n     </g>\n    </g>\n    <g id=\"xtick_2\">\n     <g id=\"line2d_2\">\n      <g>\n       <use xlink:href=\"#mb928932c95\" x=\"92.8075\" y=\"273.312\" style=\"stroke: #000000; stroke-width: 0.8\"/>\n      </g>\n     </g>\n     <g id=\"text_2\">\n      <!-- 2 -->\n      <g transform=\"translate(89.62625 287.910437) scale(0.1 -0.1)\">\n       <defs>\n        <path id=\"DejaVuSans-32\" d=\"M 1228 531 \nL 3431 531 \nL 3431 0 \nL 469 0 \nL 469 531 \nQ 828 903 1448 1529 \nQ 2069 2156 2228 2338 \nQ 2531 2678 2651 2914 \nQ 2772 3150 2772 3378 \nQ 2772 3750 2511 3984 \nQ 2250 4219 1831 4219 \nQ 1534 4219 1204 4116 \nQ 875 4013 500 3803 \nL 500 4441 \nQ 881 4594 1212 4672 \nQ 1544 4750 1819 4750 \nQ 2544 4750 2975 4387 \nQ 3406 4025 3406 3419 \nQ 3406 3131 3298 2873 \nQ 3191 2616 2906 2266 \nQ 2828 2175 2409 1742 \nQ 1991 1309 1228 531 \nz\n\" transform=\"scale(0.015625)\"/>\n       </defs>\n       <use xlink:href=\"#DejaVuSans-32\"/>\n      </g>\n     </g>\n    </g>\n    <g id=\"xtick_3\">\n     <g id=\"line2d_3\">\n      <g>\n       <use xlink:href=\"#mb928932c95\" x=\"136.094773\" y=\"273.312\" style=\"stroke: #000000; stroke-width: 0.8\"/>\n      </g>\n     </g>\n     <g id=\"text_3\">\n      <!-- 4 -->\n      <g transform=\"translate(132.913523 287.910437) scale(0.1 -0.1)\">\n       <defs>\n        <path id=\"DejaVuSans-34\" d=\"M 2419 4116 \nL 825 1625 \nL 2419 1625 \nL 2419 4116 \nz\nM 2253 4666 \nL 3047 4666 \nL 3047 1625 \nL 3713 1625 \nL 3713 1100 \nL 3047 1100 \nL 3047 0 \nL 2419 0 \nL 2419 1100 \nL 313 1100 \nL 313 1709 \nL 2253 4666 \nz\n\" transform=\"scale(0.015625)\"/>\n       </defs>\n       <use xlink:href=\"#DejaVuSans-34\"/>\n      </g>\n     </g>\n    </g>\n    <g id=\"xtick_4\">\n     <g id=\"line2d_4\">\n      <g>\n       <use xlink:href=\"#mb928932c95\" x=\"179.382045\" y=\"273.312\" style=\"stroke: #000000; stroke-width: 0.8\"/>\n      </g>\n     </g>\n     <g id=\"text_4\">\n      <!-- 6 -->\n      <g transform=\"translate(176.200795 287.910437) scale(0.1 -0.1)\">\n       <defs>\n        <path id=\"DejaVuSans-36\" d=\"M 2113 2584 \nQ 1688 2584 1439 2293 \nQ 1191 2003 1191 1497 \nQ 1191 994 1439 701 \nQ 1688 409 2113 409 \nQ 2538 409 2786 701 \nQ 3034 994 3034 1497 \nQ 3034 2003 2786 2293 \nQ 2538 2584 2113 2584 \nz\nM 3366 4563 \nL 3366 3988 \nQ 3128 4100 2886 4159 \nQ 2644 4219 2406 4219 \nQ 1781 4219 1451 3797 \nQ 1122 3375 1075 2522 \nQ 1259 2794 1537 2939 \nQ 1816 3084 2150 3084 \nQ 2853 3084 3261 2657 \nQ 3669 2231 3669 1497 \nQ 3669 778 3244 343 \nQ 2819 -91 2113 -91 \nQ 1303 -91 875 529 \nQ 447 1150 447 2328 \nQ 447 3434 972 4092 \nQ 1497 4750 2381 4750 \nQ 2619 4750 2861 4703 \nQ 3103 4656 3366 4563 \nz\n\" transform=\"scale(0.015625)\"/>\n       </defs>\n       <use xlink:href=\"#DejaVuSans-36\"/>\n      </g>\n     </g>\n    </g>\n    <g id=\"xtick_5\">\n     <g id=\"line2d_5\">\n      <g>\n       <use xlink:href=\"#mb928932c95\" x=\"222.669318\" y=\"273.312\" style=\"stroke: #000000; stroke-width: 0.8\"/>\n      </g>\n     </g>\n     <g id=\"text_5\">\n      <!-- 8 -->\n      <g transform=\"translate(219.488068 287.910437) scale(0.1 -0.1)\">\n       <defs>\n        <path id=\"DejaVuSans-38\" d=\"M 2034 2216 \nQ 1584 2216 1326 1975 \nQ 1069 1734 1069 1313 \nQ 1069 891 1326 650 \nQ 1584 409 2034 409 \nQ 2484 409 2743 651 \nQ 3003 894 3003 1313 \nQ 3003 1734 2745 1975 \nQ 2488 2216 2034 2216 \nz\nM 1403 2484 \nQ 997 2584 770 2862 \nQ 544 3141 544 3541 \nQ 544 4100 942 4425 \nQ 1341 4750 2034 4750 \nQ 2731 4750 3128 4425 \nQ 3525 4100 3525 3541 \nQ 3525 3141 3298 2862 \nQ 3072 2584 2669 2484 \nQ 3125 2378 3379 2068 \nQ 3634 1759 3634 1313 \nQ 3634 634 3220 271 \nQ 2806 -91 2034 -91 \nQ 1263 -91 848 271 \nQ 434 634 434 1313 \nQ 434 1759 690 2068 \nQ 947 2378 1403 2484 \nz\nM 1172 3481 \nQ 1172 3119 1398 2916 \nQ 1625 2713 2034 2713 \nQ 2441 2713 2670 2916 \nQ 2900 3119 2900 3481 \nQ 2900 3844 2670 4047 \nQ 2441 4250 2034 4250 \nQ 1625 4250 1398 4047 \nQ 1172 3844 1172 3481 \nz\n\" transform=\"scale(0.015625)\"/>\n       </defs>\n       <use xlink:href=\"#DejaVuSans-38\"/>\n      </g>\n     </g>\n    </g>\n    <g id=\"xtick_6\">\n     <g id=\"line2d_6\">\n      <g>\n       <use xlink:href=\"#mb928932c95\" x=\"265.956591\" y=\"273.312\" style=\"stroke: #000000; stroke-width: 0.8\"/>\n      </g>\n     </g>\n     <g id=\"text_6\">\n      <!-- 10 -->\n      <g transform=\"translate(259.594091 287.910437) scale(0.1 -0.1)\">\n       <defs>\n        <path id=\"DejaVuSans-31\" d=\"M 794 531 \nL 1825 531 \nL 1825 4091 \nL 703 3866 \nL 703 4441 \nL 1819 4666 \nL 2450 4666 \nL 2450 531 \nL 3481 531 \nL 3481 0 \nL 794 0 \nL 794 531 \nz\n\" transform=\"scale(0.015625)\"/>\n       </defs>\n       <use xlink:href=\"#DejaVuSans-31\"/>\n       <use xlink:href=\"#DejaVuSans-30\" x=\"63.623047\"/>\n      </g>\n     </g>\n    </g>\n    <g id=\"xtick_7\">\n     <g id=\"line2d_7\">\n      <g>\n       <use xlink:href=\"#mb928932c95\" x=\"309.243864\" y=\"273.312\" style=\"stroke: #000000; stroke-width: 0.8\"/>\n      </g>\n     </g>\n     <g id=\"text_7\">\n      <!-- 12 -->\n      <g transform=\"translate(302.881364 287.910437) scale(0.1 -0.1)\">\n       <use xlink:href=\"#DejaVuSans-31\"/>\n       <use xlink:href=\"#DejaVuSans-32\" x=\"63.623047\"/>\n      </g>\n     </g>\n    </g>\n    <g id=\"xtick_8\">\n     <g id=\"line2d_8\">\n      <g>\n       <use xlink:href=\"#mb928932c95\" x=\"352.531136\" y=\"273.312\" style=\"stroke: #000000; stroke-width: 0.8\"/>\n      </g>\n     </g>\n     <g id=\"text_8\">\n      <!-- 14 -->\n      <g transform=\"translate(346.168636 287.910437) scale(0.1 -0.1)\">\n       <use xlink:href=\"#DejaVuSans-31\"/>\n       <use xlink:href=\"#DejaVuSans-34\" x=\"63.623047\"/>\n      </g>\n     </g>\n    </g>\n   </g>\n   <g id=\"matplotlib.axis_2\">\n    <g id=\"ytick_1\">\n     <g id=\"line2d_9\">\n      <defs>\n       <path id=\"mf051d8b452\" d=\"M 0 0 \nL -3.5 0 \n\" style=\"stroke: #000000; stroke-width: 0.8\"/>\n      </defs>\n      <g>\n       <use xlink:href=\"#mf051d8b452\" x=\"33.2875\" y=\"261.216\" style=\"stroke: #000000; stroke-width: 0.8\"/>\n      </g>\n     </g>\n     <g id=\"text_9\">\n      <!-- 0 -->\n      <g transform=\"translate(19.925 265.015219) scale(0.1 -0.1)\">\n       <use xlink:href=\"#DejaVuSans-30\"/>\n      </g>\n     </g>\n    </g>\n    <g id=\"ytick_2\">\n     <g id=\"line2d_10\">\n      <g>\n       <use xlink:href=\"#mf051d8b452\" x=\"33.2875\" y=\"215.570717\" style=\"stroke: #000000; stroke-width: 0.8\"/>\n      </g>\n     </g>\n     <g id=\"text_10\">\n      <!-- 50 -->\n      <g transform=\"translate(13.5625 219.369936) scale(0.1 -0.1)\">\n       <defs>\n        <path id=\"DejaVuSans-35\" d=\"M 691 4666 \nL 3169 4666 \nL 3169 4134 \nL 1269 4134 \nL 1269 2991 \nQ 1406 3038 1543 3061 \nQ 1681 3084 1819 3084 \nQ 2600 3084 3056 2656 \nQ 3513 2228 3513 1497 \nQ 3513 744 3044 326 \nQ 2575 -91 1722 -91 \nQ 1428 -91 1123 -41 \nQ 819 9 494 109 \nL 494 744 \nQ 775 591 1075 516 \nQ 1375 441 1709 441 \nQ 2250 441 2565 725 \nQ 2881 1009 2881 1497 \nQ 2881 1984 2565 2268 \nQ 2250 2553 1709 2553 \nQ 1456 2553 1204 2497 \nQ 953 2441 691 2322 \nL 691 4666 \nz\n\" transform=\"scale(0.015625)\"/>\n       </defs>\n       <use xlink:href=\"#DejaVuSans-35\"/>\n       <use xlink:href=\"#DejaVuSans-30\" x=\"63.623047\"/>\n      </g>\n     </g>\n    </g>\n    <g id=\"ytick_3\">\n     <g id=\"line2d_11\">\n      <g>\n       <use xlink:href=\"#mf051d8b452\" x=\"33.2875\" y=\"169.925434\" style=\"stroke: #000000; stroke-width: 0.8\"/>\n      </g>\n     </g>\n     <g id=\"text_11\">\n      <!-- 100 -->\n      <g transform=\"translate(7.2 173.724653) scale(0.1 -0.1)\">\n       <use xlink:href=\"#DejaVuSans-31\"/>\n       <use xlink:href=\"#DejaVuSans-30\" x=\"63.623047\"/>\n       <use xlink:href=\"#DejaVuSans-30\" x=\"127.246094\"/>\n      </g>\n     </g>\n    </g>\n    <g id=\"ytick_4\">\n     <g id=\"line2d_12\">\n      <g>\n       <use xlink:href=\"#mf051d8b452\" x=\"33.2875\" y=\"124.280151\" style=\"stroke: #000000; stroke-width: 0.8\"/>\n      </g>\n     </g>\n     <g id=\"text_12\">\n      <!-- 150 -->\n      <g transform=\"translate(7.2 128.07937) scale(0.1 -0.1)\">\n       <use xlink:href=\"#DejaVuSans-31\"/>\n       <use xlink:href=\"#DejaVuSans-35\" x=\"63.623047\"/>\n       <use xlink:href=\"#DejaVuSans-30\" x=\"127.246094\"/>\n      </g>\n     </g>\n    </g>\n    <g id=\"ytick_5\">\n     <g id=\"line2d_13\">\n      <g>\n       <use xlink:href=\"#mf051d8b452\" x=\"33.2875\" y=\"78.634868\" style=\"stroke: #000000; stroke-width: 0.8\"/>\n      </g>\n     </g>\n     <g id=\"text_13\">\n      <!-- 200 -->\n      <g transform=\"translate(7.2 82.434087) scale(0.1 -0.1)\">\n       <use xlink:href=\"#DejaVuSans-32\"/>\n       <use xlink:href=\"#DejaVuSans-30\" x=\"63.623047\"/>\n       <use xlink:href=\"#DejaVuSans-30\" x=\"127.246094\"/>\n      </g>\n     </g>\n    </g>\n    <g id=\"ytick_6\">\n     <g id=\"line2d_14\">\n      <g>\n       <use xlink:href=\"#mf051d8b452\" x=\"33.2875\" y=\"32.989585\" style=\"stroke: #000000; stroke-width: 0.8\"/>\n      </g>\n     </g>\n     <g id=\"text_14\">\n      <!-- 250 -->\n      <g transform=\"translate(7.2 36.788804) scale(0.1 -0.1)\">\n       <use xlink:href=\"#DejaVuSans-32\"/>\n       <use xlink:href=\"#DejaVuSans-35\" x=\"63.623047\"/>\n       <use xlink:href=\"#DejaVuSans-30\" x=\"127.246094\"/>\n      </g>\n     </g>\n    </g>\n   </g>\n   <g id=\"line2d_15\">\n    <path d=\"M 49.520227 19.296 \nL 71.163864 261.216 \nL 92.8075 261.216 \nL 114.451136 261.216 \nL 136.094773 37.554113 \nL 157.738409 261.216 \nL 179.382045 261.216 \nL 201.025682 261.216 \nL 222.669318 32.989585 \nL 244.312955 261.216 \nL 265.956591 261.216 \nL 287.600227 261.216 \nL 309.243864 20.208906 \nL 330.8875 261.216 \nL 352.531136 261.216 \nL 374.174773 261.216 \n\" clip-path=\"url(#p49ff15a332)\" style=\"fill: none; stroke: #1f77b4; stroke-width: 1.5; stroke-linecap: square\"/>\n   </g>\n   <g id=\"patch_3\">\n    <path d=\"M 33.2875 273.312 \nL 33.2875 7.2 \n\" style=\"fill: none; stroke: #000000; stroke-width: 0.8; stroke-linejoin: miter; stroke-linecap: square\"/>\n   </g>\n   <g id=\"patch_4\">\n    <path d=\"M 390.4075 273.312 \nL 390.4075 7.2 \n\" style=\"fill: none; stroke: #000000; stroke-width: 0.8; stroke-linejoin: miter; stroke-linecap: square\"/>\n   </g>\n   <g id=\"patch_5\">\n    <path d=\"M 33.2875 273.312 \nL 390.4075 273.312 \n\" style=\"fill: none; stroke: #000000; stroke-width: 0.8; stroke-linejoin: miter; stroke-linecap: square\"/>\n   </g>\n   <g id=\"patch_6\">\n    <path d=\"M 33.2875 7.2 \nL 390.4075 7.2 \n\" style=\"fill: none; stroke: #000000; stroke-width: 0.8; stroke-linejoin: miter; stroke-linecap: square\"/>\n   </g>\n  </g>\n </g>\n <defs>\n  <clipPath id=\"p49ff15a332\">\n   <rect x=\"33.2875\" y=\"7.2\" width=\"357.12\" height=\"266.112\"/>\n  </clipPath>\n </defs>\n</svg>\n"
          },
          "metadata": {}
        }
      ],
      "source": [
        "pts = []\n",
        "for i in range(2**size_eig):\n",
        "        k = nat2bs(size_eig,i)\n",
        "        if k in d:\n",
        "            pts.append((i,d[k]))\n",
        "        else:\n",
        "            pts.append((i,0))\n",
        "\n",
        "def snd(a):\n",
        "    (a1,a2) = a\n",
        "    return a1\n",
        "\n",
        "pts.sort(key = snd)\n",
        "\n",
        "xs = []\n",
        "ys = []\n",
        "for i in range(len(pts)):\n",
        "    (x,y) = pts[i]\n",
        "    xs.append(x)\n",
        "    ys.append(y)\n",
        "plot(xs,ys)"
      ]
    },
    {
      "cell_type": "markdown",
      "metadata": {
        "id": "QU1dzzb-CnDG"
      },
      "source": [
        "### Q 3.3 Analysis\n",
        "\n",
        "- What is the order $r$ of $a$ mod $N$ (here $7$ mod $30$) ?\n",
        "- On the drawing, where are we supposed to see the values $\\frac{s}{r}$ ? The horizontal axis is graded with integers... To what real numbers between 0 and 1 these correspond to ?\n",
        "- Can you infer from the graph the value of $r$ ? Where do you see it on the graph ?\n",
        "- Change a and N respectively to 20 and 29. Can you read the value $r$ ? Is it correct ?\n",
        "- The drawing is not very precise... How to make it better ? Try it !\n",
        "- Is it still working if you change the value of `a` and/or `N` to other values ? Beware not to use too large values for`N`... To get some inspiration, below is the list of possibilities up to 31.\n",
        "\n",
        "**BEWARE** Make sure to only consider coprimes `a` and `N`."
      ]
    },
    {
      "cell_type": "markdown",
      "metadata": {
        "id": "k29GA2TtCnDH"
      },
      "source": [
        "#### Report in the separate report:\n",
        "* your code\n",
        "* screenshots of circuits\n",
        "* the results of your runs\n",
        "* screenshots of plots\n",
        "* answers to questions and discussion\n"
      ]
    },
    {
      "cell_type": "code",
      "execution_count": 25,
      "metadata": {
        "id": "AcPr4FWsCnDH",
        "outputId": "a2c56771-d67b-4e04-97f5-d373395505cd",
        "colab": {
          "base_uri": "https://localhost:8080/"
        }
      },
      "outputs": [
        {
          "output_type": "stream",
          "name": "stdout",
          "text": [
            "Order of 2 mod 3: 2\n",
            "Order of 3 mod 4: 2\n",
            "Order of 2 mod 5: 4\n",
            "Order of 3 mod 5: 4\n",
            "Order of 4 mod 5: 2\n",
            "Order of 5 mod 6: 2\n",
            "Order of 2 mod 7: 3\n",
            "Order of 3 mod 7: 6\n",
            "Order of 4 mod 7: 3\n",
            "Order of 5 mod 7: 6\n",
            "Order of 6 mod 7: 2\n",
            "Order of 3 mod 8: 2\n",
            "Order of 5 mod 8: 2\n",
            "Order of 7 mod 8: 2\n",
            "Order of 2 mod 9: 6\n",
            "Order of 4 mod 9: 3\n",
            "Order of 5 mod 9: 6\n",
            "Order of 7 mod 9: 3\n",
            "Order of 8 mod 9: 2\n",
            "Order of 3 mod 10: 4\n",
            "Order of 7 mod 10: 4\n",
            "Order of 9 mod 10: 2\n",
            "Order of 2 mod 11: 10\n",
            "Order of 3 mod 11: 5\n",
            "Order of 4 mod 11: 5\n",
            "Order of 5 mod 11: 5\n",
            "Order of 6 mod 11: 10\n",
            "Order of 7 mod 11: 10\n",
            "Order of 8 mod 11: 10\n",
            "Order of 9 mod 11: 5\n",
            "Order of 10 mod 11: 2\n",
            "Order of 5 mod 12: 2\n",
            "Order of 7 mod 12: 2\n",
            "Order of 11 mod 12: 2\n",
            "Order of 2 mod 13: 12\n",
            "Order of 3 mod 13: 3\n",
            "Order of 4 mod 13: 6\n",
            "Order of 5 mod 13: 4\n",
            "Order of 6 mod 13: 12\n",
            "Order of 7 mod 13: 12\n",
            "Order of 8 mod 13: 4\n",
            "Order of 9 mod 13: 3\n",
            "Order of 10 mod 13: 6\n",
            "Order of 11 mod 13: 12\n",
            "Order of 12 mod 13: 2\n",
            "Order of 3 mod 14: 6\n",
            "Order of 5 mod 14: 6\n",
            "Order of 9 mod 14: 3\n",
            "Order of 11 mod 14: 3\n",
            "Order of 13 mod 14: 2\n",
            "Order of 2 mod 15: 4\n",
            "Order of 4 mod 15: 2\n",
            "Order of 7 mod 15: 4\n",
            "Order of 8 mod 15: 4\n",
            "Order of 11 mod 15: 2\n",
            "Order of 13 mod 15: 4\n",
            "Order of 14 mod 15: 2\n",
            "Order of 3 mod 16: 4\n",
            "Order of 5 mod 16: 4\n",
            "Order of 7 mod 16: 2\n",
            "Order of 9 mod 16: 2\n",
            "Order of 11 mod 16: 4\n",
            "Order of 13 mod 16: 4\n",
            "Order of 15 mod 16: 2\n",
            "Order of 2 mod 17: 8\n",
            "Order of 3 mod 17: 16\n",
            "Order of 4 mod 17: 4\n",
            "Order of 5 mod 17: 16\n",
            "Order of 6 mod 17: 16\n",
            "Order of 7 mod 17: 16\n",
            "Order of 8 mod 17: 8\n",
            "Order of 9 mod 17: 8\n",
            "Order of 10 mod 17: 16\n",
            "Order of 11 mod 17: 16\n",
            "Order of 12 mod 17: 16\n",
            "Order of 13 mod 17: 4\n",
            "Order of 14 mod 17: 16\n",
            "Order of 15 mod 17: 8\n",
            "Order of 16 mod 17: 2\n",
            "Order of 5 mod 18: 6\n",
            "Order of 7 mod 18: 3\n",
            "Order of 11 mod 18: 6\n",
            "Order of 13 mod 18: 3\n",
            "Order of 17 mod 18: 2\n",
            "Order of 2 mod 19: 18\n",
            "Order of 3 mod 19: 18\n",
            "Order of 4 mod 19: 9\n",
            "Order of 5 mod 19: 9\n",
            "Order of 6 mod 19: 9\n",
            "Order of 7 mod 19: 3\n",
            "Order of 8 mod 19: 6\n",
            "Order of 9 mod 19: 9\n",
            "Order of 10 mod 19: 18\n",
            "Order of 11 mod 19: 3\n",
            "Order of 12 mod 19: 6\n",
            "Order of 13 mod 19: 18\n",
            "Order of 14 mod 19: 18\n",
            "Order of 15 mod 19: 18\n",
            "Order of 16 mod 19: 9\n",
            "Order of 17 mod 19: 9\n",
            "Order of 18 mod 19: 2\n",
            "Order of 3 mod 20: 4\n",
            "Order of 7 mod 20: 4\n",
            "Order of 9 mod 20: 2\n",
            "Order of 11 mod 20: 2\n",
            "Order of 13 mod 20: 4\n",
            "Order of 17 mod 20: 4\n",
            "Order of 19 mod 20: 2\n",
            "Order of 2 mod 21: 6\n",
            "Order of 4 mod 21: 3\n",
            "Order of 5 mod 21: 6\n",
            "Order of 8 mod 21: 2\n",
            "Order of 10 mod 21: 6\n",
            "Order of 11 mod 21: 6\n",
            "Order of 13 mod 21: 2\n",
            "Order of 16 mod 21: 3\n",
            "Order of 17 mod 21: 6\n",
            "Order of 19 mod 21: 6\n",
            "Order of 20 mod 21: 2\n",
            "Order of 3 mod 22: 5\n",
            "Order of 5 mod 22: 5\n",
            "Order of 7 mod 22: 10\n",
            "Order of 9 mod 22: 5\n",
            "Order of 13 mod 22: 10\n",
            "Order of 15 mod 22: 5\n",
            "Order of 17 mod 22: 10\n",
            "Order of 19 mod 22: 10\n",
            "Order of 21 mod 22: 2\n",
            "Order of 2 mod 23: 11\n",
            "Order of 3 mod 23: 11\n",
            "Order of 4 mod 23: 11\n",
            "Order of 5 mod 23: 22\n",
            "Order of 6 mod 23: 11\n",
            "Order of 7 mod 23: 22\n",
            "Order of 8 mod 23: 11\n",
            "Order of 9 mod 23: 11\n",
            "Order of 10 mod 23: 22\n",
            "Order of 11 mod 23: 22\n",
            "Order of 12 mod 23: 11\n",
            "Order of 13 mod 23: 11\n",
            "Order of 14 mod 23: 22\n",
            "Order of 15 mod 23: 22\n",
            "Order of 16 mod 23: 11\n",
            "Order of 17 mod 23: 22\n",
            "Order of 18 mod 23: 11\n",
            "Order of 19 mod 23: 22\n",
            "Order of 20 mod 23: 22\n",
            "Order of 21 mod 23: 22\n",
            "Order of 22 mod 23: 2\n",
            "Order of 5 mod 24: 2\n",
            "Order of 7 mod 24: 2\n",
            "Order of 11 mod 24: 2\n",
            "Order of 13 mod 24: 2\n",
            "Order of 17 mod 24: 2\n",
            "Order of 19 mod 24: 2\n",
            "Order of 23 mod 24: 2\n",
            "Order of 2 mod 25: 20\n",
            "Order of 3 mod 25: 20\n",
            "Order of 4 mod 25: 10\n",
            "Order of 6 mod 25: 5\n",
            "Order of 7 mod 25: 4\n",
            "Order of 8 mod 25: 20\n",
            "Order of 9 mod 25: 10\n",
            "Order of 11 mod 25: 5\n",
            "Order of 12 mod 25: 20\n",
            "Order of 13 mod 25: 20\n",
            "Order of 14 mod 25: 10\n",
            "Order of 16 mod 25: 5\n",
            "Order of 17 mod 25: 20\n",
            "Order of 18 mod 25: 4\n",
            "Order of 19 mod 25: 10\n",
            "Order of 21 mod 25: 5\n",
            "Order of 22 mod 25: 20\n",
            "Order of 23 mod 25: 20\n",
            "Order of 24 mod 25: 2\n",
            "Order of 3 mod 26: 3\n",
            "Order of 5 mod 26: 4\n",
            "Order of 7 mod 26: 12\n",
            "Order of 9 mod 26: 3\n",
            "Order of 11 mod 26: 12\n",
            "Order of 15 mod 26: 12\n",
            "Order of 17 mod 26: 6\n",
            "Order of 19 mod 26: 12\n",
            "Order of 21 mod 26: 4\n",
            "Order of 23 mod 26: 6\n",
            "Order of 25 mod 26: 2\n",
            "Order of 2 mod 27: 18\n",
            "Order of 4 mod 27: 9\n",
            "Order of 5 mod 27: 18\n",
            "Order of 7 mod 27: 9\n",
            "Order of 8 mod 27: 6\n",
            "Order of 10 mod 27: 3\n",
            "Order of 11 mod 27: 18\n",
            "Order of 13 mod 27: 9\n",
            "Order of 14 mod 27: 18\n",
            "Order of 16 mod 27: 9\n",
            "Order of 17 mod 27: 6\n",
            "Order of 19 mod 27: 3\n",
            "Order of 20 mod 27: 18\n",
            "Order of 22 mod 27: 9\n",
            "Order of 23 mod 27: 18\n",
            "Order of 25 mod 27: 9\n",
            "Order of 26 mod 27: 2\n",
            "Order of 3 mod 28: 6\n",
            "Order of 5 mod 28: 6\n",
            "Order of 9 mod 28: 3\n",
            "Order of 11 mod 28: 6\n",
            "Order of 13 mod 28: 2\n",
            "Order of 15 mod 28: 2\n",
            "Order of 17 mod 28: 6\n",
            "Order of 19 mod 28: 6\n",
            "Order of 23 mod 28: 6\n",
            "Order of 25 mod 28: 3\n",
            "Order of 27 mod 28: 2\n",
            "Order of 2 mod 29: 28\n",
            "Order of 3 mod 29: 28\n",
            "Order of 4 mod 29: 14\n",
            "Order of 5 mod 29: 14\n",
            "Order of 6 mod 29: 14\n",
            "Order of 7 mod 29: 7\n",
            "Order of 8 mod 29: 28\n",
            "Order of 9 mod 29: 14\n",
            "Order of 10 mod 29: 28\n",
            "Order of 11 mod 29: 28\n",
            "Order of 12 mod 29: 4\n",
            "Order of 13 mod 29: 14\n",
            "Order of 14 mod 29: 28\n",
            "Order of 15 mod 29: 28\n",
            "Order of 16 mod 29: 7\n",
            "Order of 17 mod 29: 4\n",
            "Order of 18 mod 29: 28\n",
            "Order of 19 mod 29: 28\n",
            "Order of 20 mod 29: 7\n",
            "Order of 21 mod 29: 28\n",
            "Order of 22 mod 29: 14\n",
            "Order of 23 mod 29: 7\n",
            "Order of 24 mod 29: 7\n",
            "Order of 25 mod 29: 7\n",
            "Order of 26 mod 29: 28\n",
            "Order of 27 mod 29: 28\n",
            "Order of 28 mod 29: 2\n",
            "Order of 7 mod 30: 4\n",
            "Order of 11 mod 30: 2\n",
            "Order of 13 mod 30: 4\n",
            "Order of 17 mod 30: 4\n",
            "Order of 19 mod 30: 2\n",
            "Order of 23 mod 30: 4\n",
            "Order of 29 mod 30: 2\n",
            "Order of 2 mod 31: 5\n",
            "Order of 3 mod 31: 30\n",
            "Order of 4 mod 31: 5\n",
            "Order of 5 mod 31: 3\n",
            "Order of 6 mod 31: 6\n",
            "Order of 7 mod 31: 15\n",
            "Order of 8 mod 31: 5\n",
            "Order of 9 mod 31: 15\n",
            "Order of 10 mod 31: 15\n",
            "Order of 11 mod 31: 30\n",
            "Order of 12 mod 31: 30\n",
            "Order of 13 mod 31: 30\n",
            "Order of 14 mod 31: 15\n",
            "Order of 15 mod 31: 10\n",
            "Order of 16 mod 31: 5\n",
            "Order of 17 mod 31: 30\n",
            "Order of 18 mod 31: 15\n",
            "Order of 19 mod 31: 15\n",
            "Order of 20 mod 31: 15\n",
            "Order of 21 mod 31: 30\n",
            "Order of 22 mod 31: 30\n",
            "Order of 23 mod 31: 10\n",
            "Order of 24 mod 31: 30\n",
            "Order of 25 mod 31: 3\n",
            "Order of 26 mod 31: 6\n",
            "Order of 27 mod 31: 10\n",
            "Order of 28 mod 31: 15\n",
            "Order of 29 mod 31: 10\n",
            "Order of 30 mod 31: 2\n"
          ]
        }
      ],
      "source": [
        "for N in range(3,32):\n",
        "    for a in range(2,N):\n",
        "        if gcd(a,N) == 1:\n",
        "            for p in range(1,N):\n",
        "                if (a ** p) % N == 1:\n",
        "                    break\n",
        "            print(f\"Order of {a} mod {N}: {p}\")"
      ]
    },
    {
      "cell_type": "code",
      "execution_count": null,
      "metadata": {
        "id": "FPsz5w7bCnDH"
      },
      "outputs": [],
      "source": []
    }
  ],
  "metadata": {
    "kernelspec": {
      "display_name": "Python 3 (ipykernel)",
      "language": "python",
      "name": "python3"
    },
    "language_info": {
      "codemirror_mode": {
        "name": "ipython",
        "version": 3
      },
      "file_extension": ".py",
      "mimetype": "text/x-python",
      "name": "python",
      "nbconvert_exporter": "python",
      "pygments_lexer": "ipython3",
      "version": "3.12.6"
    },
    "colab": {
      "provenance": []
    }
  },
  "nbformat": 4,
  "nbformat_minor": 0
}