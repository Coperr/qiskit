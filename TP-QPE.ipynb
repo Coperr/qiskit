{
 "cells": [
  {
   "cell_type": "markdown",
   "metadata": {},
   "source": [
    "# Part 1 : Implementing QPE\n",
    "\n",
    "## To hand out\n",
    "\n",
    "1. A **report** with your answers in a **PDF FILE** (made out of LaTeX, libreoffice, ...)\n",
    "  * Math and text answers\n",
    "  * The code for the circuits\n",
    "  * Screenshot of figures/circuits\n",
    "  * python answers and results of runs\n",
    "  * *etc*\n",
    "  \n",
    "2. **This notebook**\n",
    "  * as a runnable script\n",
    "\n",
    "But first, some libraries to load (nothing to modify here)"
   ]
  },
  {
   "cell_type": "code",
   "execution_count": 1,
   "metadata": {},
   "outputs": [],
   "source": [
    "import numpy as np\n",
    "from math import pi, gcd\n",
    "try:\n",
    "    from qiskit import *\n",
    "    from qiskit_aer import AerSimulator\n",
    "    from matplotlib.pyplot import plot,show\n",
    "except:\n",
    "    ! python -m pip install matplotlib pylatexenc\n",
    "    ! python -m pip install qiskit qiskit-aer\n",
    "from qiskit import *\n",
    "from qiskit.circuit import *\n",
    "from qiskit_aer import AerSimulator\n",
    "from qiskit.circuit.library import *\n",
    "from qiskit.quantum_info.operators import Operator\n",
    "from qiskit.compiler import transpile\n",
    "from qiskit.transpiler import PassManager\n",
    "from scipy import optimize\n",
    "from matplotlib.pyplot import plot,show\n",
    "%matplotlib inline\n",
    "%config InlineBackend.figure_format = 'svg' # Makes the images look nice"
   ]
  },
  {
   "cell_type": "markdown",
   "metadata": {},
   "source": [
    "# 0 - Before anything else\n",
    "\n",
    "### Make sure you checked the notebook TP-Intro-QisKit\n",
    "\n",
    "\n",
    "# 1 - Small practice\n",
    "\n",
    "To start, check that when we measure $\\frac1{\\sqrt2}(|000\\rangle+|111\\rangle)$ we indeed get 000 and 111 about the same number of times. "
   ]
  },
  {
   "cell_type": "code",
   "execution_count": 2,
   "metadata": {},
   "outputs": [],
   "source": [
    "# Generating the circuit\n",
    "\n",
    "q = QuantumRegister(3)   # We need 3 qubits..\n",
    "c = ClassicalRegister(3) # ... and 3 bits to store the results\n",
    "qc = QuantumCircuit(q,c) # the circuit !\n",
    "\n",
    "# TODO : realize the circ that build 1/sqrt(2)(|000>+|111>)\n",
    "# TODO : add a measurement of the memory at the end\n",
    "# TODO : check TP-Intro-QisKit to get how to do it !\n",
    "\n",
    "# TODO : IN REPORT : perform 1000 runs and explain what you see \n",
    "# TODO : print circuit with qc.draw() and screenshot it in the report"
   ]
  },
  {
   "cell_type": "markdown",
   "metadata": {},
   "source": [
    "#### Write record what you did and what you see in the separate report"
   ]
  },
  {
   "cell_type": "markdown",
   "metadata": {},
   "source": [
    "# 2 - QPE\n",
    "\n",
    "We've seen the QPE algorithm in the course, and you checked it worked with 3 qubits. Here we are going to implement it with the following unitary:"
   ]
  },
  {
   "cell_type": "code",
   "execution_count": 3,
   "metadata": {},
   "outputs": [],
   "source": [
    "U = UnitaryGate(\n",
    "    Operator([[1,0,0,0],\n",
    "              [0,1,0,0],\n",
    "              [0,0,1,0],\n",
    "              [0,0,0,np.exp(pi*2j*(6/8))]]), label=\"U\")"
   ]
  },
  {
   "cell_type": "markdown",
   "metadata": {},
   "source": [
    "## Questions \n",
    "\n",
    "###  Q 2.1 Math questions\n",
    "\n",
    "* What is doing this operator ? (`2j` is in Python the complex number $2\\cdot i$)\n",
    "* On how many qubits does it act ?\n",
    "* What are its eigenvalues/eigenvectors ?\n",
    "* For each eigenvector, what should QPE return with 3 bits of precisions, as seen in the course ?\n",
    "\n",
    "#### Give answers and explanations in the separate report "
   ]
  },
  {
   "cell_type": "markdown",
   "metadata": {},
   "source": [
    "### Q 2.2 Implementing QPE\n",
    "\n",
    "Below a template to fill in for\n",
    "- realize QPE with 3 bits of precision.\n",
    "- on the eigenvector of non-trivial eigenvalue\n",
    "\n",
    "We initialized a quantum circuit with 3 registers:\n",
    " - `eig` for storing the eigenvalues\n",
    " - `phi` for storing the eigenvector\n",
    " - `ceig` for storing the result of the measurement of the eigenvalue-register.\n",
    " \n",
    "Note that we only need to measure the eigenvalues!\n",
    "\n",
    "What you will need:\n",
    " - `QFT(size)` build for you a QFT on `size` qubits.\n",
    " - `U.control()` for controlling a gate `U`. The control qubit should be placed first in the list of wires.\n",
    " - `U.inverse()` for the inverse of the gate `U`.\n",
    " - `U.power(p)` add `p` times `U` on the circuit.\n",
    " - `qc.append(U, list_of_qubits)` applies the gate `U` on the list of qubits.\n",
    " - Beware : `phi` (for instance) is not a list but a register. So if you want to concatenate it with something else, you first have to make a list out of it with `list(phi)`."
   ]
  },
  {
   "cell_type": "code",
   "execution_count": 4,
   "metadata": {},
   "outputs": [
    {
     "data": {
      "text/html": [
       "<pre style=\"word-wrap: normal;white-space: pre;background: #fff0;line-height: 1.1;font-family: &quot;Courier New&quot;,Courier,monospace\">        ┌─┐      \n",
       " eig_0: ┤M├──────\n",
       "        └╥┘┌─┐   \n",
       " eig_1: ─╫─┤M├───\n",
       "         ║ └╥┘┌─┐\n",
       " eig_2: ─╫──╫─┤M├\n",
       "         ║  ║ └╥┘\n",
       " phi_0: ─╫──╫──╫─\n",
       "         ║  ║  ║ \n",
       " phi_1: ─╫──╫──╫─\n",
       "         ║  ║  ║ \n",
       "ceig: 3/═╩══╩══╩═\n",
       "         0  1  2 </pre>"
      ],
      "text/plain": [
       "        ┌─┐      \n",
       " eig_0: ┤M├──────\n",
       "        └╥┘┌─┐   \n",
       " eig_1: ─╫─┤M├───\n",
       "         ║ └╥┘┌─┐\n",
       " eig_2: ─╫──╫─┤M├\n",
       "         ║  ║ └╥┘\n",
       " phi_0: ─╫──╫──╫─\n",
       "         ║  ║  ║ \n",
       " phi_1: ─╫──╫──╫─\n",
       "         ║  ║  ║ \n",
       "ceig: 3/═╩══╩══╩═\n",
       "         0  1  2 "
      ]
     },
     "execution_count": 4,
     "metadata": {},
     "output_type": "execute_result"
    }
   ],
   "source": [
    "size_eig = 3\n",
    "size_phi = 2\n",
    "\n",
    "eig = QuantumRegister(size_eig, name=\"eig\")\n",
    "phi = QuantumRegister(size_phi, name=\"phi\")\n",
    "ceig = ClassicalRegister(size_eig, name=\"ceig\")\n",
    "qc = QuantumCircuit(eig,phi,ceig)\n",
    "\n",
    "\n",
    "\n",
    "# To fill in\n",
    "\n",
    "# C-U, C-U^2, C-U^4\n",
    "\n",
    "qc.measure(eig,ceig)\n",
    "\n",
    "qc.draw()\n",
    "\n",
    "# First, make sure that the drawing is OK."
   ]
  },
  {
   "cell_type": "code",
   "execution_count": 7,
   "metadata": {},
   "outputs": [
    {
     "data": {
      "text/plain": [
       "{'000': 1024}"
      ]
     },
     "execution_count": 7,
     "metadata": {},
     "output_type": "execute_result"
    }
   ],
   "source": [
    "# Then run the backend !\n",
    "\n",
    "simulator = AerSimulator()\n",
    "job = simulator.run(qc.decompose(reps=6), shots=1024)\n",
    "res = dict(job.result().get_counts(qc))\n",
    "res"
   ]
  },
  {
   "cell_type": "markdown",
   "metadata": {},
   "source": [
    "### Q 2.3 Exact result\n",
    "\n",
    "- (a) Is it the expected result ?\n",
    "- (b) Change the $\\frac68$ of the phase of $U$: use $\\frac18$, then $\\frac28$... Is QPE returning the correct answer?\n",
    "- (c) Change the precision : use $4$ qubits for `eig`, and change the fraction in the phase of $U$ to $\\frac{10}{16}$ : is QPE indeed returning $10$ in binary ?\n",
    "- (d) Move to $5$ bits of précision: is it still working ?"
   ]
  },
  {
   "cell_type": "markdown",
   "metadata": {},
   "source": [
    "#### Give answers and explanations in the separate report "
   ]
  },
  {
   "cell_type": "markdown",
   "metadata": {},
   "source": [
    "### Q 2.4 Approximate result\n",
    "\n",
    "Use  $\\frac13$ in the phase of $U$:\n",
    "- With 3 bits of precision\n",
    "- With 4 bits of precision\n",
    "- With 5 bits of precision\n",
    "\n",
    "**Question** What do you observe? Can you explain it? What do you read?"
   ]
  },
  {
   "cell_type": "markdown",
   "metadata": {},
   "source": [
    "#### Give answers and explanations in the separate report "
   ]
  },
  {
   "cell_type": "markdown",
   "metadata": {},
   "source": [
    "### Q 2.5 Superposition\n",
    "\n",
    "We saw that the circuit of QPE has no problem with a superposition of eigenvectors. Try to change the initialization of `phi` with \n",
    "$$\n",
    "\\frac1{\\sqrt2}(|\\phi_1\\rangle + |\\phi_2\\rangle),\n",
    "$$\n",
    "two eigenvectors of $U$ (one with trivial eigenvalue, the other one non-trivial).\n",
    "\n",
    "Also measure the register `phi` at the end of the circuit, and analyze the result: can you explain what you see?\n",
    "\n",
    "Try this experiment with phase $\\frac38$ and $\\frac13$."
   ]
  },
  {
   "cell_type": "markdown",
   "metadata": {},
   "source": [
    "#### Give answers and explanations in the separate report "
   ]
  },
  {
   "cell_type": "code",
   "execution_count": null,
   "metadata": {},
   "outputs": [],
   "source": []
  }
 ],
 "metadata": {
  "kernelspec": {
   "display_name": "Python 3 (ipykernel)",
   "language": "python",
   "name": "python3"
  },
  "language_info": {
   "codemirror_mode": {
    "name": "ipython",
    "version": 3
   },
   "file_extension": ".py",
   "mimetype": "text/x-python",
   "name": "python",
   "nbconvert_exporter": "python",
   "pygments_lexer": "ipython3",
   "version": "3.12.6"
  }
 },
 "nbformat": 4,
 "nbformat_minor": 4
}
