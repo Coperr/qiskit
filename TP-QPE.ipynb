{
  "cells": [
    {
      "cell_type": "markdown",
      "metadata": {
        "id": "c1azJhQBTq8F"
      },
      "source": [
        "# Part 1 : Implementing QPE\n",
        "\n",
        "## To hand out\n",
        "\n",
        "1. A **report** with your answers in a **PDF FILE** (made out of LaTeX, libreoffice, ...)\n",
        "  * Math and text answers\n",
        "  * The code for the circuits\n",
        "  * Screenshot of figures/circuits\n",
        "  * python answers and results of runs\n",
        "  * *etc*\n",
        "  \n",
        "2. **This notebook**\n",
        "  * as a runnable script\n",
        "\n",
        "But first, some libraries to load (nothing to modify here)"
      ]
    },
    {
      "cell_type": "code",
      "execution_count": 1,
      "metadata": {
        "id": "Qou4jCBJTq8M",
        "outputId": "02394b64-12bd-4785-e659-f5db76fc8ab8",
        "colab": {
          "base_uri": "https://localhost:8080/"
        }
      },
      "outputs": [
        {
          "output_type": "stream",
          "name": "stdout",
          "text": [
            "Requirement already satisfied: matplotlib in /usr/local/lib/python3.10/dist-packages (3.7.1)\n",
            "Collecting pylatexenc\n",
            "  Downloading pylatexenc-2.10.tar.gz (162 kB)\n",
            "\u001b[2K     \u001b[90m━━━━━━━━━━━━━━━━━━━━━━━━━━━━━━━━━━━━━━━━\u001b[0m \u001b[32m162.6/162.6 kB\u001b[0m \u001b[31m2.5 MB/s\u001b[0m eta \u001b[36m0:00:00\u001b[0m\n",
            "\u001b[?25h  Preparing metadata (setup.py) ... \u001b[?25l\u001b[?25hdone\n",
            "Requirement already satisfied: contourpy>=1.0.1 in /usr/local/lib/python3.10/dist-packages (from matplotlib) (1.3.0)\n",
            "Requirement already satisfied: cycler>=0.10 in /usr/local/lib/python3.10/dist-packages (from matplotlib) (0.12.1)\n",
            "Requirement already satisfied: fonttools>=4.22.0 in /usr/local/lib/python3.10/dist-packages (from matplotlib) (4.54.1)\n",
            "Requirement already satisfied: kiwisolver>=1.0.1 in /usr/local/lib/python3.10/dist-packages (from matplotlib) (1.4.7)\n",
            "Requirement already satisfied: numpy>=1.20 in /usr/local/lib/python3.10/dist-packages (from matplotlib) (1.26.4)\n",
            "Requirement already satisfied: packaging>=20.0 in /usr/local/lib/python3.10/dist-packages (from matplotlib) (24.1)\n",
            "Requirement already satisfied: pillow>=6.2.0 in /usr/local/lib/python3.10/dist-packages (from matplotlib) (10.4.0)\n",
            "Requirement already satisfied: pyparsing>=2.3.1 in /usr/local/lib/python3.10/dist-packages (from matplotlib) (3.1.4)\n",
            "Requirement already satisfied: python-dateutil>=2.7 in /usr/local/lib/python3.10/dist-packages (from matplotlib) (2.8.2)\n",
            "Requirement already satisfied: six>=1.5 in /usr/local/lib/python3.10/dist-packages (from python-dateutil>=2.7->matplotlib) (1.16.0)\n",
            "Building wheels for collected packages: pylatexenc\n",
            "  Building wheel for pylatexenc (setup.py) ... \u001b[?25l\u001b[?25hdone\n",
            "  Created wheel for pylatexenc: filename=pylatexenc-2.10-py3-none-any.whl size=136817 sha256=fb77ec0ac2e6c04908ab5532e3cff3e39cab9d1fb4ad015b33be420521531c5f\n",
            "  Stored in directory: /root/.cache/pip/wheels/d3/31/8b/e09b0386afd80cfc556c00408c9aeea5c35c4d484a9c762fd5\n",
            "Successfully built pylatexenc\n",
            "Installing collected packages: pylatexenc\n",
            "Successfully installed pylatexenc-2.10\n",
            "Collecting qiskit\n",
            "  Downloading qiskit-1.2.4-cp38-abi3-manylinux_2_17_x86_64.manylinux2014_x86_64.whl.metadata (12 kB)\n",
            "Collecting qiskit-aer\n",
            "  Downloading qiskit_aer-0.15.1-cp310-cp310-manylinux_2_17_x86_64.manylinux2014_x86_64.whl.metadata (8.0 kB)\n",
            "Collecting rustworkx>=0.15.0 (from qiskit)\n",
            "  Downloading rustworkx-0.15.1-cp38-abi3-manylinux_2_17_x86_64.manylinux2014_x86_64.whl.metadata (9.9 kB)\n",
            "Requirement already satisfied: numpy<3,>=1.17 in /usr/local/lib/python3.10/dist-packages (from qiskit) (1.26.4)\n",
            "Requirement already satisfied: scipy>=1.5 in /usr/local/lib/python3.10/dist-packages (from qiskit) (1.13.1)\n",
            "Requirement already satisfied: sympy>=1.3 in /usr/local/lib/python3.10/dist-packages (from qiskit) (1.13.3)\n",
            "Collecting dill>=0.3 (from qiskit)\n",
            "  Downloading dill-0.3.9-py3-none-any.whl.metadata (10 kB)\n",
            "Requirement already satisfied: python-dateutil>=2.8.0 in /usr/local/lib/python3.10/dist-packages (from qiskit) (2.8.2)\n",
            "Collecting stevedore>=3.0.0 (from qiskit)\n",
            "  Downloading stevedore-5.3.0-py3-none-any.whl.metadata (2.3 kB)\n",
            "Requirement already satisfied: typing-extensions in /usr/local/lib/python3.10/dist-packages (from qiskit) (4.12.2)\n",
            "Collecting symengine<0.14,>=0.11 (from qiskit)\n",
            "  Downloading symengine-0.13.0-cp310-cp310-manylinux_2_17_x86_64.manylinux2014_x86_64.whl.metadata (1.2 kB)\n",
            "Requirement already satisfied: psutil>=5 in /usr/local/lib/python3.10/dist-packages (from qiskit-aer) (5.9.5)\n",
            "Requirement already satisfied: six>=1.5 in /usr/local/lib/python3.10/dist-packages (from python-dateutil>=2.8.0->qiskit) (1.16.0)\n",
            "Collecting pbr>=2.0.0 (from stevedore>=3.0.0->qiskit)\n",
            "  Downloading pbr-6.1.0-py2.py3-none-any.whl.metadata (3.4 kB)\n",
            "Requirement already satisfied: mpmath<1.4,>=1.1.0 in /usr/local/lib/python3.10/dist-packages (from sympy>=1.3->qiskit) (1.3.0)\n",
            "Downloading qiskit-1.2.4-cp38-abi3-manylinux_2_17_x86_64.manylinux2014_x86_64.whl (4.8 MB)\n",
            "\u001b[2K   \u001b[90m━━━━━━━━━━━━━━━━━━━━━━━━━━━━━━━━━━━━━━━━\u001b[0m \u001b[32m4.8/4.8 MB\u001b[0m \u001b[31m32.1 MB/s\u001b[0m eta \u001b[36m0:00:00\u001b[0m\n",
            "\u001b[?25hDownloading qiskit_aer-0.15.1-cp310-cp310-manylinux_2_17_x86_64.manylinux2014_x86_64.whl (12.3 MB)\n",
            "\u001b[2K   \u001b[90m━━━━━━━━━━━━━━━━━━━━━━━━━━━━━━━━━━━━━━━━\u001b[0m \u001b[32m12.3/12.3 MB\u001b[0m \u001b[31m54.9 MB/s\u001b[0m eta \u001b[36m0:00:00\u001b[0m\n",
            "\u001b[?25hDownloading dill-0.3.9-py3-none-any.whl (119 kB)\n",
            "\u001b[2K   \u001b[90m━━━━━━━━━━━━━━━━━━━━━━━━━━━━━━━━━━━━━━━━\u001b[0m \u001b[32m119.4/119.4 kB\u001b[0m \u001b[31m9.7 MB/s\u001b[0m eta \u001b[36m0:00:00\u001b[0m\n",
            "\u001b[?25hDownloading rustworkx-0.15.1-cp38-abi3-manylinux_2_17_x86_64.manylinux2014_x86_64.whl (2.0 MB)\n",
            "\u001b[2K   \u001b[90m━━━━━━━━━━━━━━━━━━━━━━━━━━━━━━━━━━━━━━━━\u001b[0m \u001b[32m2.0/2.0 MB\u001b[0m \u001b[31m59.7 MB/s\u001b[0m eta \u001b[36m0:00:00\u001b[0m\n",
            "\u001b[?25hDownloading stevedore-5.3.0-py3-none-any.whl (49 kB)\n",
            "\u001b[2K   \u001b[90m━━━━━━━━━━━━━━━━━━━━━━━━━━━━━━━━━━━━━━━━\u001b[0m \u001b[32m49.7/49.7 kB\u001b[0m \u001b[31m3.4 MB/s\u001b[0m eta \u001b[36m0:00:00\u001b[0m\n",
            "\u001b[?25hDownloading symengine-0.13.0-cp310-cp310-manylinux_2_17_x86_64.manylinux2014_x86_64.whl (49.7 MB)\n",
            "\u001b[2K   \u001b[90m━━━━━━━━━━━━━━━━━━━━━━━━━━━━━━━━━━━━━━━━\u001b[0m \u001b[32m49.7/49.7 MB\u001b[0m \u001b[31m13.4 MB/s\u001b[0m eta \u001b[36m0:00:00\u001b[0m\n",
            "\u001b[?25hDownloading pbr-6.1.0-py2.py3-none-any.whl (108 kB)\n",
            "\u001b[2K   \u001b[90m━━━━━━━━━━━━━━━━━━━━━━━━━━━━━━━━━━━━━━━━\u001b[0m \u001b[32m108.5/108.5 kB\u001b[0m \u001b[31m8.9 MB/s\u001b[0m eta \u001b[36m0:00:00\u001b[0m\n",
            "\u001b[?25hInstalling collected packages: symengine, rustworkx, pbr, dill, stevedore, qiskit, qiskit-aer\n",
            "Successfully installed dill-0.3.9 pbr-6.1.0 qiskit-1.2.4 qiskit-aer-0.15.1 rustworkx-0.15.1 stevedore-5.3.0 symengine-0.13.0\n"
          ]
        }
      ],
      "source": [
        "import numpy as np\n",
        "from math import pi, gcd\n",
        "try:\n",
        "    from qiskit import *\n",
        "    from qiskit_aer import AerSimulator\n",
        "    from matplotlib.pyplot import plot,show\n",
        "except:\n",
        "    ! python -m pip install matplotlib pylatexenc\n",
        "    ! python -m pip install qiskit qiskit-aer\n",
        "from qiskit import *\n",
        "from qiskit.circuit import *\n",
        "from qiskit_aer import AerSimulator\n",
        "from qiskit.circuit.library import *\n",
        "from qiskit.quantum_info.operators import Operator\n",
        "from qiskit.compiler import transpile\n",
        "from qiskit.transpiler import PassManager\n",
        "from scipy import optimize\n",
        "from matplotlib.pyplot import plot,show\n",
        "%matplotlib inline\n",
        "%config InlineBackend.figure_format = 'svg' # Makes the images look nice"
      ]
    },
    {
      "cell_type": "markdown",
      "metadata": {
        "id": "SiDW7CIHTq8N"
      },
      "source": [
        "# 0 - Before anything else\n",
        "\n",
        "### Make sure you checked the notebook TP-Intro-QisKit\n",
        "\n",
        "\n",
        "# 1 - Small practice\n",
        "\n",
        "To start, check that when we measure $\\frac1{\\sqrt2}(|000\\rangle+|111\\rangle)$ we indeed get 000 and 111 about the same number of times."
      ]
    },
    {
      "cell_type": "code",
      "execution_count": 9,
      "metadata": {
        "id": "CuGPMjgRTq8O",
        "outputId": "19302501-0b2c-47a8-c584-dbf4fb6ebccf",
        "colab": {
          "base_uri": "https://localhost:8080/",
          "height": 156
        }
      },
      "outputs": [
        {
          "output_type": "execute_result",
          "data": {
            "text/plain": [
              "      ┌───┐             ┌─┐   \n",
              "q8_0: ┤ H ├──■────■─────┤M├───\n",
              "      └───┘┌─┴─┐  │  ┌─┐└╥┘   \n",
              "q8_1: ─────┤ X ├──┼──┤M├─╫────\n",
              "           └───┘┌─┴─┐└╥┘ ║ ┌─┐\n",
              "q8_2: ──────────┤ X ├─╫──╫─┤M├\n",
              "                └───┘ ║  ║ └╥┘\n",
              "c7: 3/════════════════╩══╩══╩═\n",
              "                      1  0  2 "
            ],
            "text/html": [
              "<pre style=\"word-wrap: normal;white-space: pre;background: #fff0;line-height: 1.1;font-family: &quot;Courier New&quot;,Courier,monospace\">      ┌───┐             ┌─┐   \n",
              "q8_0: ┤ H ├──■────■─────┤M├───\n",
              "      └───┘┌─┴─┐  │  ┌─┐└╥┘   \n",
              "q8_1: ─────┤ X ├──┼──┤M├─╫────\n",
              "           └───┘┌─┴─┐└╥┘ ║ ┌─┐\n",
              "q8_2: ──────────┤ X ├─╫──╫─┤M├\n",
              "                └───┘ ║  ║ └╥┘\n",
              "c7: 3/════════════════╩══╩══╩═\n",
              "                      1  0  2 </pre>"
            ]
          },
          "metadata": {},
          "execution_count": 9
        }
      ],
      "source": [
        "# Generating the circuit\n",
        "\n",
        "q = QuantumRegister(3)   # We need 3 qubits..\n",
        "c = ClassicalRegister(3) # ... and 3 bits to store the results\n",
        "qc = QuantumCircuit(q,c) # the circuit !\n",
        "\n",
        "# TODO : realize the circ that build 1/sqrt(2)(|000>+|111>)\n",
        "# TODO : add a measurement of the memory at the end\n",
        "# TODO : check TP-Intro-QisKit to get how to do it !\n",
        "\n",
        "qc.h(q[0])\n",
        "qc.cx(q[0], q[1])\n",
        "qc.cx(q[0], q[2])\n",
        "\n",
        "qc.measure(q, c)\n",
        "\n",
        "simulator = AerSimulator()\n",
        "\n",
        "job = simulator.run(qc, shots=1000)\n",
        "\n",
        "res = dict(job.result().get_counts(qc))\n",
        "\n",
        "res\n",
        "\n",
        "qc.draw()\n",
        "\n",
        "# TODO : IN REPORT : perform 1000 runs and explain what you see\n",
        "# TODO : print circuit with qc.draw() and screenshot it in the report"
      ]
    },
    {
      "cell_type": "markdown",
      "metadata": {
        "id": "U-bn5aZ9Tq8P"
      },
      "source": [
        "#### Write record what you did and what you see in the separate report"
      ]
    },
    {
      "cell_type": "markdown",
      "metadata": {
        "id": "PEDFdVb0Tq8P"
      },
      "source": [
        "# 2 - QPE\n",
        "\n",
        "We've seen the QPE algorithm in the course, and you checked it worked with 3 qubits. Here we are going to implement it with the following unitary:"
      ]
    },
    {
      "cell_type": "code",
      "execution_count": 21,
      "metadata": {
        "id": "dCr9M0p8Tq8Q"
      },
      "outputs": [],
      "source": [
        "U = UnitaryGate(\n",
        "    Operator([[1,0,0,0],\n",
        "              [0,1,0,0],\n",
        "              [0,0,1,0],\n",
        "              [0,0,0,np.exp(pi*2j*(6/8))]]), label=\"U\")"
      ]
    },
    {
      "cell_type": "markdown",
      "metadata": {
        "id": "5IXrYUJpTq8R"
      },
      "source": [
        "## Questions\n",
        "\n",
        "###  Q 2.1 Math questions\n",
        "\n",
        "* What is doing this operator ? (`2j` is in Python the complex number $2\\cdot i$)\n",
        "* On how many qubits does it act ?\n",
        "* What are its eigenvalues/eigenvectors ?\n",
        "* For each eigenvector, what should QPE return with 3 bits of precisions, as seen in the course ?\n",
        "\n",
        "#### Give answers and explanations in the separate report"
      ]
    },
    {
      "cell_type": "markdown",
      "metadata": {
        "id": "CVDDJ8vpTq8R"
      },
      "source": [
        "### Q 2.2 Implementing QPE\n",
        "\n",
        "Below a template to fill in for\n",
        "- realize QPE with 3 bits of precision.\n",
        "- on the eigenvector of non-trivial eigenvalue\n",
        "\n",
        "We initialized a quantum circuit with 3 registers:\n",
        " - `eig` for storing the eigenvalues\n",
        " - `phi` for storing the eigenvector\n",
        " - `ceig` for storing the result of the measurement of the eigenvalue-register.\n",
        "\n",
        "Note that we only need to measure the eigenvalues!\n",
        "\n",
        "What you will need:\n",
        " - `QFT(size)` build for you a QFT on `size` qubits.\n",
        " - `U.control()` for controlling a gate `U`. The control qubit should be placed first in the list of wires.\n",
        " - `U.inverse()` for the inverse of the gate `U`.\n",
        " - `U.power(p)` add `p` times `U` on the circuit.\n",
        " - `qc.append(U, list_of_qubits)` applies the gate `U` on the list of qubits.\n",
        " - Beware : `phi` (for instance) is not a list but a register. So if you want to concatenate it with something else, you first have to make a list out of it with `list(phi)`."
      ]
    },
    {
      "cell_type": "code",
      "execution_count": 22,
      "metadata": {
        "id": "pgWp1xYsTq8S",
        "outputId": "7aa71264-7276-4923-a0b2-b2f868adc3e2",
        "colab": {
          "base_uri": "https://localhost:8080/",
          "height": 217
        }
      },
      "outputs": [
        {
          "output_type": "execute_result",
          "data": {
            "text/plain": [
              "        ┌───┐                                ┌──────────────┐┌───────┐┌─┐      \n",
              " eig_0: ┤ H ├────────────────────────────────┤0             ├┤0      ├┤M├──────\n",
              "        ├───┤                ┌──────────────┐│              ││       │└╥┘┌─┐   \n",
              " eig_1: ┤ H ├────────────────┤0             ├┤              ├┤1 IQFT ├─╫─┤M├───\n",
              "        ├───┤┌──────────────┐│              ││              ││       │ ║ └╥┘┌─┐\n",
              " eig_2: ┤ H ├┤0             ├┤              ├┤  c-unitary^4 ├┤2      ├─╫──╫─┤M├\n",
              "        ├───┤│              ││  c-unitary^2 ││              │└───────┘ ║  ║ └╥┘\n",
              " phi_0: ┤ X ├┤1 c-unitary^1 ├┤1             ├┤1             ├──────────╫──╫──╫─\n",
              "        ├───┤│              ││              ││              │          ║  ║  ║ \n",
              " phi_1: ┤ X ├┤2             ├┤2             ├┤2             ├──────────╫──╫──╫─\n",
              "        └───┘└──────────────┘└──────────────┘└──────────────┘          ║  ║  ║ \n",
              "ceig: 3/═══════════════════════════════════════════════════════════════╩══╩══╩═\n",
              "                                                                       0  1  2 "
            ],
            "text/html": [
              "<pre style=\"word-wrap: normal;white-space: pre;background: #fff0;line-height: 1.1;font-family: &quot;Courier New&quot;,Courier,monospace\">        ┌───┐                                ┌──────────────┐┌───────┐┌─┐      \n",
              " eig_0: ┤ H ├────────────────────────────────┤0             ├┤0      ├┤M├──────\n",
              "        ├───┤                ┌──────────────┐│              ││       │└╥┘┌─┐   \n",
              " eig_1: ┤ H ├────────────────┤0             ├┤              ├┤1 IQFT ├─╫─┤M├───\n",
              "        ├───┤┌──────────────┐│              ││              ││       │ ║ └╥┘┌─┐\n",
              " eig_2: ┤ H ├┤0             ├┤              ├┤  c-unitary^4 ├┤2      ├─╫──╫─┤M├\n",
              "        ├───┤│              ││  c-unitary^2 ││              │└───────┘ ║  ║ └╥┘\n",
              " phi_0: ┤ X ├┤1 c-unitary^1 ├┤1             ├┤1             ├──────────╫──╫──╫─\n",
              "        ├───┤│              ││              ││              │          ║  ║  ║ \n",
              " phi_1: ┤ X ├┤2             ├┤2             ├┤2             ├──────────╫──╫──╫─\n",
              "        └───┘└──────────────┘└──────────────┘└──────────────┘          ║  ║  ║ \n",
              "ceig: 3/═══════════════════════════════════════════════════════════════╩══╩══╩═\n",
              "                                                                       0  1  2 </pre>"
            ]
          },
          "metadata": {},
          "execution_count": 22
        }
      ],
      "source": [
        "size_eig = 3\n",
        "size_phi = 2\n",
        "\n",
        "eig = QuantumRegister(size_eig, name=\"eig\")\n",
        "phi = QuantumRegister(size_phi, name=\"phi\")\n",
        "ceig = ClassicalRegister(size_eig, name=\"ceig\")\n",
        "qc = QuantumCircuit(eig,phi,ceig)\n",
        "\n",
        "qc.x(phi)\n",
        "\n",
        "for i in range(size_eig):\n",
        "    qc.h(eig[i])\n",
        "\n",
        "controlled_U = U.control()\n",
        "qc.append(controlled_U.power(1), [eig[2]] + list(phi))\n",
        "qc.append(controlled_U.power(2), [eig[1]] + list(phi))\n",
        "qc.append(controlled_U.power(4), [eig[0]] + list(phi))\n",
        "\n",
        "qc.append(QFT(size_eig).inverse(), eig)\n",
        "\n",
        "# To fill in\n",
        "\n",
        "# C-U, C-U^2, C-U^4\n",
        "\n",
        "qc.measure(eig,ceig)\n",
        "\n",
        "qc.draw()\n",
        "\n",
        "# First, make sure that the drawing is OK."
      ]
    },
    {
      "cell_type": "code",
      "execution_count": 23,
      "metadata": {
        "id": "40dv7-tnTq8U",
        "outputId": "9a843651-2e38-4b02-ca20-130c0078a8df",
        "colab": {
          "base_uri": "https://localhost:8080/"
        }
      },
      "outputs": [
        {
          "output_type": "execute_result",
          "data": {
            "text/plain": [
              "{'101': 32, '011': 39, '111': 229, '010': 244, '110': 273, '001': 207}"
            ]
          },
          "metadata": {},
          "execution_count": 23
        }
      ],
      "source": [
        "# Then run the backend !\n",
        "\n",
        "simulator = AerSimulator()\n",
        "job = simulator.run(qc.decompose(reps=6), shots=1024)\n",
        "res = dict(job.result().get_counts(qc))\n",
        "res"
      ]
    },
    {
      "cell_type": "markdown",
      "metadata": {
        "id": "QhGMxUraTq8U"
      },
      "source": [
        "### Q 2.3 Exact result\n",
        "\n",
        "- (a) Is it the expected result ?\n",
        "- (b) Change the $\\frac68$ of the phase of $U$: use $\\frac18$, then $\\frac28$... Is QPE returning the correct answer?\n",
        "- (c) Change the precision : use $4$ qubits for `eig`, and change the fraction in the phase of $U$ to $\\frac{10}{16}$ : is QPE indeed returning $10$ in binary ?\n",
        "- (d) Move to $5$ bits of précision: is it still working ?"
      ]
    },
    {
      "cell_type": "markdown",
      "metadata": {
        "id": "06Bx8GTSTq8V"
      },
      "source": [
        "#### Give answers and explanations in the separate report"
      ]
    },
    {
      "cell_type": "markdown",
      "metadata": {
        "id": "96n9yvnPTq8V"
      },
      "source": [
        "### Q 2.4 Approximate result\n",
        "\n",
        "Use  $\\frac13$ in the phase of $U$:\n",
        "- With 3 bits of precision\n",
        "- With 4 bits of precision\n",
        "- With 5 bits of precision\n",
        "\n",
        "**Question** What do you observe? Can you explain it? What do you read?"
      ]
    },
    {
      "cell_type": "markdown",
      "metadata": {
        "id": "HZNVc20KTq8V"
      },
      "source": [
        "#### Give answers and explanations in the separate report"
      ]
    },
    {
      "cell_type": "markdown",
      "metadata": {
        "id": "qum5_AXVTq8V"
      },
      "source": [
        "### Q 2.5 Superposition\n",
        "\n",
        "We saw that the circuit of QPE has no problem with a superposition of eigenvectors. Try to change the initialization of `phi` with\n",
        "$$\n",
        "\\frac1{\\sqrt2}(|\\phi_1\\rangle + |\\phi_2\\rangle),\n",
        "$$\n",
        "two eigenvectors of $U$ (one with trivial eigenvalue, the other one non-trivial).\n",
        "\n",
        "Also measure the register `phi` at the end of the circuit, and analyze the result: can you explain what you see?\n",
        "\n",
        "Try this experiment with phase $\\frac38$ and $\\frac13$."
      ]
    },
    {
      "cell_type": "markdown",
      "metadata": {
        "id": "be7qPsy6Tq8V"
      },
      "source": [
        "#### Give answers and explanations in the separate report"
      ]
    },
    {
      "cell_type": "code",
      "execution_count": null,
      "metadata": {
        "id": "eq68aN0ATq8W"
      },
      "outputs": [],
      "source": []
    }
  ],
  "metadata": {
    "kernelspec": {
      "display_name": "Python 3 (ipykernel)",
      "language": "python",
      "name": "python3"
    },
    "language_info": {
      "codemirror_mode": {
        "name": "ipython",
        "version": 3
      },
      "file_extension": ".py",
      "mimetype": "text/x-python",
      "name": "python",
      "nbconvert_exporter": "python",
      "pygments_lexer": "ipython3",
      "version": "3.12.6"
    },
    "colab": {
      "provenance": []
    }
  },
  "nbformat": 4,
  "nbformat_minor": 0
}